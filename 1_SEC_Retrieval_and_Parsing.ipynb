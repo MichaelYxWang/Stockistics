{
  "nbformat": 4,
  "nbformat_minor": 0,
  "metadata": {
    "colab": {
      "name": "1_SEC_Retrieval_and_Parsing.ipynb",
      "provenance": [],
      "collapsed_sections": []
    },
    "kernelspec": {
      "name": "python3",
      "display_name": "Python 3"
    }
  },
  "cells": [
    {
      "cell_type": "markdown",
      "metadata": {
        "id": "gf6lUfhCjKgW",
        "colab_type": "text"
      },
      "source": [
        "## Imports"
      ]
    },
    {
      "cell_type": "code",
      "metadata": {
        "id": "CZJXgCjDiCvD",
        "colab_type": "code",
        "outputId": "ea09699c-c9c5-4b53-ab51-4d649d54b434",
        "colab": {
          "base_uri": "https://localhost:8080/",
          "height": 156
        }
      },
      "source": [
        "!pip install sec-edgar-downloader"
      ],
      "execution_count": 0,
      "outputs": [
        {
          "output_type": "stream",
          "text": [
            "Requirement already satisfied: sec-edgar-downloader in /usr/local/lib/python3.6/dist-packages (3.0.2)\n",
            "Requirement already satisfied: requests>=2.22.0 in /usr/local/lib/python3.6/dist-packages (from sec-edgar-downloader) (2.23.0)\n",
            "Requirement already satisfied: lxml>=4.3.4 in /usr/local/lib/python3.6/dist-packages (from sec-edgar-downloader) (4.5.0)\n",
            "Requirement already satisfied: urllib3!=1.25.0,!=1.25.1,<1.26,>=1.21.1 in /usr/local/lib/python3.6/dist-packages (from requests>=2.22.0->sec-edgar-downloader) (1.24.3)\n",
            "Requirement already satisfied: chardet<4,>=3.0.2 in /usr/local/lib/python3.6/dist-packages (from requests>=2.22.0->sec-edgar-downloader) (3.0.4)\n",
            "Requirement already satisfied: certifi>=2017.4.17 in /usr/local/lib/python3.6/dist-packages (from requests>=2.22.0->sec-edgar-downloader) (2019.11.28)\n",
            "Requirement already satisfied: idna<3,>=2.5 in /usr/local/lib/python3.6/dist-packages (from requests>=2.22.0->sec-edgar-downloader) (2.8)\n"
          ],
          "name": "stdout"
        }
      ]
    },
    {
      "cell_type": "code",
      "metadata": {
        "id": "wqBE6cUJiLjA",
        "colab_type": "code",
        "colab": {}
      },
      "source": [
        "import sec_edgar_downloader\n",
        "import google.colab as colab\n",
        "import shutil\n",
        "import os\n",
        "import pandas as pd\n",
        "import random\n",
        "import numpy as np\n",
        "\n",
        "import re\n",
        "import requests\n",
        "import unicodedata\n",
        "from bs4 import BeautifulSoup"
      ],
      "execution_count": 0,
      "outputs": []
    },
    {
      "cell_type": "markdown",
      "metadata": {
        "id": "LZ3xk-0Dczdg",
        "colab_type": "text"
      },
      "source": [
        "### Mount Google Drive"
      ]
    },
    {
      "cell_type": "code",
      "metadata": {
        "id": "QxIyTxXml65l",
        "colab_type": "code",
        "colab": {}
      },
      "source": [
        "def mount_google_drive():\n",
        "\t'''\n",
        "\t# Functionality\n",
        "\t\tMount google drive. Since colab does not save files, we want to make it easier to directly access files in google drive.\n",
        "\t# Arguments\n",
        "\t\tNothing\n",
        "\t# Returns\n",
        "\t\tdrive_root: the working directory mounted\n",
        "\t'''\n",
        "\tmount_directory = \"/content/gdrive\"\n",
        "\tdrive = colab.drive\n",
        "\tdrive.mount(mount_directory, force_remount=True)\n",
        "\tdrive_root = mount_directory + \"/\" + list(filter(lambda x: x[0] != '.', os.listdir(mount_directory)))[0]\n",
        "\treturn drive_root\n",
        "\n",
        "def get_all_files_from_dir(directory):\n",
        "\n",
        "    '''\n",
        "    # Functionality\n",
        "    Get the whole list of files in a folder\n",
        "\t# Arguments\n",
        "\t\tdirectory: string.  (e.g.,Users/laowang/~vgg/data/flowers/102/102flowers.tgz)\n",
        "\t# Returns\n",
        "\t\tNone\n",
        "\t'''\n",
        "    file_paths = []\n",
        "    for root, dirs, files in os.walk(directory):\n",
        "        file_paths += [os.path.join(root, x) for x in files]\n",
        "    return sorted(file_paths)"
      ],
      "execution_count": 0,
      "outputs": []
    },
    {
      "cell_type": "code",
      "metadata": {
        "id": "X4LE1Ewyc4tD",
        "colab_type": "code",
        "outputId": "7010298f-c6f4-4940-8437-61b80bed5e88",
        "colab": {
          "base_uri": "https://localhost:8080/",
          "height": 51
        }
      },
      "source": [
        "ROOT_DIR =  mount_google_drive() + \"/ECE457B-Project/\"\n",
        "DATASET_DIR = ROOT_DIR + \"sec8ks/\"\n",
        "print(DATASET_DIR)"
      ],
      "execution_count": 0,
      "outputs": [
        {
          "output_type": "stream",
          "text": [
            "Mounted at /content/gdrive\n",
            "/content/gdrive/My Drive/ECE457B-Project/sec8ks/\n"
          ],
          "name": "stdout"
        }
      ]
    },
    {
      "cell_type": "markdown",
      "metadata": {
        "id": "SeuhKT-oo3f_",
        "colab_type": "text"
      },
      "source": [
        "## Retrieval from Internet"
      ]
    },
    {
      "cell_type": "code",
      "metadata": {
        "id": "5D6dihpmixdI",
        "colab_type": "code",
        "colab": {}
      },
      "source": [
        "downloader = sec_edgar_downloader.Downloader(DATASET_DIR)"
      ],
      "execution_count": 0,
      "outputs": []
    },
    {
      "cell_type": "code",
      "metadata": {
        "id": "CGskoBlkickN",
        "colab_type": "code",
        "outputId": "99294ce8-302b-4734-b9a9-2302ba619ba0",
        "colab": {
          "base_uri": "https://localhost:8080/",
          "height": 34
        }
      },
      "source": [
        "downloader.get(\"8-K\", \"CRM\", after_date=\"20100101\", before_date=\"20200220\")"
      ],
      "execution_count": 0,
      "outputs": [
        {
          "output_type": "execute_result",
          "data": {
            "text/plain": [
              "142"
            ]
          },
          "metadata": {
            "tags": []
          },
          "execution_count": 15
        }
      ]
    },
    {
      "cell_type": "code",
      "metadata": {
        "id": "RqGIdzNjJwzG",
        "colab_type": "code",
        "outputId": "b83a9776-e450-4dc0-8811-f5db58070852",
        "colab": {
          "base_uri": "https://localhost:8080/",
          "height": 34
        }
      },
      "source": [
        "len(get_all_files_from_dir(DATASET_DIR))"
      ],
      "execution_count": 0,
      "outputs": [
        {
          "output_type": "execute_result",
          "data": {
            "text/plain": [
              "93"
            ]
          },
          "metadata": {
            "tags": []
          },
          "execution_count": 16
        }
      ]
    },
    {
      "cell_type": "markdown",
      "metadata": {
        "id": "0cC7r1h-_NLD",
        "colab_type": "text"
      },
      "source": [
        "## Parse 8-k reports"
      ]
    },
    {
      "cell_type": "code",
      "metadata": {
        "id": "l1nECWvfXoIf",
        "colab_type": "code",
        "colab": {}
      },
      "source": [
        "def extract_fin_info(file_name):\n",
        "  with open(file_name, \"r\") as f:\n",
        "    soup = BeautifulSoup(f.read(), \"html\")\n",
        "    found = False\n",
        "\n",
        "  date = str(soup.find(\"acceptance-datetime\"))[21:29]\n",
        "\n",
        "  for bold in soup.findAll('b'):\n",
        "    if str(bold).find(\"Financial Statements and Exhibits\") != -1:\n",
        "      found = True\n",
        "      break\n",
        "  if found:\n",
        "    for table in soup.findAll('table'):\n",
        "      if str(table).find(\"Description\") != -1: # Normally Item description\n",
        "        sample = pd.read_html(str(table))[0]\n",
        "        return list(sample[2].dropna()[1:]), date\n",
        "  else:\n",
        "    return \"\", date"
      ],
      "execution_count": 0,
      "outputs": []
    },
    {
      "cell_type": "code",
      "metadata": {
        "id": "9M4NtFzAXteZ",
        "colab_type": "code",
        "colab": {}
      },
      "source": [
        "results = []\n",
        "\n",
        "for file_name in get_all_files_from_dir(DATASET_DIR + \"sec_edgar_filings/CRM/\"):\n",
        "  try:\n",
        "    sentences, date = extract_fin_info(file_name)\n",
        "  except:\n",
        "    pass\n",
        "  if sentences:\n",
        "    results.append([date, \". \".join(sentences)])\n",
        " "
      ],
      "execution_count": 0,
      "outputs": []
    },
    {
      "cell_type": "code",
      "metadata": {
        "id": "WCxcf1liXtlv",
        "colab_type": "code",
        "outputId": "c9e895f8-ea28-423c-cf96-de3403f4cd1d",
        "colab": {
          "base_uri": "https://localhost:8080/",
          "height": 34
        }
      },
      "source": [
        "len(results)"
      ],
      "execution_count": 0,
      "outputs": [
        {
          "output_type": "execute_result",
          "data": {
            "text/plain": [
              "47"
            ]
          },
          "metadata": {
            "tags": []
          },
          "execution_count": 19
        }
      ]
    },
    {
      "cell_type": "code",
      "metadata": {
        "id": "xRE5iYJXmnyT",
        "colab_type": "code",
        "outputId": "fc16a80d-c8c8-4bbd-a2b3-83fbe0eb02e4",
        "colab": {
          "base_uri": "https://localhost:8080/",
          "height": 1000
        }
      },
      "source": [
        "results"
      ],
      "execution_count": 0,
      "outputs": [
        {
          "output_type": "execute_result",
          "data": {
            "text/plain": [
              "[['20100119',\n",
              "  'Indenture between salesforce.com, inc. and U.S. Bank National Association, dated as of January 19, 2010.. Purchase Agreement dated January 12, 2010 between salesforce.com, inc. and Merrill Lynch, Pierce, Fenner & Smith Incorporated, as representative of the several initial purchasers named in Schedule\\xa0A thereto.. Form of Convertible Bond Hedge Confirmation. Form of Warrant Confirmation. Press Release, dated January 19, 2010, Announcing the Closing of the Offering of the Notes.'],\n",
              " ['20100119',\n",
              "  'Indenture between salesforce.com, inc. and U.S. Bank National Association, dated as of January 19, 2010.. Purchase Agreement dated January 12, 2010 between salesforce.com, inc. and Merrill Lynch, Pierce, Fenner & Smith Incorporated, as representative of the several initial purchasers named in Schedule\\xa0A thereto.. Form of Convertible Bond Hedge Confirmation. Form of Warrant Confirmation. Press Release, dated January 19, 2010, Announcing the Closing of the Offering of the Notes.'],\n",
              " ['20100421', 'Press Release, dated April 21, 2010'],\n",
              " ['20100421', 'Press Release, dated April 21, 2010'],\n",
              " ['20101027', 'Press Release, dated October 27, 2010'],\n",
              " ['20101208',\n",
              "  'Agreement and Plan of Merger dated as of December\\xa07, 2010, by and among salesforce.com, inc., Hi\\x92iaka Acquisition Corporation, Heroku, Inc. and with respect to Articles VII, VIII and IX thereof only, John Connors as Stockholder Representative and U.S. Bank National Association as Escrow Agent.'],\n",
              " ['20101208',\n",
              "  'Agreement and Plan of Merger dated as of December\\xa07, 2010, by and among salesforce.com, inc., Hi\\x92iaka Acquisition Corporation, Heroku, Inc. and with respect to Articles VII, VIII and IX thereof only, John Connors as Stockholder Representative and U.S. Bank National Association as Escrow Agent.'],\n",
              " ['20101208',\n",
              "  'Agreement and Plan of Merger dated as of December\\xa07, 2010, by and among salesforce.com, inc., Hi\\x92iaka Acquisition Corporation, Heroku, Inc. and with respect to Articles VII, VIII and IX thereof only, John Connors as Stockholder Representative and U.S. Bank National Association as Escrow Agent.'],\n",
              " ['20110330',\n",
              "  'Share Purchase Agreement dated as of March\\xa030, 2011, by and among salesforce.com, inc., salesforce.com Canada Corporation, Radian6 Technologies Inc. and each of the shareholders of the Company, and the shareholder representative'],\n",
              " ['20110502',\n",
              "  'Share Purchase Agreement dated as of March\\xa030, 2011, by and among salesforce.com, inc., salesforce.com Canada Corporation, Radian6 Technologies Inc. and each of the Radian6 Technologies Inc. shareholders, and the shareholder representative (which is incorporated herein by reference to Exhibit 2.1 to the Company\\x92s Current Report on Form\\xa08-K (File\\xa0No. 001-32224) filed on March 30, 2011).'],\n",
              " ['20110502',\n",
              "  'Share Purchase Agreement dated as of March\\xa030, 2011, by and among salesforce.com, inc., salesforce.com Canada Corporation, Radian6 Technologies Inc. and each of the Radian6 Technologies Inc. shareholders, and the shareholder representative (which is incorporated herein by reference to Exhibit 2.1 to the Company\\x92s Current Report on Form\\xa08-K (File\\xa0No. 001-32224) filed on March 30, 2011).'],\n",
              " ['20120604',\n",
              "  'Agreement and Plan of Merger dated June 3, 2012, by and among salesforce.com, inc., Bullseye Merger Corporation, Buddy Media, Inc., and Shareholder Representative Services LLC'],\n",
              " ['20120604',\n",
              "  'Agreement and Plan of Merger dated June 3, 2012, by and among salesforce.com, inc., Bullseye Merger Corporation, Buddy Media, Inc., and Shareholder Representative Services LLC'],\n",
              " ['20120813',\n",
              "  'Agreement and Plan of Merger dated June 3, 2012, by and among salesforce.com, inc., Bullseye Merger Corporation, Buddy Media, Inc., and Shareholder Representative Services LLC'],\n",
              " ['20120813',\n",
              "  'Agreement and Plan of Merger dated June 3, 2012, by and among salesforce.com, inc., Bullseye Merger Corporation, Buddy Media, Inc., and Shareholder Representative Services LLC'],\n",
              " ['20120827',\n",
              "  'Unaudited Consolidated Statements of Comprehensive Income (Loss) For the Years Ended January\\xa031, 2012, 2011 and 2010'],\n",
              " ['20120827',\n",
              "  'Unaudited Consolidated Statements of Comprehensive Income (Loss) For the Years Ended January\\xa031, 2012, 2011 and 2010'],\n",
              " ['20130313',\n",
              "  'Press Release, dated March 11, 2013, Announcing the Proposed Offering of Convertible Senior Notes. Press Release, dated March 12, 2013, Announcing the Pricing of Convertible Senior Notes'],\n",
              " ['20130318',\n",
              "  'Indenture dated March 18, 2013 between salesforce.com, inc. and U.S. Bank National Association.. Purchase Agreement dated March\\xa012, 2013 between salesforce.com, inc. and Merrill Lynch, Pierce, Fenner & Smith Incorporated and Morgan Stanley & Co. LLC, as representatives of the several initial purchasers named in Schedule\\xa0A thereto.. Form of Convertible Bond Hedge Confirmation. Form of Warrant Confirmation'],\n",
              " ['20130321',\n",
              "  'Amended and Restated Certificate of Incorporation.. Press Release, dated March 21, 2013.'],\n",
              " ['20130604',\n",
              "  'Acquisition Agreement dated as of June 3, 2013, by and among salesforce.com, inc., ExactTarget Acquisition Corp. and ExactTarget, Inc.. Form of Support Agreement. Commitment Letter, dated as of June 3, 2013, among salesforce.com, inc., Bank of America, N.A. and Merrill Lynch, Pierce, Fenner & Smith Incorporated. Press Release dated June 4, 2013'],\n",
              " ['20130611',\n",
              "  'Amended and Restated Certificate of Incorporation of salesforce.com, inc.. Amended and Restated Bylaws of salesforce.com, inc.. Employment Offer Letter, dated May 2, 2013, between salesforce.com, inc. and Keith Black. 2013 Equity Incentive Plan and related forms of agreements. Press Release dated June 6, 2013'],\n",
              " ['20130715',\n",
              "  'Acquisition Agreement dated as of June 3, 2013, by and among salesforce.com, inc., Excalibur Acquisition Corp. and ExactTarget, Inc. (which is incorporated herein by reference to Exhibit 2.1 to the Company\\x92s Current Report on Form 8-K filed with the Commission on June 4, 2013).. Credit Agreement, dated as of July 11, 2013, by and among salesforce.com, inc., the guarantors from time to time party thereto, the lenders from time to time party thereto and Bank of America, N.A., as Administrative Agent.. Press Release dated July 12, 2013.'],\n",
              " ['20130715',\n",
              "  'Acquisition Agreement dated as of June 3, 2013, by and among salesforce.com, inc., Excalibur Acquisition Corp. and ExactTarget, Inc. (which is incorporated herein by reference to Exhibit 2.1 to the Company\\x92s Current Report on Form 8-K filed with the Commission on June 4, 2013).. Credit Agreement, dated as of July 11, 2013, by and among salesforce.com, inc., the guarantors from time to time party thereto, the lenders from time to time party thereto and Bank of America, N.A., as Administrative Agent.. Press Release dated July 12, 2013.'],\n",
              " ['20130912', 'Press Release, dated September 12, 2013'],\n",
              " ['20130912', 'Press Release, dated September 12, 2013'],\n",
              " ['20140314', 'Press Release, dated March 14, 2014'],\n",
              " ['20140411', 'Press Release dated April 11, 2014'],\n",
              " ['20140630',\n",
              "  'Employment Offer Letter, dated June 11, 2014, between salesforce.com, inc. and Mark Hawkins. Press Release dated June 30, 2014'],\n",
              " ['20140711',\n",
              "  '2014 Inducement Equity Incentive Plan and Related Forms of Equity Award Agreements'],\n",
              " ['20141208', 'Press Release, dated December 8, 2014'],\n",
              " ['20160321', 'Amended and Restated Bylaws of salesforce.com, inc.'],\n",
              " ['20160322', 'Press Release dated March 22, 2016'],\n",
              " ['20160601',\n",
              "  'Agreement and Plan of Merger, dated as of May 31, 2016, by and among salesforce.com, inc., Dynasty Acquisition Corp. and Demandware, Inc.*. Commitment Letter, dated as of May 31, 2016, by and among salesforce.com, inc., Bank of America, N.A. and Merrill Lynch, Pierce, Fenner & Smith Incorporated. Press Release dated June 1, 2016'],\n",
              " ['20160603',\n",
              "  'Amended and Restated Certificate of Incorporation of salesforce.com, inc.'],\n",
              " ['20170607',\n",
              "  'Amended and Restated 2013 Equity Incentive Plan. Amended and Restated 2004 Employee Stock Purchase Plan'],\n",
              " ['20180320',\n",
              "  'Joint Press Release issued by salesforce.com, inc. and MuleSoft, Inc., dated March\\xa020, 2018. Investor Presentation'],\n",
              " ['20180321',\n",
              "  'Agreement and Plan of Merger, dated as of March\\xa020, 2018, by and among salesforce.com, inc., Malbec Acquisition Corp. and MuleSoft, Inc.. Tender and Support Agreement, dated as of March\\xa020, 2018, by and among salesforce.com, inc., Malbec Acquisition Corp., Lightspeed Venture Partners Select, L.P., Lightspeed Venture Partners VII, L.P., New Enterprise Associates 15, L.P., New Enterprise Associates 14, L.P., NEA 15 Opportunities Fund, L.P. and NEA Ventures 2013, L.P.. Tender and Support Agreement, dated as of March\\xa020, 2018, by and among salesforce.com, inc., Malbec Acquisition Corp., Matthew Langdon, Ann Winbald, Gregory Schott, Little Family 1995 TR, Ravi Mhatre, Mhatre Investments LP-Fund 4, Simon Parmett, Robert Horton and Ross Mason.'],\n",
              " ['20180411',\n",
              "  'Underwriting Agreement, dated April\\xa05, 2018, among the Company, Merrill Lynch, Pierce, Fenner\\xa0& Smith Incorporated and J.P. Morgan Securities LLC (acting as Representatives of the several Underwriters named in Schedule A thereto). Indenture, dated April\\xa011, 2018, between the Company and U.S. Bank National Association, as trustee. First Supplemental Indenture, dated April\\xa011, 2018, between the Company and U.S. Bank National Association, as trustee. Form of 2023 Notes (included in Exhibit 4.2). Form of 2028 Notes (included in Exhibit 4.2). Opinion of Wachtell, Lipton, Rosen\\xa0& Katz, relating to the Notes (including the consent required with respect thereto)'],\n",
              " ['20180430',\n",
              "  'Second Amended and Restated Credit Agreement, dated as of April\\xa030, 2018, among the Company, the lenders and other parties party thereto, and Wells Fargo Bank, National Association, as Administrative Agent, Swingline Lender and an Issuing Lender.. Amended and Restated Credit Agreement, dated as of April\\xa030, 2018, among the Company, the lenders and other parties party thereto, and Bank of America, N.A., as Administrative Agent.. Credit Agreement, dated as of April\\xa030, 2018, among the Company, the lenders and other parties party thereto, and Bank of America, N.A., as Administrative Agent.'],\n",
              " ['20180502',\n",
              "  'Consent of KPMG LLP, Independent Registered Public Accounting Firm. Press Release, dated May 2, 2018. Audited Consolidated Financial Statements of MuleSoft (incorporated by reference to MuleSoft\\x92s Annual Report on Form 10-K for the year ended December\\xa031, 2017 filed by MuleSoft with the SEC on February\\xa022, 2018). Unaudited Pro Forma Combined Condensed Balance Sheet as of January\\xa031, 2018, and the Unaudited Pro Forma Combined Condensed Statement of Operations for the year ended January\\xa031, 2018 (in each case incorporated by reference to Amendment No.\\xa01 to Salesforce\\x92s Registration Statement on Form S-4 filed by Salesforce with the SEC on April\\xa023,\\xa02018)'],\n",
              " ['20180613',\n",
              "  'Amended and Restated Certificate of Incorporation of salesforce.com, inc. Amended and Restated Bylaws of salesforce.com, inc.. Amended and Restated 2013 Equity Incentive Plan'],\n",
              " ['20180614',\n",
              "  'Settlement Agreement between salesforce.com, inc. and BNP Paribas, dated June\\xa012, 2018. Settlement Agreement between salesforce.com, inc. and Bank of America, N.A., dated June\\xa012, 2018. Settlement Agreement between salesforce.com, inc. and Morgan Stanley\\xa0& Co. International plc, dated June\\xa012, 2018'],\n",
              " ['20180808',\n",
              "  'Amended and Restated Bylaws of salesforce.com, inc.. Press Release dated August\\xa07, 2018. Press Release dated August\\xa07, 2018'],\n",
              " ['20190610',\n",
              "  'Joint Press Release issued by salesforce.com, inc. and Tableau Software, Inc., dated June\\xa010, 2019. Investor Presentation'],\n",
              " ['20190610',\n",
              "  'Agreement and Plan of Merger, dated as of June\\xa09, 2019, by and among salesforce.com, inc., Sausalito Acquisition Corp. and Tableau Software, Inc.. Letter Agreement, dated as of June\\xa09, 2019, by and among salesforce.com, inc., Sausalito Acquisition Corp. and Christian Chabot, Patrick Hanrahan and Christopher Stolte.'],\n",
              " ['20190801',\n",
              "  'Consent of PricewaterhouseCoopers LLP. Press Release, dated August\\xa01, 2019. Audited Consolidated Financial Statements of Tableau (incorporated by reference to Tableau\\x92s Annual Report on Form 10-K for the year ended December\\xa031, 2018 filed by Tableau with the SEC on February\\xa022, 2019). Unaudited Consolidated Financial Statements of Tableau (incorporated by reference to Tableau\\x92s Quarterly Report on Form 10-Q for the quarterly period ended June\\xa030, 2019 filed by Tableau with the SEC on July\\xa031, 2019). Unaudited Pro Forma Combined Condensed Balance Sheet as of April 30, 2019, and the Unaudited Pro Forma Combined Condensed Statement of Operations for the year ended January\\xa031, 2019 and the three months ended April\\xa030, 2019 (in each case incorporated by reference to Amendment No. 1 to Salesforce\\x92s Registration Statement on Form S-4 (Registration No.\\xa0333-232530) filed by Salesforce with the SEC on July\\xa023, 2019)']]"
            ]
          },
          "metadata": {
            "tags": []
          },
          "execution_count": 20
        }
      ]
    },
    {
      "cell_type": "code",
      "metadata": {
        "id": "3JR9O-2lKWUM",
        "colab_type": "code",
        "colab": {}
      },
      "source": [
        "np.save(ROOT_DIR + \"sec.npy\", np.array(results))"
      ],
      "execution_count": 0,
      "outputs": []
    },
    {
      "cell_type": "code",
      "metadata": {
        "id": "pa1KJi_qKsST",
        "colab_type": "code",
        "colab": {}
      },
      "source": [
        ""
      ],
      "execution_count": 0,
      "outputs": []
    }
  ]
}