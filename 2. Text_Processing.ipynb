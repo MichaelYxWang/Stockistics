{
  "nbformat": 4,
  "nbformat_minor": 0,
  "metadata": {
    "colab": {
      "name": "Text_Processing.ipynb",
      "provenance": [],
      "collapsed_sections": []
    },
    "kernelspec": {
      "name": "python3",
      "display_name": "Python 3"
    }
  },
  "cells": [
    {
      "cell_type": "code",
      "metadata": {
        "id": "nulMWW_RFOwy",
        "colab_type": "code",
        "colab": {}
      },
      "source": [
        "# Procedure:\n",
        "# 1. [date, string]\n",
        "# 2. EDA on text lengths per day pick the 90th percentile --> for Tokenizer setup\n",
        "# 3. "
      ],
      "execution_count": 0,
      "outputs": []
    },
    {
      "cell_type": "code",
      "metadata": {
        "id": "FFr35gKAR2x9",
        "colab_type": "code",
        "colab": {}
      },
      "source": [
        "import google.colab as colab\n",
        "import shutil\n",
        "import os\n",
        "import pandas as pd\n",
        "import random\n",
        "import numpy as np\n",
        "import re"
      ],
      "execution_count": 0,
      "outputs": []
    },
    {
      "cell_type": "code",
      "metadata": {
        "id": "vxPFM1g8Eb6B",
        "colab_type": "code",
        "colab": {
          "base_uri": "https://localhost:8080/",
          "height": 51
        },
        "outputId": "eff09f36-bb25-4a79-9bca-b7b6e0293fd2"
      },
      "source": [
        "import nltk\n",
        "nltk.download('stopwords')\n",
        "from nltk.corpus import stopwords"
      ],
      "execution_count": 35,
      "outputs": [
        {
          "output_type": "stream",
          "text": [
            "[nltk_data] Downloading package stopwords to /root/nltk_data...\n",
            "[nltk_data]   Unzipping corpora/stopwords.zip.\n"
          ],
          "name": "stdout"
        }
      ]
    },
    {
      "cell_type": "markdown",
      "metadata": {
        "id": "LZ3xk-0Dczdg",
        "colab_type": "text"
      },
      "source": [
        "### Mount Google Drive"
      ]
    },
    {
      "cell_type": "code",
      "metadata": {
        "id": "QxIyTxXml65l",
        "colab_type": "code",
        "colab": {}
      },
      "source": [
        "def mount_google_drive():\n",
        "\t'''\n",
        "\t# Functionality\n",
        "\t\tMount google drive. Since colab does not save files, we want to make it easier to directly access files in google drive.\n",
        "\t# Arguments\n",
        "\t\tNothing\n",
        "\t# Returns\n",
        "\t\tdrive_root: the working directory mounted\n",
        "\t'''\n",
        "\tmount_directory = \"/content/gdrive\"\n",
        "\tdrive = colab.drive\n",
        "\tdrive.mount(mount_directory, force_remount=True)\n",
        "\tdrive_root = mount_directory + \"/\" + list(filter(lambda x: x[0] != '.', os.listdir(mount_directory)))[0]\n",
        "\treturn drive_root\n",
        "\n",
        "def get_all_files_from_dir(directory):\n",
        "\n",
        "    '''\n",
        "    # Functionality\n",
        "    Get the whole list of files in a folder\n",
        "\t# Arguments\n",
        "\t\tdirectory: string.  (e.g.,Users/laowang/~vgg/data/flowers/102/102flowers.tgz)\n",
        "\t# Returns\n",
        "\t\tNone\n",
        "\t'''\n",
        "    file_paths = []\n",
        "    for root, dirs, files in os.walk(directory):\n",
        "        file_paths += [os.path.join(root, x) for x in files]\n",
        "    return sorted(file_paths)"
      ],
      "execution_count": 0,
      "outputs": []
    },
    {
      "cell_type": "code",
      "metadata": {
        "id": "X4LE1Ewyc4tD",
        "colab_type": "code",
        "outputId": "b7df85ff-0ecd-4971-b2f5-4034d2f6f84a",
        "colab": {
          "base_uri": "https://localhost:8080/",
          "height": 51
        }
      },
      "source": [
        "ROOT_DIR =  mount_google_drive() + \"/ECE457B-Project/\"\n",
        "DATASET_DIR = ROOT_DIR + \"sec8ks/\"\n",
        "print(DATASET_DIR)"
      ],
      "execution_count": 37,
      "outputs": [
        {
          "output_type": "stream",
          "text": [
            "Mounted at /content/gdrive\n",
            "/content/gdrive/My Drive/ECE457B-Project/sec8ks/\n"
          ],
          "name": "stdout"
        }
      ]
    },
    {
      "cell_type": "markdown",
      "metadata": {
        "id": "PJj68kScU4ZE",
        "colab_type": "text"
      },
      "source": [
        "## EDA on text lengths\n"
      ]
    },
    {
      "cell_type": "code",
      "metadata": {
        "id": "waHDL8foSp8j",
        "colab_type": "code",
        "colab": {}
      },
      "source": [
        "results = np.load(ROOT_DIR + \"sec.npy\", allow_pickle=True).tolist()"
      ],
      "execution_count": 0,
      "outputs": []
    },
    {
      "cell_type": "code",
      "metadata": {
        "id": "lLqF4dgtVkvI",
        "colab_type": "code",
        "colab": {
          "base_uri": "https://localhost:8080/",
          "height": 1000
        },
        "outputId": "d067216b-66d5-4617-b884-2a1188d3ed7b"
      },
      "source": [
        "results"
      ],
      "execution_count": 39,
      "outputs": [
        {
          "output_type": "execute_result",
          "data": {
            "text/plain": [
              "[['20191105', ''],\n",
              " ['20191122', ''],\n",
              " ['20140821', ''],\n",
              " ['20140821', ''],\n",
              " ['20141112', ''],\n",
              " ['20141119', ''],\n",
              " ['20141119', ''],\n",
              " ['20141219', ''],\n",
              " ['20150225', ''],\n",
              " ['20150225', ''],\n",
              " ['20150225', ''],\n",
              " ['20150225', ''],\n",
              " ['20150225', ''],\n",
              " ['20151124', ''],\n",
              " ['20151223', ''],\n",
              " ['20160202', ''],\n",
              " ['20160224', ''],\n",
              " ['20160419', ''],\n",
              " ['20160518', ''],\n",
              " ['20160711', ''],\n",
              " ['20160801', ''],\n",
              " ['20160831', ''],\n",
              " ['20160831', ''],\n",
              " ['20161003', ''],\n",
              " ['20161003', ''],\n",
              " ['20161117', ''],\n",
              " ['20161128', ''],\n",
              " ['20170228', ''],\n",
              " ['20170518', ''],\n",
              " ['20170822', ''],\n",
              " ['20170908', ''],\n",
              " ['20171106', ''],\n",
              " ['20171106', ''],\n",
              " ['20171121', ''],\n",
              " ['20171121', ''],\n",
              " ['20171218', ''],\n",
              " ['20180223', ''],\n",
              " ['20180228', ''],\n",
              " ['20180326', ''],\n",
              " ['20180402', ''],\n",
              " ['20180529', ''],\n",
              " ['20180829', ''],\n",
              " ['20180907', ''],\n",
              " ['20180907', ''],\n",
              " ['20181127', ''],\n",
              " ['20190304', ''],\n",
              " ['20190415', ''],\n",
              " ['20190604', ''],\n",
              " ['20190607', ''],\n",
              " ['20190807', ''],\n",
              " ['20190822', ''],\n",
              " ['20190822', ''],\n",
              " ['20191203', ''],\n",
              " ['20120106', ''],\n",
              " ['20120106', ''],\n",
              " ['20120302', ''],\n",
              " ['20120330', ''],\n",
              " ['20120330', ''],\n",
              " ['20120604',\n",
              "  'Agreement and Plan of Merger dated June 3, 2012, by and among salesforce.com, inc., Bullseye Merger Corporation, Buddy Media, Inc., and Shareholder Representative Services LLC'],\n",
              " ['20120604',\n",
              "  'Agreement and Plan of Merger dated June 3, 2012, by and among salesforce.com, inc., Bullseye Merger Corporation, Buddy Media, Inc., and Shareholder Representative Services LLC'],\n",
              " ['20120813',\n",
              "  'Agreement and Plan of Merger dated June 3, 2012, by and among salesforce.com, inc., Bullseye Merger Corporation, Buddy Media, Inc., and Shareholder Representative Services LLC'],\n",
              " ['20120813',\n",
              "  'Agreement and Plan of Merger dated June 3, 2012, by and among salesforce.com, inc., Bullseye Merger Corporation, Buddy Media, Inc., and Shareholder Representative Services LLC'],\n",
              " ['20120827',\n",
              "  'Unaudited Consolidated Statements of Comprehensive Income (Loss) For the Years Ended January\\xa031, 2012, 2011 and 2010'],\n",
              " ['20120827',\n",
              "  'Unaudited Consolidated Statements of Comprehensive Income (Loss) For the Years Ended January\\xa031, 2012, 2011 and 2010'],\n",
              " ['20121130', ''],\n",
              " ['20130222', ''],\n",
              " ['20130222', ''],\n",
              " ['20130313',\n",
              "  'Press Release, dated March 11, 2013, Announcing the Proposed Offering of Convertible Senior Notes. Press Release, dated March 12, 2013, Announcing the Pricing of Convertible Senior Notes'],\n",
              " ['20130318',\n",
              "  'Indenture dated March 18, 2013 between salesforce.com, inc. and U.S. Bank National Association.. Purchase Agreement dated March\\xa012, 2013 between salesforce.com, inc. and Merrill Lynch, Pierce, Fenner & Smith Incorporated and Morgan Stanley & Co. LLC, as representatives of the several initial purchasers named in Schedule\\xa0A thereto.. Form of Convertible Bond Hedge Confirmation. Form of Warrant Confirmation'],\n",
              " ['20130321',\n",
              "  'Amended and Restated Certificate of Incorporation.. Press Release, dated March 21, 2013.'],\n",
              " ['20130329', ''],\n",
              " ['20130329', ''],\n",
              " ['20130604',\n",
              "  'Acquisition Agreement dated as of June 3, 2013, by and among salesforce.com, inc., ExactTarget Acquisition Corp. and ExactTarget, Inc.. Form of Support Agreement. Commitment Letter, dated as of June 3, 2013, among salesforce.com, inc., Bank of America, N.A. and Merrill Lynch, Pierce, Fenner & Smith Incorporated. Press Release dated June 4, 2013'],\n",
              " ['20130611',\n",
              "  'Amended and Restated Certificate of Incorporation of salesforce.com, inc.. Amended and Restated Bylaws of salesforce.com, inc.. Employment Offer Letter, dated May 2, 2013, between salesforce.com, inc. and Keith Black. 2013 Equity Incentive Plan and related forms of agreements. Press Release dated June 6, 2013'],\n",
              " ['20130715',\n",
              "  'Acquisition Agreement dated as of June 3, 2013, by and among salesforce.com, inc., Excalibur Acquisition Corp. and ExactTarget, Inc. (which is incorporated herein by reference to Exhibit 2.1 to the Company\\x92s Current Report on Form 8-K filed with the Commission on June 4, 2013).. Credit Agreement, dated as of July 11, 2013, by and among salesforce.com, inc., the guarantors from time to time party thereto, the lenders from time to time party thereto and Bank of America, N.A., as Administrative Agent.. Press Release dated July 12, 2013.'],\n",
              " ['20130715',\n",
              "  'Acquisition Agreement dated as of June 3, 2013, by and among salesforce.com, inc., Excalibur Acquisition Corp. and ExactTarget, Inc. (which is incorporated herein by reference to Exhibit 2.1 to the Company\\x92s Current Report on Form 8-K filed with the Commission on June 4, 2013).. Credit Agreement, dated as of July 11, 2013, by and among salesforce.com, inc., the guarantors from time to time party thereto, the lenders from time to time party thereto and Bank of America, N.A., as Administrative Agent.. Press Release dated July 12, 2013.'],\n",
              " ['20130912', 'Press Release, dated September 12, 2013'],\n",
              " ['20130912', 'Press Release, dated September 12, 2013'],\n",
              " ['20131127', ''],\n",
              " ['20140203', ''],\n",
              " ['20140203', ''],\n",
              " ['20140228', ''],\n",
              " ['20140314', 'Press Release, dated March 14, 2014'],\n",
              " ['20140404', ''],\n",
              " ['20140411', 'Press Release dated April 11, 2014'],\n",
              " ['20140606', ''],\n",
              " ['20140630',\n",
              "  'Employment Offer Letter, dated June 11, 2014, between salesforce.com, inc. and Mark Hawkins. Press Release dated June 30, 2014'],\n",
              " ['20140711',\n",
              "  '2014 Inducement Equity Incentive Plan and Related Forms of Equity Award Agreements'],\n",
              " ['20140912', ''],\n",
              " ['20141006', ''],\n",
              " ['20141126', ''],\n",
              " ['20141208', 'Press Release, dated December 8, 2014'],\n",
              " ['20150401', ''],\n",
              " ['20150401', ''],\n",
              " ['20150626', ''],\n",
              " ['20160321', 'Amended and Restated Bylaws of salesforce.com, inc.'],\n",
              " ['20160322', 'Press Release dated March 22, 2016'],\n",
              " ['20160601',\n",
              "  'Agreement and Plan of Merger, dated as of May 31, 2016, by and among salesforce.com, inc., Dynasty Acquisition Corp. and Demandware, Inc.*. Commitment Letter, dated as of May 31, 2016, by and among salesforce.com, inc., Bank of America, N.A. and Merrill Lynch, Pierce, Fenner & Smith Incorporated. Press Release dated June 1, 2016'],\n",
              " ['20160603',\n",
              "  'Amended and Restated Certificate of Incorporation of salesforce.com, inc.'],\n",
              " ['20170316', ''],\n",
              " ['20170419', ''],\n",
              " ['20170607',\n",
              "  'Amended and Restated 2013 Equity Incentive Plan. Amended and Restated 2004 Employee Stock Purchase Plan'],\n",
              " ['20180320',\n",
              "  'Joint Press Release issued by salesforce.com, inc. and MuleSoft, Inc., dated March\\xa020, 2018. Investor Presentation'],\n",
              " ['20180321',\n",
              "  'Agreement and Plan of Merger, dated as of March\\xa020, 2018, by and among salesforce.com, inc., Malbec Acquisition Corp. and MuleSoft, Inc.. Tender and Support Agreement, dated as of March\\xa020, 2018, by and among salesforce.com, inc., Malbec Acquisition Corp., Lightspeed Venture Partners Select, L.P., Lightspeed Venture Partners VII, L.P., New Enterprise Associates 15, L.P., New Enterprise Associates 14, L.P., NEA 15 Opportunities Fund, L.P. and NEA Ventures 2013, L.P.. Tender and Support Agreement, dated as of March\\xa020, 2018, by and among salesforce.com, inc., Malbec Acquisition Corp., Matthew Langdon, Ann Winbald, Gregory Schott, Little Family 1995 TR, Ravi Mhatre, Mhatre Investments LP-Fund 4, Simon Parmett, Robert Horton and Ross Mason.'],\n",
              " ['20180411',\n",
              "  'Underwriting Agreement, dated April\\xa05, 2018, among the Company, Merrill Lynch, Pierce, Fenner\\xa0& Smith Incorporated and J.P. Morgan Securities LLC (acting as Representatives of the several Underwriters named in Schedule A thereto). Indenture, dated April\\xa011, 2018, between the Company and U.S. Bank National Association, as trustee. First Supplemental Indenture, dated April\\xa011, 2018, between the Company and U.S. Bank National Association, as trustee. Form of 2023 Notes (included in Exhibit 4.2). Form of 2028 Notes (included in Exhibit 4.2). Opinion of Wachtell, Lipton, Rosen\\xa0& Katz, relating to the Notes (including the consent required with respect thereto)'],\n",
              " ['20180430',\n",
              "  'Second Amended and Restated Credit Agreement, dated as of April\\xa030, 2018, among the Company, the lenders and other parties party thereto, and Wells Fargo Bank, National Association, as Administrative Agent, Swingline Lender and an Issuing Lender.. Amended and Restated Credit Agreement, dated as of April\\xa030, 2018, among the Company, the lenders and other parties party thereto, and Bank of America, N.A., as Administrative Agent.. Credit Agreement, dated as of April\\xa030, 2018, among the Company, the lenders and other parties party thereto, and Bank of America, N.A., as Administrative Agent.'],\n",
              " ['20180502',\n",
              "  'Consent of KPMG LLP, Independent Registered Public Accounting Firm. Press Release, dated May 2, 2018. Audited Consolidated Financial Statements of MuleSoft (incorporated by reference to MuleSoft\\x92s Annual Report on Form 10-K for the year ended December\\xa031, 2017 filed by MuleSoft with the SEC on February\\xa022, 2018). Unaudited Pro Forma Combined Condensed Balance Sheet as of January\\xa031, 2018, and the Unaudited Pro Forma Combined Condensed Statement of Operations for the year ended January\\xa031, 2018 (in each case incorporated by reference to Amendment No.\\xa01 to Salesforce\\x92s Registration Statement on Form S-4 filed by Salesforce with the SEC on April\\xa023,\\xa02018)'],\n",
              " ['20180613',\n",
              "  'Amended and Restated Certificate of Incorporation of salesforce.com, inc. Amended and Restated Bylaws of salesforce.com, inc.. Amended and Restated 2013 Equity Incentive Plan'],\n",
              " ['20180614',\n",
              "  'Settlement Agreement between salesforce.com, inc. and BNP Paribas, dated June\\xa012, 2018. Settlement Agreement between salesforce.com, inc. and Bank of America, N.A., dated June\\xa012, 2018. Settlement Agreement between salesforce.com, inc. and Morgan Stanley\\xa0& Co. International plc, dated June\\xa012, 2018'],\n",
              " ['20180808',\n",
              "  'Amended and Restated Bylaws of salesforce.com, inc.. Press Release dated August\\xa07, 2018. Press Release dated August\\xa07, 2018'],\n",
              " ['20190328', ''],\n",
              " ['20190610',\n",
              "  'Joint Press Release issued by salesforce.com, inc. and Tableau Software, Inc., dated June\\xa010, 2019. Investor Presentation'],\n",
              " ['20190610',\n",
              "  'Agreement and Plan of Merger, dated as of June\\xa09, 2019, by and among salesforce.com, inc., Sausalito Acquisition Corp. and Tableau Software, Inc.. Letter Agreement, dated as of June\\xa09, 2019, by and among salesforce.com, inc., Sausalito Acquisition Corp. and Christian Chabot, Patrick Hanrahan and Christopher Stolte.'],\n",
              " ['20190801',\n",
              "  'Consent of PricewaterhouseCoopers LLP. Press Release, dated August\\xa01, 2019. Audited Consolidated Financial Statements of Tableau (incorporated by reference to Tableau\\x92s Annual Report on Form 10-K for the year ended December\\xa031, 2018 filed by Tableau with the SEC on February\\xa022, 2019). Unaudited Consolidated Financial Statements of Tableau (incorporated by reference to Tableau\\x92s Quarterly Report on Form 10-Q for the quarterly period ended June\\xa030, 2019 filed by Tableau with the SEC on July\\xa031, 2019). Unaudited Pro Forma Combined Condensed Balance Sheet as of April 30, 2019, and the Unaudited Pro Forma Combined Condensed Statement of Operations for the year ended January\\xa031, 2019 and the three months ended April\\xa030, 2019 (in each case incorporated by reference to Amendment No. 1 to Salesforce\\x92s Registration Statement on Form S-4 (Registration No.\\xa0333-232530) filed by Salesforce with the SEC on July\\xa023, 2019)'],\n",
              " ['20191003', ''],\n",
              " ['20191212', ''],\n",
              " ['20140520', '']]"
            ]
          },
          "metadata": {
            "tags": []
          },
          "execution_count": 39
        }
      ]
    },
    {
      "cell_type": "code",
      "metadata": {
        "id": "WWiwn-cQEBSA",
        "colab_type": "code",
        "colab": {}
      },
      "source": [
        "REPLACE_BY_SPACE_RE = re.compile('[/(){}\\[\\]\\|@,;]')\n",
        "BAD_SYMBOLS_RE = re.compile('[^0-9a-z #+_]') # ??\n",
        "STOPWORDS = set(stopwords.words('english'))\n",
        "\n",
        "def text_prepare(text):\n",
        "    \"\"\"\n",
        "        text: a string\n",
        "        \n",
        "        return: modified initial string\n",
        "    \"\"\"\n",
        "    text = text.lower() # lowercase text\n",
        "    text = re.sub(REPLACE_BY_SPACE_RE, \" \", text) # replace REPLACE_BY_SPACE_RE symbols by space in text\n",
        "    text = re.sub(BAD_SYMBOLS_RE, \"\", text)      # delete symbols which are in BAD_SYMBOLS_RE from text\n",
        "    text = \" \".join([word for word in text.split(\" \") if word not in STOPWORDS]) # delete stopwords from text\n",
        "    text = re.sub(' +', ' ', text)\n",
        "    return text"
      ],
      "execution_count": 0,
      "outputs": []
    },
    {
      "cell_type": "code",
      "metadata": {
        "id": "ne564jPQE5Ce",
        "colab_type": "code",
        "colab": {}
      },
      "source": [
        "modified_results = []\n",
        "\n",
        "for element in results:\n",
        "  modified_results.append([element[0], text_prepare(element[1])])"
      ],
      "execution_count": 0,
      "outputs": []
    },
    {
      "cell_type": "code",
      "metadata": {
        "id": "4Q8pV9bNFSBC",
        "colab_type": "code",
        "colab": {
          "base_uri": "https://localhost:8080/",
          "height": 1000
        },
        "outputId": "d9ff8c62-cb25-4438-aa93-5b8661d0e700"
      },
      "source": [
        "modified_results"
      ],
      "execution_count": 42,
      "outputs": [
        {
          "output_type": "execute_result",
          "data": {
            "text/plain": [
              "[['20191105', ''],\n",
              " ['20191122', ''],\n",
              " ['20140821', ''],\n",
              " ['20140821', ''],\n",
              " ['20141112', ''],\n",
              " ['20141119', ''],\n",
              " ['20141119', ''],\n",
              " ['20141219', ''],\n",
              " ['20150225', ''],\n",
              " ['20150225', ''],\n",
              " ['20150225', ''],\n",
              " ['20150225', ''],\n",
              " ['20150225', ''],\n",
              " ['20151124', ''],\n",
              " ['20151223', ''],\n",
              " ['20160202', ''],\n",
              " ['20160224', ''],\n",
              " ['20160419', ''],\n",
              " ['20160518', ''],\n",
              " ['20160711', ''],\n",
              " ['20160801', ''],\n",
              " ['20160831', ''],\n",
              " ['20160831', ''],\n",
              " ['20161003', ''],\n",
              " ['20161003', ''],\n",
              " ['20161117', ''],\n",
              " ['20161128', ''],\n",
              " ['20170228', ''],\n",
              " ['20170518', ''],\n",
              " ['20170822', ''],\n",
              " ['20170908', ''],\n",
              " ['20171106', ''],\n",
              " ['20171106', ''],\n",
              " ['20171121', ''],\n",
              " ['20171121', ''],\n",
              " ['20171218', ''],\n",
              " ['20180223', ''],\n",
              " ['20180228', ''],\n",
              " ['20180326', ''],\n",
              " ['20180402', ''],\n",
              " ['20180529', ''],\n",
              " ['20180829', ''],\n",
              " ['20180907', ''],\n",
              " ['20180907', ''],\n",
              " ['20181127', ''],\n",
              " ['20190304', ''],\n",
              " ['20190415', ''],\n",
              " ['20190604', ''],\n",
              " ['20190607', ''],\n",
              " ['20190807', ''],\n",
              " ['20190822', ''],\n",
              " ['20190822', ''],\n",
              " ['20191203', ''],\n",
              " ['20120106', ''],\n",
              " ['20120106', ''],\n",
              " ['20120302', ''],\n",
              " ['20120330', ''],\n",
              " ['20120330', ''],\n",
              " ['20120604',\n",
              "  'agreement plan merger dated june 3 2012 among salesforcecom inc bullseye merger corporation buddy media inc shareholder representative services llc'],\n",
              " ['20120604',\n",
              "  'agreement plan merger dated june 3 2012 among salesforcecom inc bullseye merger corporation buddy media inc shareholder representative services llc'],\n",
              " ['20120813',\n",
              "  'agreement plan merger dated june 3 2012 among salesforcecom inc bullseye merger corporation buddy media inc shareholder representative services llc'],\n",
              " ['20120813',\n",
              "  'agreement plan merger dated june 3 2012 among salesforcecom inc bullseye merger corporation buddy media inc shareholder representative services llc'],\n",
              " ['20120827',\n",
              "  'unaudited consolidated statements comprehensive income loss years ended january31 2012 2011 2010'],\n",
              " ['20120827',\n",
              "  'unaudited consolidated statements comprehensive income loss years ended january31 2012 2011 2010'],\n",
              " ['20121130', ''],\n",
              " ['20130222', ''],\n",
              " ['20130222', ''],\n",
              " ['20130313',\n",
              "  'press release dated march 11 2013 announcing proposed offering convertible senior notes press release dated march 12 2013 announcing pricing convertible senior notes'],\n",
              " ['20130318',\n",
              "  'indenture dated march 18 2013 salesforcecom inc us bank national association purchase agreement dated march12 2013 salesforcecom inc merrill lynch pierce fenner smith incorporated morgan stanley co llc representatives several initial purchasers named schedulea thereto form convertible bond hedge confirmation form warrant confirmation'],\n",
              " ['20130321',\n",
              "  'amended restated certificate incorporation press release dated march 21 2013'],\n",
              " ['20130329', ''],\n",
              " ['20130329', ''],\n",
              " ['20130604',\n",
              "  'acquisition agreement dated june 3 2013 among salesforcecom inc exacttarget acquisition corp exacttarget inc form support agreement commitment letter dated june 3 2013 among salesforcecom inc bank america na merrill lynch pierce fenner smith incorporated press release dated june 4 2013'],\n",
              " ['20130611',\n",
              "  'amended restated certificate incorporation salesforcecom inc amended restated bylaws salesforcecom inc employment offer letter dated may 2 2013 salesforcecom inc keith black 2013 equity incentive plan related forms agreements press release dated june 6 2013'],\n",
              " ['20130715',\n",
              "  'acquisition agreement dated june 3 2013 among salesforcecom inc excalibur acquisition corp exacttarget inc incorporated herein reference exhibit 21 companys current report form 8k filed commission june 4 2013 credit agreement dated july 11 2013 among salesforcecom inc guarantors time time party thereto lenders time time party thereto bank america na administrative agent press release dated july 12 2013'],\n",
              " ['20130715',\n",
              "  'acquisition agreement dated june 3 2013 among salesforcecom inc excalibur acquisition corp exacttarget inc incorporated herein reference exhibit 21 companys current report form 8k filed commission june 4 2013 credit agreement dated july 11 2013 among salesforcecom inc guarantors time time party thereto lenders time time party thereto bank america na administrative agent press release dated july 12 2013'],\n",
              " ['20130912', 'press release dated september 12 2013'],\n",
              " ['20130912', 'press release dated september 12 2013'],\n",
              " ['20131127', ''],\n",
              " ['20140203', ''],\n",
              " ['20140203', ''],\n",
              " ['20140228', ''],\n",
              " ['20140314', 'press release dated march 14 2014'],\n",
              " ['20140404', ''],\n",
              " ['20140411', 'press release dated april 11 2014'],\n",
              " ['20140606', ''],\n",
              " ['20140630',\n",
              "  'employment offer letter dated june 11 2014 salesforcecom inc mark hawkins press release dated june 30 2014'],\n",
              " ['20140711',\n",
              "  '2014 inducement equity incentive plan related forms equity award agreements'],\n",
              " ['20140912', ''],\n",
              " ['20141006', ''],\n",
              " ['20141126', ''],\n",
              " ['20141208', 'press release dated december 8 2014'],\n",
              " ['20150401', ''],\n",
              " ['20150401', ''],\n",
              " ['20150626', ''],\n",
              " ['20160321', 'amended restated bylaws salesforcecom inc'],\n",
              " ['20160322', 'press release dated march 22 2016'],\n",
              " ['20160601',\n",
              "  'agreement plan merger dated may 31 2016 among salesforcecom inc dynasty acquisition corp demandware inc commitment letter dated may 31 2016 among salesforcecom inc bank america na merrill lynch pierce fenner smith incorporated press release dated june 1 2016'],\n",
              " ['20160603', 'amended restated certificate incorporation salesforcecom inc'],\n",
              " ['20170316', ''],\n",
              " ['20170419', ''],\n",
              " ['20170607',\n",
              "  'amended restated 2013 equity incentive plan amended restated 2004 employee stock purchase plan'],\n",
              " ['20180320',\n",
              "  'joint press release issued salesforcecom inc mulesoft inc dated march20 2018 investor presentation'],\n",
              " ['20180321',\n",
              "  'agreement plan merger dated march20 2018 among salesforcecom inc malbec acquisition corp mulesoft inc tender support agreement dated march20 2018 among salesforcecom inc malbec acquisition corp lightspeed venture partners select lp lightspeed venture partners vii lp new enterprise associates 15 lp new enterprise associates 14 lp nea 15 opportunities fund lp nea ventures 2013 lp tender support agreement dated march20 2018 among salesforcecom inc malbec acquisition corp matthew langdon ann winbald gregory schott little family 1995 tr ravi mhatre mhatre investments lpfund 4 simon parmett robert horton ross mason'],\n",
              " ['20180411',\n",
              "  'underwriting agreement dated april5 2018 among company merrill lynch pierce fenner smith incorporated jp morgan securities llc acting representatives several underwriters named schedule thereto indenture dated april11 2018 company us bank national association trustee first supplemental indenture dated april11 2018 company us bank national association trustee form 2023 notes included exhibit 42 form 2028 notes included exhibit 42 opinion wachtell lipton rosen katz relating notes including consent required respect thereto '],\n",
              " ['20180430',\n",
              "  'second amended restated credit agreement dated april30 2018 among company lenders parties party thereto wells fargo bank national association administrative agent swingline lender issuing lender amended restated credit agreement dated april30 2018 among company lenders parties party thereto bank america na administrative agent credit agreement dated april30 2018 among company lenders parties party thereto bank america na administrative agent'],\n",
              " ['20180502',\n",
              "  'consent kpmg llp independent registered public accounting firm press release dated may 2 2018 audited consolidated financial statements mulesoft incorporated reference mulesofts annual report form 10k year ended december31 2017 filed mulesoft sec february22 2018 unaudited pro forma combined condensed balance sheet january31 2018 unaudited pro forma combined condensed statement operations year ended january31 2018 case incorporated reference amendment no1 salesforces registration statement form s4 filed salesforce sec april23 2018 '],\n",
              " ['20180613',\n",
              "  'amended restated certificate incorporation salesforcecom inc amended restated bylaws salesforcecom inc amended restated 2013 equity incentive plan'],\n",
              " ['20180614',\n",
              "  'settlement agreement salesforcecom inc bnp paribas dated june12 2018 settlement agreement salesforcecom inc bank america na dated june12 2018 settlement agreement salesforcecom inc morgan stanley co international plc dated june12 2018'],\n",
              " ['20180808',\n",
              "  'amended restated bylaws salesforcecom inc press release dated august7 2018 press release dated august7 2018'],\n",
              " ['20190328', ''],\n",
              " ['20190610',\n",
              "  'joint press release issued salesforcecom inc tableau software inc dated june10 2019 investor presentation'],\n",
              " ['20190610',\n",
              "  'agreement plan merger dated june9 2019 among salesforcecom inc sausalito acquisition corp tableau software inc letter agreement dated june9 2019 among salesforcecom inc sausalito acquisition corp christian chabot patrick hanrahan christopher stolte'],\n",
              " ['20190801',\n",
              "  'consent pricewaterhousecoopers llp press release dated august1 2019 audited consolidated financial statements tableau incorporated reference tableaus annual report form 10k year ended december31 2018 filed tableau sec february22 2019 unaudited consolidated financial statements tableau incorporated reference tableaus quarterly report form 10q quarterly period ended june30 2019 filed tableau sec july31 2019 unaudited pro forma combined condensed balance sheet april 30 2019 unaudited pro forma combined condensed statement operations year ended january31 2019 three months ended april30 2019 case incorporated reference amendment 1 salesforces registration statement form s4 registration no333232530 filed salesforce sec july23 2019 '],\n",
              " ['20191003', ''],\n",
              " ['20191212', ''],\n",
              " ['20140520', '']]"
            ]
          },
          "metadata": {
            "tags": []
          },
          "execution_count": 42
        }
      ]
    },
    {
      "cell_type": "code",
      "metadata": {
        "id": "pYTxi733FS9t",
        "colab_type": "code",
        "colab": {}
      },
      "source": [
        "np.save(ROOT_DIR + \"sec_modified.npy\", np.array(modified_results))"
      ],
      "execution_count": 0,
      "outputs": []
    },
    {
      "cell_type": "code",
      "metadata": {
        "id": "ChuZBqSFFhfD",
        "colab_type": "code",
        "colab": {}
      },
      "source": [
        ""
      ],
      "execution_count": 0,
      "outputs": []
    }
  ]
}