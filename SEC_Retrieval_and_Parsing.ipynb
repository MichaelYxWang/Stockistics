{
  "nbformat": 4,
  "nbformat_minor": 0,
  "metadata": {
    "colab": {
      "name": "SEC_Retrieval_and_Parsing.ipynb",
      "provenance": [],
      "collapsed_sections": []
    },
    "kernelspec": {
      "name": "python3",
      "display_name": "Python 3"
    }
  },
  "cells": [
    {
      "cell_type": "markdown",
      "metadata": {
        "id": "gf6lUfhCjKgW",
        "colab_type": "text"
      },
      "source": [
        "## Imports"
      ]
    },
    {
      "cell_type": "code",
      "metadata": {
        "id": "CZJXgCjDiCvD",
        "colab_type": "code",
        "outputId": "ea09699c-c9c5-4b53-ab51-4d649d54b434",
        "colab": {
          "base_uri": "https://localhost:8080/",
          "height": 156
        }
      },
      "source": [
        "!pip install sec-edgar-downloader"
      ],
      "execution_count": 0,
      "outputs": [
        {
          "output_type": "stream",
          "text": [
            "Requirement already satisfied: sec-edgar-downloader in /usr/local/lib/python3.6/dist-packages (3.0.2)\n",
            "Requirement already satisfied: requests>=2.22.0 in /usr/local/lib/python3.6/dist-packages (from sec-edgar-downloader) (2.23.0)\n",
            "Requirement already satisfied: lxml>=4.3.4 in /usr/local/lib/python3.6/dist-packages (from sec-edgar-downloader) (4.5.0)\n",
            "Requirement already satisfied: urllib3!=1.25.0,!=1.25.1,<1.26,>=1.21.1 in /usr/local/lib/python3.6/dist-packages (from requests>=2.22.0->sec-edgar-downloader) (1.24.3)\n",
            "Requirement already satisfied: chardet<4,>=3.0.2 in /usr/local/lib/python3.6/dist-packages (from requests>=2.22.0->sec-edgar-downloader) (3.0.4)\n",
            "Requirement already satisfied: certifi>=2017.4.17 in /usr/local/lib/python3.6/dist-packages (from requests>=2.22.0->sec-edgar-downloader) (2019.11.28)\n",
            "Requirement already satisfied: idna<3,>=2.5 in /usr/local/lib/python3.6/dist-packages (from requests>=2.22.0->sec-edgar-downloader) (2.8)\n"
          ],
          "name": "stdout"
        }
      ]
    },
    {
      "cell_type": "code",
      "metadata": {
        "id": "wqBE6cUJiLjA",
        "colab_type": "code",
        "colab": {}
      },
      "source": [
        "import sec_edgar_downloader\n",
        "import google.colab as colab\n",
        "import shutil\n",
        "import os\n",
        "import pandas as pd\n",
        "import random\n",
        "from IPython.display import display_html\n",
        "\n",
        "import re\n",
        "import requests\n",
        "import unicodedata\n",
        "from bs4 import BeautifulSoup\n",
        "random.seed(716) "
      ],
      "execution_count": 0,
      "outputs": []
    },
    {
      "cell_type": "markdown",
      "metadata": {
        "id": "LZ3xk-0Dczdg",
        "colab_type": "text"
      },
      "source": [
        "### Mount Google Drive"
      ]
    },
    {
      "cell_type": "code",
      "metadata": {
        "id": "QxIyTxXml65l",
        "colab_type": "code",
        "colab": {}
      },
      "source": [
        "def mount_google_drive():\n",
        "\t'''\n",
        "\t# Functionality\n",
        "\t\tMount google drive. Since colab does not save files, we want to make it easier to directly access files in google drive.\n",
        "\t# Arguments\n",
        "\t\tNothing\n",
        "\t# Returns\n",
        "\t\tdrive_root: the working directory mounted\n",
        "\t'''\n",
        "\tmount_directory = \"/content/gdrive\"\n",
        "\tdrive = colab.drive\n",
        "\tdrive.mount(mount_directory, force_remount=True)\n",
        "\tdrive_root = mount_directory + \"/\" + list(filter(lambda x: x[0] != '.', os.listdir(mount_directory)))[0]\n",
        "\treturn drive_root\n",
        "\n",
        "def get_all_files_from_dir(directory):\n",
        "\n",
        "    '''\n",
        "    # Functionality\n",
        "    Get the whole list of files in a folder\n",
        "\t# Arguments\n",
        "\t\tdirectory: string.  (e.g.,Users/laowang/~vgg/data/flowers/102/102flowers.tgz)\n",
        "\t# Returns\n",
        "\t\tNone\n",
        "\t'''\n",
        "    file_paths = []\n",
        "    for root, dirs, files in os.walk(directory):\n",
        "        file_paths += [os.path.join(root, x) for x in files]\n",
        "    return sorted(file_paths)"
      ],
      "execution_count": 0,
      "outputs": []
    },
    {
      "cell_type": "code",
      "metadata": {
        "id": "X4LE1Ewyc4tD",
        "colab_type": "code",
        "outputId": "31832157-89b9-4bfd-df53-38cd148ce2fc",
        "colab": {
          "base_uri": "https://localhost:8080/",
          "height": 51
        }
      },
      "source": [
        "ROOT_DIR =  mount_google_drive() + \"/ECE457B-Project/\"\n",
        "DATASET_DIR = ROOT_DIR + \"sec8ks/\"\n",
        "print(DATASET_DIR)"
      ],
      "execution_count": 3,
      "outputs": [
        {
          "output_type": "stream",
          "text": [
            "Mounted at /content/gdrive\n",
            "/content/gdrive/My Drive/ECE457B-Project/sec8ks/\n"
          ],
          "name": "stdout"
        }
      ]
    },
    {
      "cell_type": "markdown",
      "metadata": {
        "id": "SeuhKT-oo3f_",
        "colab_type": "text"
      },
      "source": [
        "## Retrieval from Internet"
      ]
    },
    {
      "cell_type": "code",
      "metadata": {
        "id": "5D6dihpmixdI",
        "colab_type": "code",
        "colab": {}
      },
      "source": [
        "downloader = sec_edgar_downloader.Downloader(DATASET_DIR)"
      ],
      "execution_count": 0,
      "outputs": []
    },
    {
      "cell_type": "code",
      "metadata": {
        "id": "CGskoBlkickN",
        "colab_type": "code",
        "colab": {}
      },
      "source": [
        "# downloader.get(\"8-K\", \"CRM\", after_date=\"20120103\", before_date=\"20191230\")"
      ],
      "execution_count": 0,
      "outputs": []
    },
    {
      "cell_type": "markdown",
      "metadata": {
        "id": "0cC7r1h-_NLD",
        "colab_type": "text"
      },
      "source": [
        "## Parse 8-k reports"
      ]
    },
    {
      "cell_type": "code",
      "metadata": {
        "id": "8mjiAm5V1Ncm",
        "colab_type": "code",
        "colab": {}
      },
      "source": [
        "# file_name = DATASET_DIR + \"sec_edgar_filings/GOOGL/8-K/0001652044-16-000035.txt\""
      ],
      "execution_count": 0,
      "outputs": []
    },
    {
      "cell_type": "code",
      "metadata": {
        "id": "4oNa_AnV1Kyr",
        "colab_type": "code",
        "colab": {}
      },
      "source": [
        "# with open(file_name, \"r\") as f:\n",
        "#     soup = BeautifulSoup(f.read(), \"html\")\n",
        "#     found = False\n",
        "# date = str(soup.find(\"acceptance-datetime\"))[21:29]\n",
        "# date"
      ],
      "execution_count": 0,
      "outputs": []
    },
    {
      "cell_type": "code",
      "metadata": {
        "id": "-cCIX_zG1K3K",
        "colab_type": "code",
        "colab": {}
      },
      "source": [
        "# for table in soup.findAll('table'):\n",
        "#   if str(table).find(\"Financial Statements and Exhibits\") != -1:\n",
        "#     found = True\n",
        "\n",
        "#   if found:\n",
        "#     if str(table).find(\"Description\") != -1: # Normally Item description\n",
        "#       sample = pd.read_html(str(table))[0]\n",
        "#       print(list(sample[1].dropna()[1:]), date)\n",
        "#       break"
      ],
      "execution_count": 0,
      "outputs": []
    },
    {
      "cell_type": "code",
      "metadata": {
        "id": "l1nECWvfXoIf",
        "colab_type": "code",
        "colab": {}
      },
      "source": [
        "# def extract_fin_info(file_name):\n",
        "#   with open(file_name, \"r\") as f:\n",
        "#     soup = BeautifulSoup(f.read(), \"html\")\n",
        "#     found = False\n",
        "\n",
        "#   date = str(soup.find(\"acceptance-datetime\"))[21:29]\n",
        "\n",
        "#   for table in soup.findAll('table'):\n",
        "#     if str(table).find(\"Financial Statements and Exhibits\") != -1:\n",
        "#       found = True\n",
        "\n",
        "#     if found:\n",
        "#       if str(table).find(\"Description\") != -1: # Normally Item description\n",
        "#         sample = pd.read_html(str(table))[0]\n",
        "#         return list(sample[1].dropna()[1:]), date\n",
        "\n",
        "def extract_fin_info(file_name):\n",
        "  with open(file_name, \"r\") as f:\n",
        "    soup = BeautifulSoup(f.read(), \"html\")\n",
        "    found = False\n",
        "\n",
        "  date = str(soup.find(\"acceptance-datetime\"))[21:29]\n",
        "\n",
        "  for bold in soup.findAll('b'):\n",
        "    if str(bold).find(\"Financial Statements and Exhibits\") != -1:\n",
        "      found = True\n",
        "      break\n",
        "  if found:\n",
        "    for table in soup.findAll('table'):\n",
        "      if str(table).find(\"Description\") != -1: # Normally Item description\n",
        "        sample = pd.read_html(str(table))[0]\n",
        "        return list(sample[2].dropna()[1:]), date\n",
        "  else:\n",
        "    return \"Empty\", date"
      ],
      "execution_count": 0,
      "outputs": []
    },
    {
      "cell_type": "code",
      "metadata": {
        "id": "9M4NtFzAXteZ",
        "colab_type": "code",
        "colab": {}
      },
      "source": [
        "results = []\n",
        "dates = []\n",
        "\n",
        "for file_name in get_all_files_from_dir(DATASET_DIR + \"sec_edgar_filings/CRM/\"):\n",
        "  try:\n",
        "    result, date = extract_fin_info(file_name)\n",
        "  except:\n",
        "    # print(file_name)\n",
        "    pass\n",
        "  results.append(result)\n",
        "  dates.append(date)"
      ],
      "execution_count": 0,
      "outputs": []
    },
    {
      "cell_type": "code",
      "metadata": {
        "id": "T-1VN0TbXtjU",
        "colab_type": "code",
        "colab": {
          "base_uri": "https://localhost:8080/",
          "height": 34
        },
        "outputId": "9fc1b20a-e52f-437e-d623-2520e2ed47ff"
      },
      "source": [
        "len(get_all_files_from_dir(DATASET_DIR))"
      ],
      "execution_count": 11,
      "outputs": [
        {
          "output_type": "execute_result",
          "data": {
            "text/plain": [
              "154"
            ]
          },
          "metadata": {
            "tags": []
          },
          "execution_count": 11
        }
      ]
    },
    {
      "cell_type": "code",
      "metadata": {
        "id": "WCxcf1liXtlv",
        "colab_type": "code",
        "outputId": "9016c6bb-70d5-4afe-8023-cc7c32d39da0",
        "colab": {
          "base_uri": "https://localhost:8080/",
          "height": 34
        }
      },
      "source": [
        "len(results)"
      ],
      "execution_count": 12,
      "outputs": [
        {
          "output_type": "execute_result",
          "data": {
            "text/plain": [
              "117"
            ]
          },
          "metadata": {
            "tags": []
          },
          "execution_count": 12
        }
      ]
    },
    {
      "cell_type": "code",
      "metadata": {
        "id": "5yYz4CGNXtht",
        "colab_type": "code",
        "outputId": "00cf1df7-3d8d-4a2b-f4ac-1b8328ba4347",
        "colab": {
          "base_uri": "https://localhost:8080/",
          "height": 1000
        }
      },
      "source": [
        "results"
      ],
      "execution_count": 13,
      "outputs": [
        {
          "output_type": "execute_result",
          "data": {
            "text/plain": [
              "['Empty',\n",
              " 'Empty',\n",
              " 'Empty',\n",
              " 'Empty',\n",
              " 'Empty',\n",
              " 'Empty',\n",
              " 'Empty',\n",
              " 'Empty',\n",
              " 'Empty',\n",
              " 'Empty',\n",
              " 'Empty',\n",
              " 'Empty',\n",
              " 'Empty',\n",
              " 'Empty',\n",
              " 'Empty',\n",
              " 'Empty',\n",
              " 'Empty',\n",
              " 'Empty',\n",
              " 'Empty',\n",
              " 'Empty',\n",
              " 'Empty',\n",
              " 'Empty',\n",
              " 'Empty',\n",
              " 'Empty',\n",
              " 'Empty',\n",
              " 'Empty',\n",
              " 'Empty',\n",
              " 'Empty',\n",
              " 'Empty',\n",
              " 'Empty',\n",
              " 'Empty',\n",
              " 'Empty',\n",
              " 'Empty',\n",
              " 'Empty',\n",
              " 'Empty',\n",
              " 'Empty',\n",
              " 'Empty',\n",
              " 'Empty',\n",
              " 'Empty',\n",
              " 'Empty',\n",
              " 'Empty',\n",
              " 'Empty',\n",
              " 'Empty',\n",
              " 'Empty',\n",
              " 'Empty',\n",
              " 'Empty',\n",
              " 'Empty',\n",
              " 'Empty',\n",
              " 'Empty',\n",
              " 'Empty',\n",
              " 'Empty',\n",
              " 'Empty',\n",
              " 'Empty',\n",
              " 'Empty',\n",
              " 'Empty',\n",
              " 'Empty',\n",
              " 'Empty',\n",
              " 'Empty',\n",
              " ['Agreement and Plan of Merger dated June 3, 2012, by and among salesforce.com, inc., Bullseye Merger Corporation, Buddy Media, Inc., and Shareholder Representative Services LLC'],\n",
              " ['Agreement and Plan of Merger dated June 3, 2012, by and among salesforce.com, inc., Bullseye Merger Corporation, Buddy Media, Inc., and Shareholder Representative Services LLC'],\n",
              " ['Agreement and Plan of Merger dated June 3, 2012, by and among salesforce.com, inc., Bullseye Merger Corporation, Buddy Media, Inc., and Shareholder Representative Services LLC'],\n",
              " ['Agreement and Plan of Merger dated June 3, 2012, by and among salesforce.com, inc., Bullseye Merger Corporation, Buddy Media, Inc., and Shareholder Representative Services LLC'],\n",
              " ['Unaudited Consolidated Statements of Comprehensive Income (Loss) For the Years Ended January\\xa031, 2012, 2011 and 2010'],\n",
              " ['Unaudited Consolidated Statements of Comprehensive Income (Loss) For the Years Ended January\\xa031, 2012, 2011 and 2010'],\n",
              " 'Empty',\n",
              " 'Empty',\n",
              " 'Empty',\n",
              " ['Press Release, dated March 11, 2013, Announcing the Proposed Offering of Convertible Senior Notes',\n",
              "  'Press Release, dated March 12, 2013, Announcing the Pricing of Convertible Senior Notes'],\n",
              " ['Indenture dated March 18, 2013 between salesforce.com, inc. and U.S. Bank National Association.',\n",
              "  'Purchase Agreement dated March\\xa012, 2013 between salesforce.com, inc. and Merrill Lynch, Pierce, Fenner & Smith Incorporated and Morgan Stanley & Co. LLC, as representatives of the several initial purchasers named in Schedule\\xa0A thereto.',\n",
              "  'Form of Convertible Bond Hedge Confirmation',\n",
              "  'Form of Warrant Confirmation'],\n",
              " ['Amended and Restated Certificate of Incorporation.',\n",
              "  'Press Release, dated March 21, 2013.'],\n",
              " 'Empty',\n",
              " 'Empty',\n",
              " ['Acquisition Agreement dated as of June 3, 2013, by and among salesforce.com, inc., ExactTarget Acquisition Corp. and ExactTarget, Inc.',\n",
              "  'Form of Support Agreement',\n",
              "  'Commitment Letter, dated as of June 3, 2013, among salesforce.com, inc., Bank of America, N.A. and Merrill Lynch, Pierce, Fenner & Smith Incorporated',\n",
              "  'Press Release dated June 4, 2013'],\n",
              " ['Amended and Restated Certificate of Incorporation of salesforce.com, inc.',\n",
              "  'Amended and Restated Bylaws of salesforce.com, inc.',\n",
              "  'Employment Offer Letter, dated May 2, 2013, between salesforce.com, inc. and Keith Black',\n",
              "  '2013 Equity Incentive Plan and related forms of agreements',\n",
              "  'Press Release dated June 6, 2013'],\n",
              " ['Acquisition Agreement dated as of June 3, 2013, by and among salesforce.com, inc., Excalibur Acquisition Corp. and ExactTarget, Inc. (which is incorporated herein by reference to Exhibit 2.1 to the Company\\x92s Current Report on Form 8-K filed with the Commission on June 4, 2013).',\n",
              "  'Credit Agreement, dated as of July 11, 2013, by and among salesforce.com, inc., the guarantors from time to time party thereto, the lenders from time to time party thereto and Bank of America, N.A., as Administrative Agent.',\n",
              "  'Press Release dated July 12, 2013.'],\n",
              " ['Acquisition Agreement dated as of June 3, 2013, by and among salesforce.com, inc., Excalibur Acquisition Corp. and ExactTarget, Inc. (which is incorporated herein by reference to Exhibit 2.1 to the Company\\x92s Current Report on Form 8-K filed with the Commission on June 4, 2013).',\n",
              "  'Credit Agreement, dated as of July 11, 2013, by and among salesforce.com, inc., the guarantors from time to time party thereto, the lenders from time to time party thereto and Bank of America, N.A., as Administrative Agent.',\n",
              "  'Press Release dated July 12, 2013.'],\n",
              " ['Press Release, dated September 12, 2013'],\n",
              " ['Press Release, dated September 12, 2013'],\n",
              " 'Empty',\n",
              " 'Empty',\n",
              " 'Empty',\n",
              " 'Empty',\n",
              " ['Press Release, dated March 14, 2014'],\n",
              " 'Empty',\n",
              " ['Press Release dated April 11, 2014'],\n",
              " 'Empty',\n",
              " ['Employment Offer Letter, dated June 11, 2014, between salesforce.com, inc. and Mark Hawkins',\n",
              "  'Press Release dated June 30, 2014'],\n",
              " ['2014 Inducement Equity Incentive Plan and Related Forms of Equity Award Agreements'],\n",
              " 'Empty',\n",
              " 'Empty',\n",
              " 'Empty',\n",
              " ['Press Release, dated December 8, 2014'],\n",
              " 'Empty',\n",
              " 'Empty',\n",
              " 'Empty',\n",
              " ['Amended and Restated Bylaws of salesforce.com, inc.'],\n",
              " ['Press Release dated March 22, 2016'],\n",
              " ['Agreement and Plan of Merger, dated as of May 31, 2016, by and among salesforce.com, inc., Dynasty Acquisition Corp. and Demandware, Inc.*',\n",
              "  'Commitment Letter, dated as of May 31, 2016, by and among salesforce.com, inc., Bank of America, N.A. and Merrill Lynch, Pierce, Fenner & Smith Incorporated',\n",
              "  'Press Release dated June 1, 2016'],\n",
              " ['Amended and Restated Certificate of Incorporation of salesforce.com, inc.'],\n",
              " 'Empty',\n",
              " 'Empty',\n",
              " ['Amended and Restated 2013 Equity Incentive Plan',\n",
              "  'Amended and Restated 2004 Employee Stock Purchase Plan'],\n",
              " ['Joint Press Release issued by salesforce.com, inc. and MuleSoft, Inc., dated March\\xa020, 2018',\n",
              "  'Investor Presentation'],\n",
              " ['Agreement and Plan of Merger, dated as of March\\xa020, 2018, by and among salesforce.com, inc., Malbec Acquisition Corp. and MuleSoft, Inc.',\n",
              "  'Tender and Support Agreement, dated as of March\\xa020, 2018, by and among salesforce.com, inc., Malbec Acquisition Corp., Lightspeed Venture Partners Select, L.P., Lightspeed Venture Partners VII, L.P., New Enterprise Associates 15, L.P., New Enterprise Associates 14, L.P., NEA 15 Opportunities Fund, L.P. and NEA Ventures 2013, L.P.',\n",
              "  'Tender and Support Agreement, dated as of March\\xa020, 2018, by and among salesforce.com, inc., Malbec Acquisition Corp., Matthew Langdon, Ann Winbald, Gregory Schott, Little Family 1995 TR, Ravi Mhatre, Mhatre Investments LP-Fund 4, Simon Parmett, Robert Horton and Ross Mason.'],\n",
              " ['Underwriting Agreement, dated April\\xa05, 2018, among the Company, Merrill Lynch, Pierce, Fenner\\xa0& Smith Incorporated and J.P. Morgan Securities LLC (acting as Representatives of the several Underwriters named in Schedule A thereto)',\n",
              "  'Indenture, dated April\\xa011, 2018, between the Company and U.S. Bank National Association, as trustee',\n",
              "  'First Supplemental Indenture, dated April\\xa011, 2018, between the Company and U.S. Bank National Association, as trustee',\n",
              "  'Form of 2023 Notes (included in Exhibit 4.2)',\n",
              "  'Form of 2028 Notes (included in Exhibit 4.2)',\n",
              "  'Opinion of Wachtell, Lipton, Rosen\\xa0& Katz, relating to the Notes (including the consent required with respect thereto)'],\n",
              " ['Second Amended and Restated Credit Agreement, dated as of April\\xa030, 2018, among the Company, the lenders and other parties party thereto, and Wells Fargo Bank, National Association, as Administrative Agent, Swingline Lender and an Issuing Lender.',\n",
              "  'Amended and Restated Credit Agreement, dated as of April\\xa030, 2018, among the Company, the lenders and other parties party thereto, and Bank of America, N.A., as Administrative Agent.',\n",
              "  'Credit Agreement, dated as of April\\xa030, 2018, among the Company, the lenders and other parties party thereto, and Bank of America, N.A., as Administrative Agent.'],\n",
              " ['Consent of KPMG LLP, Independent Registered Public Accounting Firm',\n",
              "  'Press Release, dated May 2, 2018',\n",
              "  'Audited Consolidated Financial Statements of MuleSoft (incorporated by reference to MuleSoft\\x92s Annual Report on Form 10-K for the year ended December\\xa031, 2017 filed by MuleSoft with the SEC on February\\xa022, 2018)',\n",
              "  'Unaudited Pro Forma Combined Condensed Balance Sheet as of January\\xa031, 2018, and the Unaudited Pro Forma Combined Condensed Statement of Operations for the year ended January\\xa031, 2018 (in each case incorporated by reference to Amendment No.\\xa01 to Salesforce\\x92s Registration Statement on Form S-4 filed by Salesforce with the SEC on April\\xa023,\\xa02018)'],\n",
              " ['Amended and Restated Certificate of Incorporation of salesforce.com, inc',\n",
              "  'Amended and Restated Bylaws of salesforce.com, inc.',\n",
              "  'Amended and Restated 2013 Equity Incentive Plan'],\n",
              " ['Settlement Agreement between salesforce.com, inc. and BNP Paribas, dated June\\xa012, 2018',\n",
              "  'Settlement Agreement between salesforce.com, inc. and Bank of America, N.A., dated June\\xa012, 2018',\n",
              "  'Settlement Agreement between salesforce.com, inc. and Morgan Stanley\\xa0& Co. International plc, dated June\\xa012, 2018'],\n",
              " ['Amended and Restated Bylaws of salesforce.com, inc.',\n",
              "  'Press Release dated August\\xa07, 2018',\n",
              "  'Press Release dated August\\xa07, 2018'],\n",
              " 'Empty',\n",
              " ['Joint Press Release issued by salesforce.com, inc. and Tableau Software, Inc., dated June\\xa010, 2019',\n",
              "  'Investor Presentation'],\n",
              " ['Agreement and Plan of Merger, dated as of June\\xa09, 2019, by and among salesforce.com, inc., Sausalito Acquisition Corp. and Tableau Software, Inc.',\n",
              "  'Letter Agreement, dated as of June\\xa09, 2019, by and among salesforce.com, inc., Sausalito Acquisition Corp. and Christian Chabot, Patrick Hanrahan and Christopher Stolte.'],\n",
              " ['Consent of PricewaterhouseCoopers LLP',\n",
              "  'Press Release, dated August\\xa01, 2019',\n",
              "  'Audited Consolidated Financial Statements of Tableau (incorporated by reference to Tableau\\x92s Annual Report on Form 10-K for the year ended December\\xa031, 2018 filed by Tableau with the SEC on February\\xa022, 2019)',\n",
              "  'Unaudited Consolidated Financial Statements of Tableau (incorporated by reference to Tableau\\x92s Quarterly Report on Form 10-Q for the quarterly period ended June\\xa030, 2019 filed by Tableau with the SEC on July\\xa031, 2019)',\n",
              "  'Unaudited Pro Forma Combined Condensed Balance Sheet as of April 30, 2019, and the Unaudited Pro Forma Combined Condensed Statement of Operations for the year ended January\\xa031, 2019 and the three months ended April\\xa030, 2019 (in each case incorporated by reference to Amendment No. 1 to Salesforce\\x92s Registration Statement on Form S-4 (Registration No.\\xa0333-232530) filed by Salesforce with the SEC on July\\xa023, 2019)'],\n",
              " 'Empty',\n",
              " 'Empty',\n",
              " 'Empty']"
            ]
          },
          "metadata": {
            "tags": []
          },
          "execution_count": 13
        }
      ]
    },
    {
      "cell_type": "code",
      "metadata": {
        "id": "sZmisqo2mn0L",
        "colab_type": "code",
        "outputId": "42f8bd34-7f20-4e6e-cb0b-d914c63cfa54",
        "colab": {
          "base_uri": "https://localhost:8080/",
          "height": 1000
        }
      },
      "source": [
        "dates"
      ],
      "execution_count": 14,
      "outputs": [
        {
          "output_type": "execute_result",
          "data": {
            "text/plain": [
              "['20191105',\n",
              " '20191122',\n",
              " '20140821',\n",
              " '20140821',\n",
              " '20141112',\n",
              " '20141119',\n",
              " '20141119',\n",
              " '20141219',\n",
              " '20150225',\n",
              " '20150225',\n",
              " '20150225',\n",
              " '20150225',\n",
              " '20150225',\n",
              " '20151124',\n",
              " '20151223',\n",
              " '20160202',\n",
              " '20160224',\n",
              " '20160419',\n",
              " '20160518',\n",
              " '20160711',\n",
              " '20160801',\n",
              " '20160831',\n",
              " '20160831',\n",
              " '20161003',\n",
              " '20161003',\n",
              " '20161117',\n",
              " '20161128',\n",
              " '20170228',\n",
              " '20170518',\n",
              " '20170822',\n",
              " '20170908',\n",
              " '20171106',\n",
              " '20171106',\n",
              " '20171121',\n",
              " '20171121',\n",
              " '20171218',\n",
              " '20180223',\n",
              " '20180228',\n",
              " '20180326',\n",
              " '20180402',\n",
              " '20180529',\n",
              " '20180829',\n",
              " '20180907',\n",
              " '20180907',\n",
              " '20181127',\n",
              " '20190304',\n",
              " '20190415',\n",
              " '20190604',\n",
              " '20190607',\n",
              " '20190807',\n",
              " '20190822',\n",
              " '20190822',\n",
              " '20191203',\n",
              " '20120106',\n",
              " '20120106',\n",
              " '20120302',\n",
              " '20120330',\n",
              " '20120330',\n",
              " '20120604',\n",
              " '20120604',\n",
              " '20120813',\n",
              " '20120813',\n",
              " '20120827',\n",
              " '20120827',\n",
              " '20121130',\n",
              " '20130222',\n",
              " '20130222',\n",
              " '20130313',\n",
              " '20130318',\n",
              " '20130321',\n",
              " '20130329',\n",
              " '20130329',\n",
              " '20130604',\n",
              " '20130611',\n",
              " '20130715',\n",
              " '20130715',\n",
              " '20130912',\n",
              " '20130912',\n",
              " '20131127',\n",
              " '20140203',\n",
              " '20140203',\n",
              " '20140228',\n",
              " '20140314',\n",
              " '20140404',\n",
              " '20140411',\n",
              " '20140606',\n",
              " '20140630',\n",
              " '20140711',\n",
              " '20140912',\n",
              " '20141006',\n",
              " '20141126',\n",
              " '20141208',\n",
              " '20150401',\n",
              " '20150401',\n",
              " '20150626',\n",
              " '20160321',\n",
              " '20160322',\n",
              " '20160601',\n",
              " '20160603',\n",
              " '20170316',\n",
              " '20170419',\n",
              " '20170607',\n",
              " '20180320',\n",
              " '20180321',\n",
              " '20180411',\n",
              " '20180430',\n",
              " '20180502',\n",
              " '20180613',\n",
              " '20180614',\n",
              " '20180808',\n",
              " '20190328',\n",
              " '20190610',\n",
              " '20190610',\n",
              " '20190801',\n",
              " '20191003',\n",
              " '20191212',\n",
              " '20140520']"
            ]
          },
          "metadata": {
            "tags": []
          },
          "execution_count": 14
        }
      ]
    },
    {
      "cell_type": "code",
      "metadata": {
        "id": "og4en5frmn5M",
        "colab_type": "code",
        "colab": {}
      },
      "source": [
        "assert len(dates) == len(results)"
      ],
      "execution_count": 0,
      "outputs": []
    },
    {
      "cell_type": "code",
      "metadata": {
        "id": "6hgH4MTSmn4E",
        "colab_type": "code",
        "colab": {}
      },
      "source": [
        ""
      ],
      "execution_count": 0,
      "outputs": []
    },
    {
      "cell_type": "code",
      "metadata": {
        "id": "xRE5iYJXmnyT",
        "colab_type": "code",
        "colab": {}
      },
      "source": [
        ""
      ],
      "execution_count": 0,
      "outputs": []
    },
    {
      "cell_type": "code",
      "metadata": {
        "id": "gsoVErxUmuUF",
        "colab_type": "code",
        "colab": {}
      },
      "source": [
        ""
      ],
      "execution_count": 0,
      "outputs": []
    }
  ]
}