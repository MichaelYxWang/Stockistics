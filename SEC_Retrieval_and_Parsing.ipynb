{
  "nbformat": 4,
  "nbformat_minor": 0,
  "metadata": {
    "colab": {
      "name": "1. Data Retrieval and Parsing.ipynb",
      "provenance": [],
      "collapsed_sections": []
    },
    "kernelspec": {
      "name": "python3",
      "display_name": "Python 3"
    }
  },
  "cells": [
    {
      "cell_type": "markdown",
      "metadata": {
        "id": "gf6lUfhCjKgW",
        "colab_type": "text"
      },
      "source": [
        "## Imports"
      ]
    },
    {
      "cell_type": "code",
      "metadata": {
        "id": "CZJXgCjDiCvD",
        "colab_type": "code",
        "outputId": "ea09699c-c9c5-4b53-ab51-4d649d54b434",
        "colab": {
          "base_uri": "https://localhost:8080/",
          "height": 156
        }
      },
      "source": [
        "!pip install sec-edgar-downloader"
      ],
      "execution_count": 1,
      "outputs": [
        {
          "output_type": "stream",
          "text": [
            "Requirement already satisfied: sec-edgar-downloader in /usr/local/lib/python3.6/dist-packages (3.0.2)\n",
            "Requirement already satisfied: requests>=2.22.0 in /usr/local/lib/python3.6/dist-packages (from sec-edgar-downloader) (2.23.0)\n",
            "Requirement already satisfied: lxml>=4.3.4 in /usr/local/lib/python3.6/dist-packages (from sec-edgar-downloader) (4.5.0)\n",
            "Requirement already satisfied: urllib3!=1.25.0,!=1.25.1,<1.26,>=1.21.1 in /usr/local/lib/python3.6/dist-packages (from requests>=2.22.0->sec-edgar-downloader) (1.24.3)\n",
            "Requirement already satisfied: chardet<4,>=3.0.2 in /usr/local/lib/python3.6/dist-packages (from requests>=2.22.0->sec-edgar-downloader) (3.0.4)\n",
            "Requirement already satisfied: certifi>=2017.4.17 in /usr/local/lib/python3.6/dist-packages (from requests>=2.22.0->sec-edgar-downloader) (2019.11.28)\n",
            "Requirement already satisfied: idna<3,>=2.5 in /usr/local/lib/python3.6/dist-packages (from requests>=2.22.0->sec-edgar-downloader) (2.8)\n"
          ],
          "name": "stdout"
        }
      ]
    },
    {
      "cell_type": "code",
      "metadata": {
        "id": "wqBE6cUJiLjA",
        "colab_type": "code",
        "colab": {}
      },
      "source": [
        "import sec_edgar_downloader\n",
        "import google.colab as colab\n",
        "import shutil\n",
        "import os\n",
        "import pandas as pd\n",
        "import random\n",
        "from IPython.display import display_html\n",
        "\n",
        "import re\n",
        "import requests\n",
        "import unicodedata\n",
        "from bs4 import BeautifulSoup\n",
        "random.seed(716) "
      ],
      "execution_count": 0,
      "outputs": []
    },
    {
      "cell_type": "markdown",
      "metadata": {
        "id": "LZ3xk-0Dczdg",
        "colab_type": "text"
      },
      "source": [
        "### Mount Google Drive"
      ]
    },
    {
      "cell_type": "code",
      "metadata": {
        "id": "QxIyTxXml65l",
        "colab_type": "code",
        "colab": {}
      },
      "source": [
        "def mount_google_drive():\n",
        "\t'''\n",
        "\t# Functionality\n",
        "\t\tMount google drive. Since colab does not save files, we want to make it easier to directly access files in google drive.\n",
        "\t# Arguments\n",
        "\t\tNothing\n",
        "\t# Returns\n",
        "\t\tdrive_root: the working directory mounted\n",
        "\t'''\n",
        "\tmount_directory = \"/content/gdrive\"\n",
        "\tdrive = colab.drive\n",
        "\tdrive.mount(mount_directory, force_remount=True)\n",
        "\tdrive_root = mount_directory + \"/\" + list(filter(lambda x: x[0] != '.', os.listdir(mount_directory)))[0]\n",
        "\treturn drive_root\n",
        "\n",
        "def get_all_files_from_dir(directory):\n",
        "\n",
        "    '''\n",
        "    # Functionality\n",
        "    Get the whole list of files in a folder\n",
        "\t# Arguments\n",
        "\t\tdirectory: string.  (e.g.,Users/laowang/~vgg/data/flowers/102/102flowers.tgz)\n",
        "\t# Returns\n",
        "\t\tNone\n",
        "\t'''\n",
        "    file_paths = []\n",
        "    for root, dirs, files in os.walk(directory):\n",
        "        file_paths += [os.path.join(root, x) for x in files]\n",
        "    return sorted(file_paths)"
      ],
      "execution_count": 0,
      "outputs": []
    },
    {
      "cell_type": "code",
      "metadata": {
        "id": "X4LE1Ewyc4tD",
        "colab_type": "code",
        "outputId": "6c5dd008-949b-43b4-c980-0690c399fdfe",
        "colab": {
          "base_uri": "https://localhost:8080/",
          "height": 139
        }
      },
      "source": [
        "ROOT_DIR =  mount_google_drive() + \"/ECE457B-Project/\"\n",
        "DATASET_DIR = ROOT_DIR + \"sec8ks/\"\n",
        "print(DATASET_DIR)"
      ],
      "execution_count": 4,
      "outputs": [
        {
          "output_type": "stream",
          "text": [
            "Go to this URL in a browser: https://accounts.google.com/o/oauth2/auth?client_id=947318989803-6bn6qk8qdgf4n4g3pfee6491hc0brc4i.apps.googleusercontent.com&redirect_uri=urn%3aietf%3awg%3aoauth%3a2.0%3aoob&response_type=code&scope=email%20https%3a%2f%2fwww.googleapis.com%2fauth%2fdocs.test%20https%3a%2f%2fwww.googleapis.com%2fauth%2fdrive%20https%3a%2f%2fwww.googleapis.com%2fauth%2fdrive.photos.readonly%20https%3a%2f%2fwww.googleapis.com%2fauth%2fpeopleapi.readonly\n",
            "\n",
            "Enter your authorization code:\n",
            "··········\n",
            "Mounted at /content/gdrive\n",
            "/content/gdrive/My Drive/ECE457B-Project/sec8ks/\n"
          ],
          "name": "stdout"
        }
      ]
    },
    {
      "cell_type": "markdown",
      "metadata": {
        "id": "SeuhKT-oo3f_",
        "colab_type": "text"
      },
      "source": [
        "## Retrieval from Internet"
      ]
    },
    {
      "cell_type": "code",
      "metadata": {
        "id": "5D6dihpmixdI",
        "colab_type": "code",
        "colab": {}
      },
      "source": [
        "downloader = sec_edgar_downloader.Downloader(DATASET_DIR)"
      ],
      "execution_count": 0,
      "outputs": []
    },
    {
      "cell_type": "code",
      "metadata": {
        "id": "CGskoBlkickN",
        "colab_type": "code",
        "outputId": "6f64e260-483b-470d-8bca-e38c0726370a",
        "colab": {
          "base_uri": "https://localhost:8080/",
          "height": 34
        }
      },
      "source": [
        "downloader.get(\"8-K\", \"GOOGL\", after_date=\"20120103\", before_date=\"20161230\")"
      ],
      "execution_count": 199,
      "outputs": [
        {
          "output_type": "execute_result",
          "data": {
            "text/plain": [
              "13"
            ]
          },
          "metadata": {
            "tags": []
          },
          "execution_count": 199
        }
      ]
    },
    {
      "cell_type": "markdown",
      "metadata": {
        "id": "0cC7r1h-_NLD",
        "colab_type": "text"
      },
      "source": [
        "## Parse 8-k reports"
      ]
    },
    {
      "cell_type": "code",
      "metadata": {
        "id": "8mjiAm5V1Ncm",
        "colab_type": "code",
        "colab": {}
      },
      "source": [
        "# file_name = DATASET_DIR + \"sec_edgar_filings/GOOGL/8-K/0001652044-16-000035.txt\""
      ],
      "execution_count": 0,
      "outputs": []
    },
    {
      "cell_type": "code",
      "metadata": {
        "id": "4oNa_AnV1Kyr",
        "colab_type": "code",
        "colab": {}
      },
      "source": [
        "# with open(file_name, \"r\") as f:\n",
        "#     soup = BeautifulSoup(f.read(), \"html\")\n",
        "#     found = False\n",
        "# date = str(soup.find(\"acceptance-datetime\"))[21:29]\n",
        "# date"
      ],
      "execution_count": 0,
      "outputs": []
    },
    {
      "cell_type": "code",
      "metadata": {
        "id": "-cCIX_zG1K3K",
        "colab_type": "code",
        "colab": {}
      },
      "source": [
        "# for table in soup.findAll('table'):\n",
        "#   if str(table).find(\"Financial Statements and Exhibits\") != -1:\n",
        "#     found = True\n",
        "\n",
        "#   if found:\n",
        "#     if str(table).find(\"Description\") != -1: # Normally Item description\n",
        "#       sample = pd.read_html(str(table))[0]\n",
        "#       print(list(sample[1].dropna()[1:]), date)\n",
        "#       break"
      ],
      "execution_count": 0,
      "outputs": []
    },
    {
      "cell_type": "code",
      "metadata": {
        "id": "YKSJMQuz1K1a",
        "colab_type": "code",
        "colab": {}
      },
      "source": [
        ""
      ],
      "execution_count": 0,
      "outputs": []
    },
    {
      "cell_type": "code",
      "metadata": {
        "id": "l1nECWvfXoIf",
        "colab_type": "code",
        "colab": {}
      },
      "source": [
        "def extract_fin_info(file_name):\n",
        "  with open(file_name, \"r\") as f:\n",
        "    soup = BeautifulSoup(f.read(), \"html\")\n",
        "    found = False\n",
        "\n",
        "  date = str(soup.find(\"acceptance-datetime\"))[21:29]\n",
        "\n",
        "  for table in soup.findAll('table'):\n",
        "    if str(table).find(\"Financial Statements and Exhibits\") != -1:\n",
        "      found = True\n",
        "\n",
        "    if found:\n",
        "      if str(table).find(\"Description\") != -1: # Normally Item description\n",
        "        sample = pd.read_html(str(table))[0]\n",
        "        return list(sample[1].dropna()[1:]), date"
      ],
      "execution_count": 0,
      "outputs": []
    },
    {
      "cell_type": "code",
      "metadata": {
        "id": "9M4NtFzAXteZ",
        "colab_type": "code",
        "colab": {
          "base_uri": "https://localhost:8080/",
          "height": 34
        },
        "outputId": "33cf9408-2d8b-4e6a-df13-a5004a78b398"
      },
      "source": [
        "results = []\n",
        "dates = []\n",
        "\n",
        "for file_name in get_all_files_from_dir(DATASET_DIR):\n",
        "  try:\n",
        "    result, date = extract_fin_info(file_name)\n",
        "  except:\n",
        "    print(file_name)\n",
        "    pass\n",
        "  if result:\n",
        "    results.append(result)\n",
        "    dates.append(date)"
      ],
      "execution_count": 31,
      "outputs": [
        {
          "output_type": "stream",
          "text": [
            "/content/gdrive/My Drive/ECE457B-Project/sec8ks/sec_edgar_filings/GOOGL/8-K/0001652044-15-000007.txt\n"
          ],
          "name": "stdout"
        }
      ]
    },
    {
      "cell_type": "code",
      "metadata": {
        "id": "T-1VN0TbXtjU",
        "colab_type": "code",
        "colab": {
          "base_uri": "https://localhost:8080/",
          "height": 34
        },
        "outputId": "898e3a85-22c4-4722-eb95-d97f6881a222"
      },
      "source": [
        "len(get_all_files_from_dir(DATASET_DIR))"
      ],
      "execution_count": 32,
      "outputs": [
        {
          "output_type": "execute_result",
          "data": {
            "text/plain": [
              "13"
            ]
          },
          "metadata": {
            "tags": []
          },
          "execution_count": 32
        }
      ]
    },
    {
      "cell_type": "code",
      "metadata": {
        "id": "WCxcf1liXtlv",
        "colab_type": "code",
        "colab": {
          "base_uri": "https://localhost:8080/",
          "height": 34
        },
        "outputId": "4ce681fc-f1a1-478a-fedb-b838646b81a0"
      },
      "source": [
        "len(results)"
      ],
      "execution_count": 33,
      "outputs": [
        {
          "output_type": "execute_result",
          "data": {
            "text/plain": [
              "7"
            ]
          },
          "metadata": {
            "tags": []
          },
          "execution_count": 33
        }
      ]
    },
    {
      "cell_type": "code",
      "metadata": {
        "id": "5yYz4CGNXtht",
        "colab_type": "code",
        "colab": {
          "base_uri": "https://localhost:8080/",
          "height": 326
        },
        "outputId": "415dfd67-885d-4f7c-e5cb-dc689f1485e4"
      },
      "source": [
        "results"
      ],
      "execution_count": 35,
      "outputs": [
        {
          "output_type": "execute_result",
          "data": {
            "text/plain": [
              "[['Press release of Google Inc. dated October 22, 2015'],\n",
              " ['Press release of Google Inc. dated October 22, 2015'],\n",
              " ['Press release of Alphabet Inc. dated February 1, 2016'],\n",
              " ['Press release of Alphabet Inc. dated April 21, 2016',\n",
              "  'Financial tables for the quarter ended March 31, 2016'],\n",
              " ['Consent of Ernst & Young LLP, Independent Registered Public Accounting Firm',\n",
              "  'Updates, where applicable, to Part II, Item 7. Management’s Discussion and Analysis of Financial Condition and Results of Operations, from Alphabet’s Annual Report on Form 10-K for the year ended December 31, 2015, as filed with the Securities and Exchange Commission on February 11, 2016',\n",
              "  'Updates, where applicable, to Part II, Item 8. Financial Statements and Supplementary Data, from Alphabet’s Annual Report on Form 10-K for the year ended December 31, 2015, as filed with the Securities and Exchange Commission on February 11, 2016',\n",
              "  'XBRL Instance Document',\n",
              "  'XBRL Taxonomy Extension Schema Document',\n",
              "  'XBRL Taxonomy Extension Calculation Linkbase Document',\n",
              "  'XBRL Taxonomy Extension Definition Linkbase Document',\n",
              "  'XBRL Taxonomy Extension Label Linkbase Document',\n",
              "  'XBRL Taxonomy Extension Presentation Linkbase Document'],\n",
              " ['Press release of Alphabet Inc. dated July 28, 2016',\n",
              "  'Financial tables for the quarter ended June 30, 2016'],\n",
              " ['Press release of Alphabet Inc. dated October 27, 2016']]"
            ]
          },
          "metadata": {
            "tags": []
          },
          "execution_count": 35
        }
      ]
    },
    {
      "cell_type": "code",
      "metadata": {
        "id": "sZmisqo2mn0L",
        "colab_type": "code",
        "colab": {
          "base_uri": "https://localhost:8080/",
          "height": 34
        },
        "outputId": "014803d2-1ce0-4ee9-b840-63a68892a948"
      },
      "source": [
        "dates[1]"
      ],
      "execution_count": 198,
      "outputs": [
        {
          "output_type": "execute_result",
          "data": {
            "text/plain": [
              "'20120604'"
            ]
          },
          "metadata": {
            "tags": []
          },
          "execution_count": 198
        }
      ]
    },
    {
      "cell_type": "code",
      "metadata": {
        "id": "og4en5frmn5M",
        "colab_type": "code",
        "colab": {}
      },
      "source": [
        ""
      ],
      "execution_count": 0,
      "outputs": []
    },
    {
      "cell_type": "code",
      "metadata": {
        "id": "6hgH4MTSmn4E",
        "colab_type": "code",
        "colab": {}
      },
      "source": [
        ""
      ],
      "execution_count": 0,
      "outputs": []
    },
    {
      "cell_type": "code",
      "metadata": {
        "id": "xRE5iYJXmnyT",
        "colab_type": "code",
        "colab": {}
      },
      "source": [
        ""
      ],
      "execution_count": 0,
      "outputs": []
    },
    {
      "cell_type": "code",
      "metadata": {
        "id": "gsoVErxUmuUF",
        "colab_type": "code",
        "colab": {}
      },
      "source": [
        ""
      ],
      "execution_count": 0,
      "outputs": []
    }
  ]
}