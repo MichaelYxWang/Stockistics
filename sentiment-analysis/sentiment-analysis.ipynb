{
 "cells": [
  {
   "cell_type": "code",
   "execution_count": 77,
   "metadata": {
    "scrolled": true
   },
   "outputs": [],
   "source": [
    "# import feedparser\n",
    "# import re\n",
    "# from datetime import datetime\n",
    "# from time import mktime\n",
    "# from textblob import TextBlob as tb\n",
    "# NewsFeed = feedparser.parse(\"https://rss.app/feeds/NQ9NPnCqwnXCJpDp.xml\")\n",
    "\n",
    "# numArticles = len(NewsFeed['entries'])\n",
    "\n",
    "# articles = []\n",
    "\n",
    "# for i in range(0, numArticles):\n",
    "#     article = {}\n",
    "    \n",
    "#     # date\n",
    "#     if 'published_parsed' in NewsFeed['entries'][i]:\n",
    "#         fullDate = NewsFeed['entries'][i]['published_parsed']\n",
    "\n",
    "#         year = str(fullDate[0])\n",
    "#         month = str(fullDate[1])\n",
    "#         if (len(month) <= 1):\n",
    "#             month = str(0) + month\n",
    "#         date = str(fullDate[2])\n",
    "#         if (len(date) <= 1):\n",
    "#             date = str(0) + date\n",
    "#         article['date'] = year + month + date\n",
    "        \n",
    "#     # initial description\n",
    "#     descInit = NewsFeed['entries'][i]['summary_detail']['value']\n",
    "#     # cleaning out the img tag\n",
    "#     descClean = re.sub('\\<img.*$', '', descInit)\n",
    "#     # final description\n",
    "#     description = tb(descClean)\n",
    "#     # title of the entry\n",
    "#     title = tb(NewsFeed['entries'][i]['title'])\n",
    "#      # final string which contains description and headline to get a better polarity result\n",
    "#     completeString = title + description\n",
    "\n",
    "#     article['polarity'] = completeString.sentiment.polarity\n",
    "#     articles.append(article)\n",
    "\n",
    "# dict = {}\n",
    "# for article in articles:\n",
    "#     if 'date' in article:\n",
    "#         d = article['date']\n",
    "#         p = article['polarity']\n",
    "        \n",
    "#         if d in dict:\n",
    "#             currPolarity = dict[d]\n",
    "#             newPolarity = (currPolarity + p) / 2\n",
    "#             dict[d] = newPolarity\n",
    "#         else:\n",
    "#             dict[d] = p\n",
    "         \n",
    "# print(dict)\n"
   ]
  },
  {
   "cell_type": "code",
   "execution_count": 78,
   "metadata": {},
   "outputs": [
    {
     "name": "stdout",
     "output_type": "stream",
     "text": [
      "10077\n"
     ]
    }
   ],
   "source": [
    "import pandas as pd\n",
    "\n",
    "#read in csv file\n",
    "df = pd.read_csv(\"./data.csv\")\n",
    "print(len(df))"
   ]
  },
  {
   "cell_type": "code",
   "execution_count": 79,
   "metadata": {},
   "outputs": [],
   "source": [
    "from textblob import TextBlob as tb\n",
    "import csv\n",
    "dict = {}\n",
    "\n",
    "titleCount = len(df)\n",
    "for i in range(titleCount):\n",
    "    date = df['Date'][i]\n",
    "    polarity = tb(df['Title'][i]).sentiment.polarity\n",
    "\n",
    "    if date in dict:\n",
    "        currPolarity = dict[date]\n",
    "        newPolarity = (currPolarity + polarity) / 2\n",
    "        dict[date] = newPolarity\n",
    "    else:\n",
    "        dict[date] = polarity\n",
    "         \n",
    "\n",
    "with open('dict.csv', 'w') as f:\n",
    "    for key in dict.keys():\n",
    "        f.write(\"%s, %s\\n\" % (key, dict[key]))\n"
   ]
  },
  {
   "cell_type": "code",
   "execution_count": null,
   "metadata": {},
   "outputs": [],
   "source": []
  }
 ],
 "metadata": {
  "kernelspec": {
   "display_name": "Python 3",
   "language": "python",
   "name": "python3"
  },
  "language_info": {
   "codemirror_mode": {
    "name": "ipython",
    "version": 3
   },
   "file_extension": ".py",
   "mimetype": "text/x-python",
   "name": "python",
   "nbconvert_exporter": "python",
   "pygments_lexer": "ipython3",
   "version": "3.7.3"
  }
 },
 "nbformat": 4,
 "nbformat_minor": 2
}
