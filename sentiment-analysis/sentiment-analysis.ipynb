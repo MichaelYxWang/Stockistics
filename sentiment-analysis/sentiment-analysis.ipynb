{
 "cells": [
  {
   "cell_type": "code",
   "execution_count": 41,
   "metadata": {},
   "outputs": [],
   "source": [
    "# from textblob import TextBlob\n",
    "# import nltk\n",
    "# from newspaper import Article"
   ]
  },
  {
   "cell_type": "code",
   "execution_count": 42,
   "metadata": {},
   "outputs": [],
   "source": [
    "# url = 'https://www.cbc.ca/news/world/police-checks-fines-fail-to-keep-all-the-french-at-home-as-macron-has-ordered-1.5504458'\n",
    "# article = Article(url)"
   ]
  },
  {
   "cell_type": "code",
   "execution_count": 43,
   "metadata": {},
   "outputs": [],
   "source": [
    "# # Do some NLP\n",
    "# article.download() #Downloads the link’s HTML content\n",
    "# article.parse() #Parse the article\n",
    "# article.nlp()#  Keyword extraction wrapper\n",
    "# text = article.summary\n",
    "# print(text)"
   ]
  },
  {
   "cell_type": "code",
   "execution_count": 44,
   "metadata": {},
   "outputs": [],
   "source": [
    "# obj = TextBlob(text)\n",
    "# #returns the sentiment of text\n",
    "# #by returning a value between -1.0 and 1.0\n",
    "# sentiment = obj.sentiment.polarity\n",
    "# print(sentiment)"
   ]
  },
  {
   "cell_type": "code",
   "execution_count": 45,
   "metadata": {},
   "outputs": [],
   "source": [
    "# for sentence in obj.sentences:\n",
    "#     print(sentence)\n",
    "#     print(sentence.sentiment)"
   ]
  },
  {
   "cell_type": "code",
   "execution_count": 46,
   "metadata": {
    "scrolled": true
   },
   "outputs": [
    {
     "name": "stdout",
     "output_type": "stream",
     "text": [
      "{'20200326': 0.28828125, '20200302': 0.1, '20200324': 0.0, '20200325': -0.08385416666666667, '20200320': 0.0, '20200323': 0.0, '20200317': 0.5, '20200316': 0.0, '20200309': -0.18181818181818182, '20200226': 0.06818181818181818, '20200318': 0.0, '20200227': 0.0}\n"
     ]
    }
   ],
   "source": [
    "import feedparser\n",
    "import re\n",
    "from datetime import datetime\n",
    "from time import mktime\n",
    "from textblob import TextBlob as tb\n",
    "NewsFeed = feedparser.parse(\"https://rss.app/feeds/NQ9NPnCqwnXCJpDp.xml\")\n",
    "\n",
    "numArticles = len(NewsFeed['entries'])\n",
    "\n",
    "articles = []\n",
    "\n",
    "for i in range(0, numArticles):\n",
    "    article = {}\n",
    "    \n",
    "    # date\n",
    "    if 'published_parsed' in NewsFeed['entries'][i]:\n",
    "        fullDate = NewsFeed['entries'][i]['published_parsed']\n",
    "\n",
    "        year = str(fullDate[0])\n",
    "        month = str(fullDate[1])\n",
    "        if (len(month) <= 1):\n",
    "            month = str(0) + month\n",
    "        date = str(fullDate[2])\n",
    "        if (len(date) <= 1):\n",
    "            date = str(0) + date\n",
    "        article['date'] = year + month + date\n",
    "        \n",
    "    # initial description\n",
    "    descInit = NewsFeed['entries'][i]['summary_detail']['value']\n",
    "    # cleaning out the img tag\n",
    "    descClean = re.sub('\\<img.*$', '', descInit)\n",
    "    # final description\n",
    "    description = tb(descClean)\n",
    "    # title of the entry\n",
    "    title = tb(NewsFeed['entries'][i]['title'])\n",
    "     # final string which contains description and headline to get a better polarity result\n",
    "    completeString = title + description\n",
    "\n",
    "    article['polarity'] = completeString.sentiment.polarity\n",
    "    articles.append(article)\n",
    "\n",
    "dict = {}\n",
    "for article in articles:\n",
    "    if 'date' in article:\n",
    "        d = article['date']\n",
    "        p = article['polarity']\n",
    "        \n",
    "        if d in dict:\n",
    "            currPolarity = dict[d]\n",
    "            newPolarity = (currPolarity + p) / 2\n",
    "            dict[d] = newPolarity\n",
    "        else:\n",
    "            dict[d] = p\n",
    "         \n",
    "print(dict)\n"
   ]
  },
  {
   "cell_type": "code",
   "execution_count": null,
   "metadata": {},
   "outputs": [],
   "source": []
  }
 ],
 "metadata": {
  "kernelspec": {
   "display_name": "Python 3",
   "language": "python",
   "name": "python3"
  }
 },
 "nbformat": 4,
 "nbformat_minor": 2
}
