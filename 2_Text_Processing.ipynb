{
  "nbformat": 4,
  "nbformat_minor": 0,
  "metadata": {
    "colab": {
      "name": "2_Text_Processing.ipynb",
      "provenance": [],
      "collapsed_sections": []
    },
    "kernelspec": {
      "name": "python3",
      "display_name": "Python 3"
    }
  },
  "cells": [
    {
      "cell_type": "code",
      "metadata": {
        "id": "nulMWW_RFOwy",
        "colab_type": "code",
        "colab": {}
      },
      "source": [
        "# Procedure:\n",
        "# 1. [date, string lists] --> [date, string]\n",
        "# 2. EDA on text lengths per day pick the 90th percentile --> for Tokenizer setup"
      ],
      "execution_count": 0,
      "outputs": []
    },
    {
      "cell_type": "code",
      "metadata": {
        "id": "FFr35gKAR2x9",
        "colab_type": "code",
        "colab": {}
      },
      "source": [
        "import google.colab as colab\n",
        "import shutil\n",
        "import os\n",
        "import pandas as pd\n",
        "import random\n",
        "import numpy as np\n",
        "import re\n",
        "from matplotlib import pyplot as plt"
      ],
      "execution_count": 0,
      "outputs": []
    },
    {
      "cell_type": "code",
      "metadata": {
        "id": "vxPFM1g8Eb6B",
        "colab_type": "code",
        "colab": {
          "base_uri": "https://localhost:8080/",
          "height": 51
        },
        "outputId": "e87b73c7-9d8e-4ef0-b99f-ea1eda9435b8"
      },
      "source": [
        "import nltk\n",
        "nltk.download('stopwords')\n",
        "from nltk.corpus import stopwords"
      ],
      "execution_count": 3,
      "outputs": [
        {
          "output_type": "stream",
          "text": [
            "[nltk_data] Downloading package stopwords to /root/nltk_data...\n",
            "[nltk_data]   Package stopwords is already up-to-date!\n"
          ],
          "name": "stdout"
        }
      ]
    },
    {
      "cell_type": "markdown",
      "metadata": {
        "id": "LZ3xk-0Dczdg",
        "colab_type": "text"
      },
      "source": [
        "### Mount Google Drive"
      ]
    },
    {
      "cell_type": "code",
      "metadata": {
        "id": "QxIyTxXml65l",
        "colab_type": "code",
        "colab": {}
      },
      "source": [
        "def mount_google_drive():\n",
        "\t'''\n",
        "\t# Functionality\n",
        "\t\tMount google drive. Since colab does not save files, we want to make it easier to directly access files in google drive.\n",
        "\t# Arguments\n",
        "\t\tNothing\n",
        "\t# Returns\n",
        "\t\tdrive_root: the working directory mounted\n",
        "\t'''\n",
        "\tmount_directory = \"/content/gdrive\"\n",
        "\tdrive = colab.drive\n",
        "\tdrive.mount(mount_directory, force_remount=True)\n",
        "\tdrive_root = mount_directory + \"/\" + list(filter(lambda x: x[0] != '.', os.listdir(mount_directory)))[0]\n",
        "\treturn drive_root\n",
        "\n",
        "def get_all_files_from_dir(directory):\n",
        "\n",
        "    '''\n",
        "    # Functionality\n",
        "    Get the whole list of files in a folder\n",
        "\t# Arguments\n",
        "\t\tdirectory: string.  (e.g.,Users/laowang/~vgg/data/flowers/102/102flowers.tgz)\n",
        "\t# Returns\n",
        "\t\tNone\n",
        "\t'''\n",
        "    file_paths = []\n",
        "    for root, dirs, files in os.walk(directory):\n",
        "        file_paths += [os.path.join(root, x) for x in files]\n",
        "    return sorted(file_paths)"
      ],
      "execution_count": 0,
      "outputs": []
    },
    {
      "cell_type": "code",
      "metadata": {
        "id": "X4LE1Ewyc4tD",
        "colab_type": "code",
        "outputId": "61f537f4-d95f-4f09-8fdf-49dd70bc6872",
        "colab": {
          "base_uri": "https://localhost:8080/",
          "height": 51
        }
      },
      "source": [
        "ROOT_DIR =  mount_google_drive() + \"/ECE457B-Project/\"\n",
        "DATASET_DIR = ROOT_DIR + \"sec8ks/\"\n",
        "print(DATASET_DIR)"
      ],
      "execution_count": 5,
      "outputs": [
        {
          "output_type": "stream",
          "text": [
            "Mounted at /content/gdrive\n",
            "/content/gdrive/My Drive/ECE457B-Project/sec8ks/\n"
          ],
          "name": "stdout"
        }
      ]
    },
    {
      "cell_type": "markdown",
      "metadata": {
        "id": "PJj68kScU4ZE",
        "colab_type": "text"
      },
      "source": [
        "## EDA on text lengths\n"
      ]
    },
    {
      "cell_type": "code",
      "metadata": {
        "id": "waHDL8foSp8j",
        "colab_type": "code",
        "colab": {}
      },
      "source": [
        "results = np.load(ROOT_DIR + \"sec.npy\", allow_pickle=True).tolist()"
      ],
      "execution_count": 0,
      "outputs": []
    },
    {
      "cell_type": "code",
      "metadata": {
        "id": "lLqF4dgtVkvI",
        "colab_type": "code",
        "colab": {
          "base_uri": "https://localhost:8080/",
          "height": 34
        },
        "outputId": "99753907-b8c5-417f-8b69-3beee81c08c4"
      },
      "source": [
        "len(results)"
      ],
      "execution_count": 7,
      "outputs": [
        {
          "output_type": "execute_result",
          "data": {
            "text/plain": [
              "47"
            ]
          },
          "metadata": {
            "tags": []
          },
          "execution_count": 7
        }
      ]
    },
    {
      "cell_type": "code",
      "metadata": {
        "id": "WWiwn-cQEBSA",
        "colab_type": "code",
        "colab": {}
      },
      "source": [
        "REPLACE_BY_SPACE_RE = re.compile('[/(){}\\[\\]\\|@,;]')\n",
        "BAD_SYMBOLS_RE = re.compile('[^0-9a-z #+_]') # ??\n",
        "STOPWORDS = set(stopwords.words('english'))\n",
        "\n",
        "def text_prepare(text):\n",
        "    \"\"\"\n",
        "        text: a string\n",
        "        \n",
        "        return: modified initial string\n",
        "    \"\"\"\n",
        "    text = text.lower() # lowercase text\n",
        "    text = re.sub(REPLACE_BY_SPACE_RE, \" \", text) # replace REPLACE_BY_SPACE_RE symbols by space in text\n",
        "    text = re.sub(BAD_SYMBOLS_RE, \"\", text)      # delete symbols which are in BAD_SYMBOLS_RE from text\n",
        "    text = \" \".join([word for word in text.split(\" \") if word not in STOPWORDS]) # delete stopwords from text\n",
        "    text = re.sub(' +', ' ', text)\n",
        "    return text"
      ],
      "execution_count": 0,
      "outputs": []
    },
    {
      "cell_type": "code",
      "metadata": {
        "id": "ne564jPQE5Ce",
        "colab_type": "code",
        "colab": {}
      },
      "source": [
        "modified_results = []\n",
        "\n",
        "for element in results:\n",
        "  modified_results.append([element[0], text_prepare(element[1])])"
      ],
      "execution_count": 0,
      "outputs": []
    },
    {
      "cell_type": "code",
      "metadata": {
        "id": "4Q8pV9bNFSBC",
        "colab_type": "code",
        "colab": {
          "base_uri": "https://localhost:8080/",
          "height": 1000
        },
        "outputId": "87c38e36-9d08-4943-f5bf-9e57d2aa2f0a"
      },
      "source": [
        "modified_results"
      ],
      "execution_count": 10,
      "outputs": [
        {
          "output_type": "execute_result",
          "data": {
            "text/plain": [
              "[['20100119',\n",
              "  'indenture salesforcecom inc us bank national association dated january 19 2010 purchase agreement dated january 12 2010 salesforcecom inc merrill lynch pierce fenner smith incorporated representative several initial purchasers named schedulea thereto form convertible bond hedge confirmation form warrant confirmation press release dated january 19 2010 announcing closing offering notes'],\n",
              " ['20100119',\n",
              "  'indenture salesforcecom inc us bank national association dated january 19 2010 purchase agreement dated january 12 2010 salesforcecom inc merrill lynch pierce fenner smith incorporated representative several initial purchasers named schedulea thereto form convertible bond hedge confirmation form warrant confirmation press release dated january 19 2010 announcing closing offering notes'],\n",
              " ['20100421', 'press release dated april 21 2010'],\n",
              " ['20100421', 'press release dated april 21 2010'],\n",
              " ['20101027', 'press release dated october 27 2010'],\n",
              " ['20101208',\n",
              "  'agreement plan merger dated december7 2010 among salesforcecom inc hiiaka acquisition corporation heroku inc respect articles vii viii ix thereof john connors stockholder representative us bank national association escrow agent'],\n",
              " ['20101208',\n",
              "  'agreement plan merger dated december7 2010 among salesforcecom inc hiiaka acquisition corporation heroku inc respect articles vii viii ix thereof john connors stockholder representative us bank national association escrow agent'],\n",
              " ['20101208',\n",
              "  'agreement plan merger dated december7 2010 among salesforcecom inc hiiaka acquisition corporation heroku inc respect articles vii viii ix thereof john connors stockholder representative us bank national association escrow agent'],\n",
              " ['20110330',\n",
              "  'share purchase agreement dated march30 2011 among salesforcecom inc salesforcecom canada corporation radian6 technologies inc shareholders company shareholder representative'],\n",
              " ['20110502',\n",
              "  'share purchase agreement dated march30 2011 among salesforcecom inc salesforcecom canada corporation radian6 technologies inc radian6 technologies inc shareholders shareholder representative incorporated herein reference exhibit 21 companys current report form8k fileno 00132224 filed march 30 2011 '],\n",
              " ['20110502',\n",
              "  'share purchase agreement dated march30 2011 among salesforcecom inc salesforcecom canada corporation radian6 technologies inc radian6 technologies inc shareholders shareholder representative incorporated herein reference exhibit 21 companys current report form8k fileno 00132224 filed march 30 2011 '],\n",
              " ['20120604',\n",
              "  'agreement plan merger dated june 3 2012 among salesforcecom inc bullseye merger corporation buddy media inc shareholder representative services llc'],\n",
              " ['20120604',\n",
              "  'agreement plan merger dated june 3 2012 among salesforcecom inc bullseye merger corporation buddy media inc shareholder representative services llc'],\n",
              " ['20120813',\n",
              "  'agreement plan merger dated june 3 2012 among salesforcecom inc bullseye merger corporation buddy media inc shareholder representative services llc'],\n",
              " ['20120813',\n",
              "  'agreement plan merger dated june 3 2012 among salesforcecom inc bullseye merger corporation buddy media inc shareholder representative services llc'],\n",
              " ['20120827',\n",
              "  'unaudited consolidated statements comprehensive income loss years ended january31 2012 2011 2010'],\n",
              " ['20120827',\n",
              "  'unaudited consolidated statements comprehensive income loss years ended january31 2012 2011 2010'],\n",
              " ['20130313',\n",
              "  'press release dated march 11 2013 announcing proposed offering convertible senior notes press release dated march 12 2013 announcing pricing convertible senior notes'],\n",
              " ['20130318',\n",
              "  'indenture dated march 18 2013 salesforcecom inc us bank national association purchase agreement dated march12 2013 salesforcecom inc merrill lynch pierce fenner smith incorporated morgan stanley co llc representatives several initial purchasers named schedulea thereto form convertible bond hedge confirmation form warrant confirmation'],\n",
              " ['20130321',\n",
              "  'amended restated certificate incorporation press release dated march 21 2013'],\n",
              " ['20130604',\n",
              "  'acquisition agreement dated june 3 2013 among salesforcecom inc exacttarget acquisition corp exacttarget inc form support agreement commitment letter dated june 3 2013 among salesforcecom inc bank america na merrill lynch pierce fenner smith incorporated press release dated june 4 2013'],\n",
              " ['20130611',\n",
              "  'amended restated certificate incorporation salesforcecom inc amended restated bylaws salesforcecom inc employment offer letter dated may 2 2013 salesforcecom inc keith black 2013 equity incentive plan related forms agreements press release dated june 6 2013'],\n",
              " ['20130715',\n",
              "  'acquisition agreement dated june 3 2013 among salesforcecom inc excalibur acquisition corp exacttarget inc incorporated herein reference exhibit 21 companys current report form 8k filed commission june 4 2013 credit agreement dated july 11 2013 among salesforcecom inc guarantors time time party thereto lenders time time party thereto bank america na administrative agent press release dated july 12 2013'],\n",
              " ['20130715',\n",
              "  'acquisition agreement dated june 3 2013 among salesforcecom inc excalibur acquisition corp exacttarget inc incorporated herein reference exhibit 21 companys current report form 8k filed commission june 4 2013 credit agreement dated july 11 2013 among salesforcecom inc guarantors time time party thereto lenders time time party thereto bank america na administrative agent press release dated july 12 2013'],\n",
              " ['20130912', 'press release dated september 12 2013'],\n",
              " ['20130912', 'press release dated september 12 2013'],\n",
              " ['20140314', 'press release dated march 14 2014'],\n",
              " ['20140411', 'press release dated april 11 2014'],\n",
              " ['20140630',\n",
              "  'employment offer letter dated june 11 2014 salesforcecom inc mark hawkins press release dated june 30 2014'],\n",
              " ['20140711',\n",
              "  '2014 inducement equity incentive plan related forms equity award agreements'],\n",
              " ['20141208', 'press release dated december 8 2014'],\n",
              " ['20160321', 'amended restated bylaws salesforcecom inc'],\n",
              " ['20160322', 'press release dated march 22 2016'],\n",
              " ['20160601',\n",
              "  'agreement plan merger dated may 31 2016 among salesforcecom inc dynasty acquisition corp demandware inc commitment letter dated may 31 2016 among salesforcecom inc bank america na merrill lynch pierce fenner smith incorporated press release dated june 1 2016'],\n",
              " ['20160603', 'amended restated certificate incorporation salesforcecom inc'],\n",
              " ['20170607',\n",
              "  'amended restated 2013 equity incentive plan amended restated 2004 employee stock purchase plan'],\n",
              " ['20180320',\n",
              "  'joint press release issued salesforcecom inc mulesoft inc dated march20 2018 investor presentation'],\n",
              " ['20180321',\n",
              "  'agreement plan merger dated march20 2018 among salesforcecom inc malbec acquisition corp mulesoft inc tender support agreement dated march20 2018 among salesforcecom inc malbec acquisition corp lightspeed venture partners select lp lightspeed venture partners vii lp new enterprise associates 15 lp new enterprise associates 14 lp nea 15 opportunities fund lp nea ventures 2013 lp tender support agreement dated march20 2018 among salesforcecom inc malbec acquisition corp matthew langdon ann winbald gregory schott little family 1995 tr ravi mhatre mhatre investments lpfund 4 simon parmett robert horton ross mason'],\n",
              " ['20180411',\n",
              "  'underwriting agreement dated april5 2018 among company merrill lynch pierce fenner smith incorporated jp morgan securities llc acting representatives several underwriters named schedule thereto indenture dated april11 2018 company us bank national association trustee first supplemental indenture dated april11 2018 company us bank national association trustee form 2023 notes included exhibit 42 form 2028 notes included exhibit 42 opinion wachtell lipton rosen katz relating notes including consent required respect thereto '],\n",
              " ['20180430',\n",
              "  'second amended restated credit agreement dated april30 2018 among company lenders parties party thereto wells fargo bank national association administrative agent swingline lender issuing lender amended restated credit agreement dated april30 2018 among company lenders parties party thereto bank america na administrative agent credit agreement dated april30 2018 among company lenders parties party thereto bank america na administrative agent'],\n",
              " ['20180502',\n",
              "  'consent kpmg llp independent registered public accounting firm press release dated may 2 2018 audited consolidated financial statements mulesoft incorporated reference mulesofts annual report form 10k year ended december31 2017 filed mulesoft sec february22 2018 unaudited pro forma combined condensed balance sheet january31 2018 unaudited pro forma combined condensed statement operations year ended january31 2018 case incorporated reference amendment no1 salesforces registration statement form s4 filed salesforce sec april23 2018 '],\n",
              " ['20180613',\n",
              "  'amended restated certificate incorporation salesforcecom inc amended restated bylaws salesforcecom inc amended restated 2013 equity incentive plan'],\n",
              " ['20180614',\n",
              "  'settlement agreement salesforcecom inc bnp paribas dated june12 2018 settlement agreement salesforcecom inc bank america na dated june12 2018 settlement agreement salesforcecom inc morgan stanley co international plc dated june12 2018'],\n",
              " ['20180808',\n",
              "  'amended restated bylaws salesforcecom inc press release dated august7 2018 press release dated august7 2018'],\n",
              " ['20190610',\n",
              "  'joint press release issued salesforcecom inc tableau software inc dated june10 2019 investor presentation'],\n",
              " ['20190610',\n",
              "  'agreement plan merger dated june9 2019 among salesforcecom inc sausalito acquisition corp tableau software inc letter agreement dated june9 2019 among salesforcecom inc sausalito acquisition corp christian chabot patrick hanrahan christopher stolte'],\n",
              " ['20190801',\n",
              "  'consent pricewaterhousecoopers llp press release dated august1 2019 audited consolidated financial statements tableau incorporated reference tableaus annual report form 10k year ended december31 2018 filed tableau sec february22 2019 unaudited consolidated financial statements tableau incorporated reference tableaus quarterly report form 10q quarterly period ended june30 2019 filed tableau sec july31 2019 unaudited pro forma combined condensed balance sheet april 30 2019 unaudited pro forma combined condensed statement operations year ended january31 2019 three months ended april30 2019 case incorporated reference amendment 1 salesforces registration statement form s4 registration no333232530 filed salesforce sec july23 2019 ']]"
            ]
          },
          "metadata": {
            "tags": []
          },
          "execution_count": 10
        }
      ]
    },
    {
      "cell_type": "code",
      "metadata": {
        "id": "pYTxi733FS9t",
        "colab_type": "code",
        "colab": {}
      },
      "source": [
        "np.save(ROOT_DIR + \"sec_modified.npy\", np.array(modified_results))"
      ],
      "execution_count": 0,
      "outputs": []
    },
    {
      "cell_type": "code",
      "metadata": {
        "id": "ChuZBqSFFhfD",
        "colab_type": "code",
        "colab": {}
      },
      "source": [
        "text_lengths = []\n",
        "\n",
        "for element in modified_results:\n",
        "  text_lengths.append(len(element[1].split()))"
      ],
      "execution_count": 0,
      "outputs": []
    },
    {
      "cell_type": "code",
      "metadata": {
        "id": "GNyhg3UwGNMw",
        "colab_type": "code",
        "colab": {
          "base_uri": "https://localhost:8080/",
          "height": 350
        },
        "outputId": "5de777ef-a72b-4882-d1ba-970a51e46284"
      },
      "source": [
        "binwidth = 5\n",
        "plt.hist(text_lengths, bins=range(min(text_lengths), max(text_lengths) + binwidth, binwidth))"
      ],
      "execution_count": 13,
      "outputs": [
        {
          "output_type": "execute_result",
          "data": {
            "text/plain": [
              "(array([11.,  7.,  4.,  5.,  0.,  5.,  4.,  2.,  0.,  2.,  3.,  0.,  0.,\n",
              "         2.,  0.,  0.,  1.,  1.]),\n",
              " array([ 5, 10, 15, 20, 25, 30, 35, 40, 45, 50, 55, 60, 65, 70, 75, 80, 85,\n",
              "        90, 95]),\n",
              " <a list of 18 Patch objects>)"
            ]
          },
          "metadata": {
            "tags": []
          },
          "execution_count": 13
        },
        {
          "output_type": "display_data",
          "data": {
            "image/png": "[encoded data removed]",
            "text/plain": [
              "<Figure size 432x288 with 1 Axes>"
            ]
          },
          "metadata": {
            "tags": []
          }
        }
      ]
    },
    {
      "cell_type": "code",
      "metadata": {
        "id": "Lx_HybdHGOAk",
        "colab_type": "code",
        "colab": {}
      },
      "source": [
        ""
      ],
      "execution_count": 0,
      "outputs": []
    }
  ]
}