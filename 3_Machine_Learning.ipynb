{
  "nbformat": 4,
  "nbformat_minor": 0,
  "metadata": {
    "colab": {
      "name": "3_Machine_Learning.ipynb",
      "provenance": [],
      "collapsed_sections": []
    },
    "kernelspec": {
      "name": "python3",
      "display_name": "Python 3"
    },
    "accelerator": "GPU"
  },
  "cells": [
    {
      "cell_type": "code",
      "metadata": {
        "id": "FFr35gKAR2x9",
        "colab_type": "code",
        "outputId": "0e53e5cd-d224-4abd-f5bc-21ea615592a1",
        "colab": {
          "base_uri": "https://localhost:8080/",
          "height": 34
        }
      },
      "source": [
        "import google.colab as colab\n",
        "import shutil\n",
        "import os\n",
        "import pandas as pd\n",
        "import random\n",
        "import numpy as np\n",
        "import re\n",
        "import matplotlib.pyplot as plt\n",
        "import datetime\n",
        "\n",
        "from keras.preprocessing.text import Tokenizer\n",
        "from keras.preprocessing.sequence import pad_sequences\n",
        "from keras.utils import to_categorical\n",
        "from keras import regularizers"
      ],
      "execution_count": 0,
      "outputs": [
        {
          "output_type": "stream",
          "text": [
            "Using TensorFlow backend.\n"
          ],
          "name": "stderr"
        }
      ]
    },
    {
      "cell_type": "code",
      "metadata": {
        "id": "Lt9ZRthXdTop",
        "colab_type": "code",
        "colab": {}
      },
      "source": [
        "# Hyperparams\n",
        "embedding_dim = 300\n",
        "max_length = 100\n",
        "trunc_type='post'\n",
        "padding_type='post'\n",
        "oov_tok = \"<OOV>\"\n",
        "\n",
        "split_size = 0.5 # training set proportion. we can tune it to see when our model overfits\n",
        "dp = 0.2 # dropout\n",
        "num_units_lstm = 64"
      ],
      "execution_count": 0,
      "outputs": []
    },
    {
      "cell_type": "markdown",
      "metadata": {
        "id": "LZ3xk-0Dczdg",
        "colab_type": "text"
      },
      "source": [
        "### Mount Google Drive"
      ]
    },
    {
      "cell_type": "code",
      "metadata": {
        "id": "QxIyTxXml65l",
        "colab_type": "code",
        "colab": {}
      },
      "source": [
        "def mount_google_drive():\n",
        "\t'''\n",
        "\t# Functionality\n",
        "\t\tMount google drive. Since colab does not save files, we want to make it easier to directly access files in google drive.\n",
        "\t# Arguments\n",
        "\t\tNothing\n",
        "\t# Returns\n",
        "\t\tdrive_root: the working directory mounted\n",
        "\t'''\n",
        "\tmount_directory = \"/content/gdrive\"\n",
        "\tdrive = colab.drive\n",
        "\tdrive.mount(mount_directory, force_remount=True)\n",
        "\tdrive_root = mount_directory + \"/\" + list(filter(lambda x: x[0] != '.', os.listdir(mount_directory)))[0]\n",
        "\treturn drive_root\n",
        "\n",
        "def get_all_files_from_dir(directory):\n",
        "\n",
        "    '''\n",
        "    # Functionality\n",
        "    Get the whole list of files in a folder\n",
        "\t# Arguments\n",
        "\t\tdirectory: string.  (e.g.,Users/laowang/~vgg/data/flowers/102/102flowers.tgz)\n",
        "\t# Returns\n",
        "\t\tNone\n",
        "\t'''\n",
        "    file_paths = []\n",
        "    for root, dirs, files in os.walk(directory):\n",
        "        file_paths += [os.path.join(root, x) for x in files]\n",
        "    return sorted(file_paths)"
      ],
      "execution_count": 0,
      "outputs": []
    },
    {
      "cell_type": "code",
      "metadata": {
        "id": "X4LE1Ewyc4tD",
        "colab_type": "code",
        "outputId": "c76b413c-df46-41c8-e4d0-e754c8e69957",
        "colab": {
          "base_uri": "https://localhost:8080/",
          "height": 51
        }
      },
      "source": [
        "ROOT_DIR =  mount_google_drive() + \"/ECE457B-Project/\"\n",
        "DATASET_DIR = ROOT_DIR + \"sec8ks/\"\n",
        "print(DATASET_DIR)"
      ],
      "execution_count": 0,
      "outputs": [
        {
          "output_type": "stream",
          "text": [
            "Mounted at /content/gdrive\n",
            "/content/gdrive/My Drive/ECE457B-Project/sec8ks/\n"
          ],
          "name": "stdout"
        }
      ]
    },
    {
      "cell_type": "markdown",
      "metadata": {
        "id": "2d4wecU0ZT67",
        "colab_type": "text"
      },
      "source": [
        "## Load NLP Sentences"
      ]
    },
    {
      "cell_type": "code",
      "metadata": {
        "id": "UPIcouKZZWYP",
        "colab_type": "code",
        "colab": {}
      },
      "source": [
        "modified_results = np.load(ROOT_DIR + \"sec_modified.npy\", allow_pickle=True)"
      ],
      "execution_count": 0,
      "outputs": []
    },
    {
      "cell_type": "code",
      "metadata": {
        "id": "hh7BHuA7Za1A",
        "colab_type": "code",
        "outputId": "9bacc1a8-326d-4d99-c1cc-a104e607b9da",
        "colab": {
          "base_uri": "https://localhost:8080/",
          "height": 1000
        }
      },
      "source": [
        "modified_results"
      ],
      "execution_count": 0,
      "outputs": [
        {
          "output_type": "execute_result",
          "data": {
            "text/plain": [
              "array([[datetime.date(2010, 1, 19),\n",
              "        'indenture salesforcecom inc us bank national association dated january 19 2010 purchase agreement dated january 12 2010 salesforcecom inc merrill lynch pierce fenner smith incorporated representative several initial purchasers named schedulea thereto form convertible bond hedge confirmation form warrant confirmation press release dated january 19 2010 announcing closing offering notes'],\n",
              "       [datetime.date(2010, 1, 19),\n",
              "        'indenture salesforcecom inc us bank national association dated january 19 2010 purchase agreement dated january 12 2010 salesforcecom inc merrill lynch pierce fenner smith incorporated representative several initial purchasers named schedulea thereto form convertible bond hedge confirmation form warrant confirmation press release dated january 19 2010 announcing closing offering notes'],\n",
              "       [datetime.date(2010, 4, 21), 'press release dated april 21 2010'],\n",
              "       [datetime.date(2010, 4, 21), 'press release dated april 21 2010'],\n",
              "       [datetime.date(2010, 10, 27),\n",
              "        'press release dated october 27 2010'],\n",
              "       [datetime.date(2010, 12, 8),\n",
              "        'agreement plan merger dated december7 2010 among salesforcecom inc hiiaka acquisition corporation heroku inc respect articles vii viii ix thereof john connors stockholder representative us bank national association escrow agent'],\n",
              "       [datetime.date(2010, 12, 8),\n",
              "        'agreement plan merger dated december7 2010 among salesforcecom inc hiiaka acquisition corporation heroku inc respect articles vii viii ix thereof john connors stockholder representative us bank national association escrow agent'],\n",
              "       [datetime.date(2010, 12, 8),\n",
              "        'agreement plan merger dated december7 2010 among salesforcecom inc hiiaka acquisition corporation heroku inc respect articles vii viii ix thereof john connors stockholder representative us bank national association escrow agent'],\n",
              "       [datetime.date(2011, 3, 30),\n",
              "        'share purchase agreement dated march30 2011 among salesforcecom inc salesforcecom canada corporation radian6 technologies inc shareholders company shareholder representative'],\n",
              "       [datetime.date(2011, 5, 2),\n",
              "        'share purchase agreement dated march30 2011 among salesforcecom inc salesforcecom canada corporation radian6 technologies inc radian6 technologies inc shareholders shareholder representative incorporated herein reference exhibit 21 companys current report form8k fileno 00132224 filed march 30 2011 '],\n",
              "       [datetime.date(2011, 5, 2),\n",
              "        'share purchase agreement dated march30 2011 among salesforcecom inc salesforcecom canada corporation radian6 technologies inc radian6 technologies inc shareholders shareholder representative incorporated herein reference exhibit 21 companys current report form8k fileno 00132224 filed march 30 2011 '],\n",
              "       [datetime.date(2012, 6, 4),\n",
              "        'agreement plan merger dated june 3 2012 among salesforcecom inc bullseye merger corporation buddy media inc shareholder representative services llc'],\n",
              "       [datetime.date(2012, 6, 4),\n",
              "        'agreement plan merger dated june 3 2012 among salesforcecom inc bullseye merger corporation buddy media inc shareholder representative services llc'],\n",
              "       [datetime.date(2012, 8, 13),\n",
              "        'agreement plan merger dated june 3 2012 among salesforcecom inc bullseye merger corporation buddy media inc shareholder representative services llc'],\n",
              "       [datetime.date(2012, 8, 13),\n",
              "        'agreement plan merger dated june 3 2012 among salesforcecom inc bullseye merger corporation buddy media inc shareholder representative services llc'],\n",
              "       [datetime.date(2012, 8, 27),\n",
              "        'unaudited consolidated statements comprehensive income loss years ended january31 2012 2011 2010'],\n",
              "       [datetime.date(2012, 8, 27),\n",
              "        'unaudited consolidated statements comprehensive income loss years ended january31 2012 2011 2010'],\n",
              "       [datetime.date(2013, 3, 13),\n",
              "        'press release dated march 11 2013 announcing proposed offering convertible senior notes press release dated march 12 2013 announcing pricing convertible senior notes'],\n",
              "       [datetime.date(2013, 3, 18),\n",
              "        'indenture dated march 18 2013 salesforcecom inc us bank national association purchase agreement dated march12 2013 salesforcecom inc merrill lynch pierce fenner smith incorporated morgan stanley co llc representatives several initial purchasers named schedulea thereto form convertible bond hedge confirmation form warrant confirmation'],\n",
              "       [datetime.date(2013, 3, 21),\n",
              "        'amended restated certificate incorporation press release dated march 21 2013'],\n",
              "       [datetime.date(2013, 6, 4),\n",
              "        'acquisition agreement dated june 3 2013 among salesforcecom inc exacttarget acquisition corp exacttarget inc form support agreement commitment letter dated june 3 2013 among salesforcecom inc bank america na merrill lynch pierce fenner smith incorporated press release dated june 4 2013'],\n",
              "       [datetime.date(2013, 6, 11),\n",
              "        'amended restated certificate incorporation salesforcecom inc amended restated bylaws salesforcecom inc employment offer letter dated may 2 2013 salesforcecom inc keith black 2013 equity incentive plan related forms agreements press release dated june 6 2013'],\n",
              "       [datetime.date(2013, 7, 15),\n",
              "        'acquisition agreement dated june 3 2013 among salesforcecom inc excalibur acquisition corp exacttarget inc incorporated herein reference exhibit 21 companys current report form 8k filed commission june 4 2013 credit agreement dated july 11 2013 among salesforcecom inc guarantors time time party thereto lenders time time party thereto bank america na administrative agent press release dated july 12 2013'],\n",
              "       [datetime.date(2013, 7, 15),\n",
              "        'acquisition agreement dated june 3 2013 among salesforcecom inc excalibur acquisition corp exacttarget inc incorporated herein reference exhibit 21 companys current report form 8k filed commission june 4 2013 credit agreement dated july 11 2013 among salesforcecom inc guarantors time time party thereto lenders time time party thereto bank america na administrative agent press release dated july 12 2013'],\n",
              "       [datetime.date(2013, 9, 12),\n",
              "        'press release dated september 12 2013'],\n",
              "       [datetime.date(2013, 9, 12),\n",
              "        'press release dated september 12 2013'],\n",
              "       [datetime.date(2014, 3, 14), 'press release dated march 14 2014'],\n",
              "       [datetime.date(2014, 4, 11), 'press release dated april 11 2014'],\n",
              "       [datetime.date(2014, 6, 30),\n",
              "        'employment offer letter dated june 11 2014 salesforcecom inc mark hawkins press release dated june 30 2014'],\n",
              "       [datetime.date(2014, 7, 11),\n",
              "        '2014 inducement equity incentive plan related forms equity award agreements'],\n",
              "       [datetime.date(2014, 12, 8),\n",
              "        'press release dated december 8 2014'],\n",
              "       [datetime.date(2016, 3, 21),\n",
              "        'amended restated bylaws salesforcecom inc'],\n",
              "       [datetime.date(2016, 3, 22), 'press release dated march 22 2016'],\n",
              "       [datetime.date(2016, 6, 1),\n",
              "        'agreement plan merger dated may 31 2016 among salesforcecom inc dynasty acquisition corp demandware inc commitment letter dated may 31 2016 among salesforcecom inc bank america na merrill lynch pierce fenner smith incorporated press release dated june 1 2016'],\n",
              "       [datetime.date(2016, 6, 3),\n",
              "        'amended restated certificate incorporation salesforcecom inc'],\n",
              "       [datetime.date(2017, 6, 7),\n",
              "        'amended restated 2013 equity incentive plan amended restated 2004 employee stock purchase plan'],\n",
              "       [datetime.date(2018, 3, 20),\n",
              "        'joint press release issued salesforcecom inc mulesoft inc dated march20 2018 investor presentation'],\n",
              "       [datetime.date(2018, 3, 21),\n",
              "        'agreement plan merger dated march20 2018 among salesforcecom inc malbec acquisition corp mulesoft inc tender support agreement dated march20 2018 among salesforcecom inc malbec acquisition corp lightspeed venture partners select lp lightspeed venture partners vii lp new enterprise associates 15 lp new enterprise associates 14 lp nea 15 opportunities fund lp nea ventures 2013 lp tender support agreement dated march20 2018 among salesforcecom inc malbec acquisition corp matthew langdon ann winbald gregory schott little family 1995 tr ravi mhatre mhatre investments lpfund 4 simon parmett robert horton ross mason'],\n",
              "       [datetime.date(2018, 4, 11),\n",
              "        'underwriting agreement dated april5 2018 among company merrill lynch pierce fenner smith incorporated jp morgan securities llc acting representatives several underwriters named schedule thereto indenture dated april11 2018 company us bank national association trustee first supplemental indenture dated april11 2018 company us bank national association trustee form 2023 notes included exhibit 42 form 2028 notes included exhibit 42 opinion wachtell lipton rosen katz relating notes including consent required respect thereto '],\n",
              "       [datetime.date(2018, 4, 30),\n",
              "        'second amended restated credit agreement dated april30 2018 among company lenders parties party thereto wells fargo bank national association administrative agent swingline lender issuing lender amended restated credit agreement dated april30 2018 among company lenders parties party thereto bank america na administrative agent credit agreement dated april30 2018 among company lenders parties party thereto bank america na administrative agent'],\n",
              "       [datetime.date(2018, 5, 2),\n",
              "        'consent kpmg llp independent registered public accounting firm press release dated may 2 2018 audited consolidated financial statements mulesoft incorporated reference mulesofts annual report form 10k year ended december31 2017 filed mulesoft sec february22 2018 unaudited pro forma combined condensed balance sheet january31 2018 unaudited pro forma combined condensed statement operations year ended january31 2018 case incorporated reference amendment no1 salesforces registration statement form s4 filed salesforce sec april23 2018 '],\n",
              "       [datetime.date(2018, 6, 13),\n",
              "        'amended restated certificate incorporation salesforcecom inc amended restated bylaws salesforcecom inc amended restated 2013 equity incentive plan'],\n",
              "       [datetime.date(2018, 6, 14),\n",
              "        'settlement agreement salesforcecom inc bnp paribas dated june12 2018 settlement agreement salesforcecom inc bank america na dated june12 2018 settlement agreement salesforcecom inc morgan stanley co international plc dated june12 2018'],\n",
              "       [datetime.date(2018, 8, 8),\n",
              "        'amended restated bylaws salesforcecom inc press release dated august7 2018 press release dated august7 2018'],\n",
              "       [datetime.date(2019, 6, 10),\n",
              "        'joint press release issued salesforcecom inc tableau software inc dated june10 2019 investor presentation'],\n",
              "       [datetime.date(2019, 6, 10),\n",
              "        'agreement plan merger dated june9 2019 among salesforcecom inc sausalito acquisition corp tableau software inc letter agreement dated june9 2019 among salesforcecom inc sausalito acquisition corp christian chabot patrick hanrahan christopher stolte'],\n",
              "       [datetime.date(2019, 8, 1),\n",
              "        'consent pricewaterhousecoopers llp press release dated august1 2019 audited consolidated financial statements tableau incorporated reference tableaus annual report form 10k year ended december31 2018 filed tableau sec february22 2019 unaudited consolidated financial statements tableau incorporated reference tableaus quarterly report form 10q quarterly period ended june30 2019 filed tableau sec july31 2019 unaudited pro forma combined condensed balance sheet april 30 2019 unaudited pro forma combined condensed statement operations year ended january31 2019 three months ended april30 2019 case incorporated reference amendment 1 salesforces registration statement form s4 registration no333232530 filed salesforce sec july23 2019 ']],\n",
              "      dtype=object)"
            ]
          },
          "metadata": {
            "tags": []
          },
          "execution_count": 6
        }
      ]
    },
    {
      "cell_type": "code",
      "metadata": {
        "id": "dVd3PyxVZa3O",
        "colab_type": "code",
        "outputId": "cbccaa3a-a6fd-456e-8975-f975182ae321",
        "colab": {
          "base_uri": "https://localhost:8080/",
          "height": 207
        }
      },
      "source": [
        "sentences = modified_results[:, 1].tolist()\n",
        "sentences[:10]"
      ],
      "execution_count": 0,
      "outputs": [
        {
          "output_type": "execute_result",
          "data": {
            "text/plain": [
              "['indenture salesforcecom inc us bank national association dated january 19 2010 purchase agreement dated january 12 2010 salesforcecom inc merrill lynch pierce fenner smith incorporated representative several initial purchasers named schedulea thereto form convertible bond hedge confirmation form warrant confirmation press release dated january 19 2010 announcing closing offering notes',\n",
              " 'indenture salesforcecom inc us bank national association dated january 19 2010 purchase agreement dated january 12 2010 salesforcecom inc merrill lynch pierce fenner smith incorporated representative several initial purchasers named schedulea thereto form convertible bond hedge confirmation form warrant confirmation press release dated january 19 2010 announcing closing offering notes',\n",
              " 'press release dated april 21 2010',\n",
              " 'press release dated april 21 2010',\n",
              " 'press release dated october 27 2010',\n",
              " 'agreement plan merger dated december7 2010 among salesforcecom inc hiiaka acquisition corporation heroku inc respect articles vii viii ix thereof john connors stockholder representative us bank national association escrow agent',\n",
              " 'agreement plan merger dated december7 2010 among salesforcecom inc hiiaka acquisition corporation heroku inc respect articles vii viii ix thereof john connors stockholder representative us bank national association escrow agent',\n",
              " 'agreement plan merger dated december7 2010 among salesforcecom inc hiiaka acquisition corporation heroku inc respect articles vii viii ix thereof john connors stockholder representative us bank national association escrow agent',\n",
              " 'share purchase agreement dated march30 2011 among salesforcecom inc salesforcecom canada corporation radian6 technologies inc shareholders company shareholder representative',\n",
              " 'share purchase agreement dated march30 2011 among salesforcecom inc salesforcecom canada corporation radian6 technologies inc radian6 technologies inc shareholders shareholder representative incorporated herein reference exhibit 21 companys current report form8k fileno 00132224 filed march 30 2011 ']"
            ]
          },
          "metadata": {
            "tags": []
          },
          "execution_count": 7
        }
      ]
    },
    {
      "cell_type": "code",
      "metadata": {
        "id": "N5KQLWYVd6gF",
        "colab_type": "code",
        "colab": {}
      },
      "source": [
        "# Set up tokenizer and convert text to numerial sequences\n",
        "tokenizer = Tokenizer(oov_token=oov_tok)\n",
        "tokenizer.fit_on_texts(sentences)"
      ],
      "execution_count": 0,
      "outputs": []
    },
    {
      "cell_type": "code",
      "metadata": {
        "id": "cZxgTeb5exZq",
        "colab_type": "code",
        "outputId": "0f527ff5-bb73-4739-ea7e-418f84633d00",
        "colab": {
          "base_uri": "https://localhost:8080/",
          "height": 34
        }
      },
      "source": [
        "word_index = tokenizer.word_index\n",
        "vocab_size=len(word_index)\n",
        "vocab_size"
      ],
      "execution_count": 0,
      "outputs": [
        {
          "output_type": "execute_result",
          "data": {
            "text/plain": [
              "303"
            ]
          },
          "metadata": {
            "tags": []
          },
          "execution_count": 9
        }
      ]
    },
    {
      "cell_type": "code",
      "metadata": {
        "id": "zxBh-NCAe0f8",
        "colab_type": "code",
        "colab": {}
      },
      "source": [
        "sequences = tokenizer.texts_to_sequences(sentences)\n",
        "padded = pad_sequences(sequences, maxlen=max_length, padding=padding_type, truncating=trunc_type)"
      ],
      "execution_count": 0,
      "outputs": []
    },
    {
      "cell_type": "code",
      "metadata": {
        "id": "pK7w6_IFe299",
        "colab_type": "code",
        "colab": {}
      },
      "source": [
        "assert padded.shape[0] == len(sentences)"
      ],
      "execution_count": 0,
      "outputs": []
    },
    {
      "cell_type": "code",
      "metadata": {
        "id": "ulphCnLAfNek",
        "colab_type": "code",
        "outputId": "ca6f1020-3e44-4bbf-9323-265240f9c9f1",
        "colab": {
          "base_uri": "https://localhost:8080/",
          "height": 34
        }
      },
      "source": [
        "padded.shape"
      ],
      "execution_count": 0,
      "outputs": [
        {
          "output_type": "execute_result",
          "data": {
            "text/plain": [
              "(47, 100)"
            ]
          },
          "metadata": {
            "tags": []
          },
          "execution_count": 12
        }
      ]
    },
    {
      "cell_type": "code",
      "metadata": {
        "id": "T6-FOnAhy5pe",
        "colab_type": "code",
        "outputId": "c89a6a5c-443e-43f9-c3fa-b2bcd79b4f02",
        "colab": {
          "base_uri": "https://localhost:8080/",
          "height": 34
        }
      },
      "source": [
        "type(padded)"
      ],
      "execution_count": 0,
      "outputs": [
        {
          "output_type": "execute_result",
          "data": {
            "text/plain": [
              "numpy.ndarray"
            ]
          },
          "metadata": {
            "tags": []
          },
          "execution_count": 13
        }
      ]
    },
    {
      "cell_type": "code",
      "metadata": {
        "id": "egwZ-g6EfDOw",
        "colab_type": "code",
        "outputId": "b1fb2946-816f-436e-8deb-e762c35b5d5a",
        "colab": {
          "base_uri": "https://localhost:8080/",
          "height": 204
        }
      },
      "source": [
        "sequences = padded.tolist()\n",
        "dates = modified_results[:, 0].tolist()\n",
        "\n",
        "df_nlp = pd.DataFrame(list(zip(dates, sequences)), columns =['Date', 'Features']) \n",
        "df_nlp.set_index(\"Date\")\n",
        "df_nlp.head()"
      ],
      "execution_count": 0,
      "outputs": [
        {
          "output_type": "execute_result",
          "data": {
            "text/html": [
              "<div>\n",
              "<style scoped>\n",
              "    .dataframe tbody tr th:only-of-type {\n",
              "        vertical-align: middle;\n",
              "    }\n",
              "\n",
              "    .dataframe tbody tr th {\n",
              "        vertical-align: top;\n",
              "    }\n",
              "\n",
              "    .dataframe thead th {\n",
              "        text-align: right;\n",
              "    }\n",
              "</style>\n",
              "<table border=\"1\" class=\"dataframe\">\n",
              "  <thead>\n",
              "    <tr style=\"text-align: right;\">\n",
              "      <th></th>\n",
              "      <th>Date</th>\n",
              "      <th>Features</th>\n",
              "    </tr>\n",
              "  </thead>\n",
              "  <tbody>\n",
              "    <tr>\n",
              "      <th>0</th>\n",
              "      <td>2010-01-19</td>\n",
              "      <td>[61, 4, 3, 30, 11, 25, 26, 2, 48, 75, 17, 36, ...</td>\n",
              "    </tr>\n",
              "    <tr>\n",
              "      <th>1</th>\n",
              "      <td>2010-01-19</td>\n",
              "      <td>[61, 4, 3, 30, 11, 25, 26, 2, 48, 75, 17, 36, ...</td>\n",
              "    </tr>\n",
              "    <tr>\n",
              "      <th>2</th>\n",
              "      <td>2010-04-21</td>\n",
              "      <td>[7, 8, 2, 79, 39, 17, 0, 0, 0, 0, 0, 0, 0, 0, ...</td>\n",
              "    </tr>\n",
              "    <tr>\n",
              "      <th>3</th>\n",
              "      <td>2010-04-21</td>\n",
              "      <td>[7, 8, 2, 79, 39, 17, 0, 0, 0, 0, 0, 0, 0, 0, ...</td>\n",
              "    </tr>\n",
              "    <tr>\n",
              "      <th>4</th>\n",
              "      <td>2010-10-27</td>\n",
              "      <td>[7, 8, 2, 205, 206, 17, 0, 0, 0, 0, 0, 0, 0, 0...</td>\n",
              "    </tr>\n",
              "  </tbody>\n",
              "</table>\n",
              "</div>"
            ],
            "text/plain": [
              "         Date                                           Features\n",
              "0  2010-01-19  [61, 4, 3, 30, 11, 25, 26, 2, 48, 75, 17, 36, ...\n",
              "1  2010-01-19  [61, 4, 3, 30, 11, 25, 26, 2, 48, 75, 17, 36, ...\n",
              "2  2010-04-21  [7, 8, 2, 79, 39, 17, 0, 0, 0, 0, 0, 0, 0, 0, ...\n",
              "3  2010-04-21  [7, 8, 2, 79, 39, 17, 0, 0, 0, 0, 0, 0, 0, 0, ...\n",
              "4  2010-10-27  [7, 8, 2, 205, 206, 17, 0, 0, 0, 0, 0, 0, 0, 0..."
            ]
          },
          "metadata": {
            "tags": []
          },
          "execution_count": 14
        }
      ]
    },
    {
      "cell_type": "markdown",
      "metadata": {
        "id": "StaW-rvEYfoj",
        "colab_type": "text"
      },
      "source": [
        "## Set up word embedding model"
      ]
    },
    {
      "cell_type": "code",
      "metadata": {
        "id": "pkngQNEmYVfj",
        "colab_type": "code",
        "colab": {}
      },
      "source": [
        "# Takes 3 mins to load\n",
        "embeddings_index = {};\n",
        "with open(ROOT_DIR + 'glove.840B.300d.txt', encoding='utf8') as f:\n",
        "    for line in f:\n",
        "        values = line.split();\n",
        "        word = ''.join(values[:-300])\n",
        "        coefs = np.asarray(values[-300:], dtype='float32')\n",
        "        embeddings_index[word] = coefs;\n",
        "\n",
        "embeddings_matrix = np.zeros((vocab_size, embedding_dim));\n",
        "for word, i in word_index.items():\n",
        "    embedding_vector = embeddings_index.get(word);\n",
        "    if embedding_vector is not None:\n",
        "        embeddings_matrix[i] = embedding_vector"
      ],
      "execution_count": 0,
      "outputs": []
    },
    {
      "cell_type": "markdown",
      "metadata": {
        "id": "rWYSVF1qTYK3",
        "colab_type": "text"
      },
      "source": [
        "## Load time series dataset\n"
      ]
    },
    {
      "cell_type": "code",
      "metadata": {
        "id": "hJf__3pjTRkb",
        "colab_type": "code",
        "colab": {}
      },
      "source": [
        "df_tseries = pd.read_csv(ROOT_DIR + 'CRM.csv',index_col=\"Date\",parse_dates=True)"
      ],
      "execution_count": 0,
      "outputs": []
    },
    {
      "cell_type": "code",
      "metadata": {
        "id": "gnqP440vMnhe",
        "colab_type": "code",
        "outputId": "0374edec-2337-4b92-acd1-faaa69f5f7dd",
        "colab": {
          "base_uri": "https://localhost:8080/",
          "height": 34
        }
      },
      "source": [
        "df_tseries.shape"
      ],
      "execution_count": 0,
      "outputs": [
        {
          "output_type": "execute_result",
          "data": {
            "text/plain": [
              "(2549, 6)"
            ]
          },
          "metadata": {
            "tags": []
          },
          "execution_count": 17
        }
      ]
    },
    {
      "cell_type": "code",
      "metadata": {
        "id": "4SmfONfdTrqY",
        "colab_type": "code",
        "outputId": "28672a89-e1cc-4ff0-d952-3252910d30d9",
        "colab": {
          "base_uri": "https://localhost:8080/",
          "height": 387
        }
      },
      "source": [
        "df_tseries['Open'].plot(figsize=(16,6))"
      ],
      "execution_count": 0,
      "outputs": [
        {
          "output_type": "execute_result",
          "data": {
            "text/plain": [
              "<matplotlib.axes._subplots.AxesSubplot at 0x7f8429aac208>"
            ]
          },
          "metadata": {
            "tags": []
          },
          "execution_count": 18
        },
        {
          "output_type": "display_data",
          "data": {
            "image/png": "[encoded data removed]",
            "text/plain": [
              "<Figure size 1152x432 with 1 Axes>"
            ]
          },
          "metadata": {
            "tags": []
          }
        }
      ]
    },
    {
      "cell_type": "code",
      "metadata": {
        "id": "SxEgWBP2ViY6",
        "colab_type": "code",
        "colab": {}
      },
      "source": [
        "# # convert column \"a\" of a DataFrame\n",
        "# df_tseries[\"Close\"] = df_tseries[\"Close\"].str.replace(',', '').astype(float)\n",
        "# df_tseries[\"Volume\"] = df_tseries[\"Volume\"].str.replace(',', '').astype(float)"
      ],
      "execution_count": 0,
      "outputs": []
    },
    {
      "cell_type": "code",
      "metadata": {
        "id": "2jEL6DTXXm3f",
        "colab_type": "code",
        "outputId": "d2f2b103-0603-49aa-96d5-f1afa5eb0f10",
        "colab": {
          "base_uri": "https://localhost:8080/",
          "height": 387
        }
      },
      "source": [
        "df_tseries['Open'].plot(figsize=(16,6))\n",
        "df_tseries.rolling(window=30).mean()['Close'].plot()"
      ],
      "execution_count": 0,
      "outputs": [
        {
          "output_type": "execute_result",
          "data": {
            "text/plain": [
              "<matplotlib.axes._subplots.AxesSubplot at 0x7f84160a1748>"
            ]
          },
          "metadata": {
            "tags": []
          },
          "execution_count": 20
        },
        {
          "output_type": "display_data",
          "data": {
            "image/png": "[encoded data removed]",
            "text/plain": [
              "<Figure size 1152x432 with 1 Axes>"
            ]
          },
          "metadata": {
            "tags": []
          }
        }
      ]
    },
    {
      "cell_type": "code",
      "metadata": {
        "id": "Oe3raLObXuz4",
        "colab_type": "code",
        "outputId": "7cc09cd6-96d4-48ea-9dff-7ebc7ae3003b",
        "colab": {
          "base_uri": "https://localhost:8080/",
          "height": 385
        }
      },
      "source": [
        "df_tseries['Close: 30 Day Mean'] = df_tseries['Close'].rolling(window=30).mean()\n",
        "df_tseries[['Close','Close: 30 Day Mean']].plot(figsize=(16,6))"
      ],
      "execution_count": 0,
      "outputs": [
        {
          "output_type": "execute_result",
          "data": {
            "text/plain": [
              "<matplotlib.axes._subplots.AxesSubplot at 0x7f8415f71438>"
            ]
          },
          "metadata": {
            "tags": []
          },
          "execution_count": 21
        },
        {
          "output_type": "display_data",
          "data": {
            "image/png": "[encoded data removed]",
            "text/plain": [
              "<Figure size 1152x432 with 1 Axes>"
            ]
          },
          "metadata": {
            "tags": []
          }
        }
      ]
    },
    {
      "cell_type": "code",
      "metadata": {
        "id": "k3ANYLSeYSlE",
        "colab_type": "code",
        "outputId": "dc4ee521-e162-4991-f1a4-9c304b21735b",
        "colab": {
          "base_uri": "https://localhost:8080/",
          "height": 384
        }
      },
      "source": [
        "# Optional specify a minimum number of periods\n",
        "df_tseries['Close'].expanding(min_periods=1).mean().plot(figsize=(16,6))"
      ],
      "execution_count": 0,
      "outputs": [
        {
          "output_type": "execute_result",
          "data": {
            "text/plain": [
              "<matplotlib.axes._subplots.AxesSubplot at 0x7f8415f536a0>"
            ]
          },
          "metadata": {
            "tags": []
          },
          "execution_count": 22
        },
        {
          "output_type": "display_data",
          "data": {
            "image/png": "[encoded data removed]",
            "text/plain": [
              "<Figure size 1152x432 with 1 Axes>"
            ]
          },
          "metadata": {
            "tags": []
          }
        }
      ]
    },
    {
      "cell_type": "markdown",
      "metadata": {
        "id": "_J-R1Kv7kj8i",
        "colab_type": "text"
      },
      "source": [
        "## Merge two dataframes\n"
      ]
    },
    {
      "cell_type": "code",
      "metadata": {
        "id": "yS6WJf4FkZaz",
        "colab_type": "code",
        "outputId": "a821d108-1f51-4cc2-bc1e-fb0721711d62",
        "colab": {
          "base_uri": "https://localhost:8080/",
          "height": 85
        }
      },
      "source": [
        "print(type(df_tseries))\n",
        "print(type(df_nlp))\n",
        "\n",
        "print(df_tseries.shape)\n",
        "print(df_nlp.shape)"
      ],
      "execution_count": 0,
      "outputs": [
        {
          "output_type": "stream",
          "text": [
            "<class 'pandas.core.frame.DataFrame'>\n",
            "<class 'pandas.core.frame.DataFrame'>\n",
            "(2549, 7)\n",
            "(47, 2)\n"
          ],
          "name": "stdout"
        }
      ]
    },
    {
      "cell_type": "code",
      "metadata": {
        "id": "y06KykWNk4ap",
        "colab_type": "code",
        "colab": {}
      },
      "source": [
        "merged_df = df_tseries.join(df_nlp)"
      ],
      "execution_count": 0,
      "outputs": []
    },
    {
      "cell_type": "code",
      "metadata": {
        "id": "nwr4w1k6lqS9",
        "colab_type": "code",
        "outputId": "c83bc456-6b15-4f8e-96cc-83c71ce1c40b",
        "colab": {
          "base_uri": "https://localhost:8080/",
          "height": 450
        }
      },
      "source": [
        "isnull = merged_df.Features.isnull()\n",
        "merged_df.loc[isnull, 'Features'] = [ [[0] * 100] * isnull.sum() ]\n",
        "merged_df"
      ],
      "execution_count": 0,
      "outputs": [
        {
          "output_type": "execute_result",
          "data": {
            "text/html": [
              "<div>\n",
              "<style scoped>\n",
              "    .dataframe tbody tr th:only-of-type {\n",
              "        vertical-align: middle;\n",
              "    }\n",
              "\n",
              "    .dataframe tbody tr th {\n",
              "        vertical-align: top;\n",
              "    }\n",
              "\n",
              "    .dataframe thead th {\n",
              "        text-align: right;\n",
              "    }\n",
              "</style>\n",
              "<table border=\"1\" class=\"dataframe\">\n",
              "  <thead>\n",
              "    <tr style=\"text-align: right;\">\n",
              "      <th></th>\n",
              "      <th>Open</th>\n",
              "      <th>High</th>\n",
              "      <th>Low</th>\n",
              "      <th>Close</th>\n",
              "      <th>Adj Close</th>\n",
              "      <th>Volume</th>\n",
              "      <th>Close: 30 Day Mean</th>\n",
              "      <th>Date</th>\n",
              "      <th>Features</th>\n",
              "    </tr>\n",
              "    <tr>\n",
              "      <th>Date</th>\n",
              "      <th></th>\n",
              "      <th></th>\n",
              "      <th></th>\n",
              "      <th></th>\n",
              "      <th></th>\n",
              "      <th></th>\n",
              "      <th></th>\n",
              "      <th></th>\n",
              "      <th></th>\n",
              "    </tr>\n",
              "  </thead>\n",
              "  <tbody>\n",
              "    <tr>\n",
              "      <th>2010-01-04</th>\n",
              "      <td>18.652500</td>\n",
              "      <td>18.882500</td>\n",
              "      <td>18.547501</td>\n",
              "      <td>18.705000</td>\n",
              "      <td>18.705000</td>\n",
              "      <td>7906000</td>\n",
              "      <td>NaN</td>\n",
              "      <td>NaN</td>\n",
              "      <td>[0, 0, 0, 0, 0, 0, 0, 0, 0, 0, 0, 0, 0, 0, 0, ...</td>\n",
              "    </tr>\n",
              "    <tr>\n",
              "      <th>2010-01-05</th>\n",
              "      <td>18.612499</td>\n",
              "      <td>18.750000</td>\n",
              "      <td>18.200001</td>\n",
              "      <td>18.625000</td>\n",
              "      <td>18.625000</td>\n",
              "      <td>7942400</td>\n",
              "      <td>NaN</td>\n",
              "      <td>NaN</td>\n",
              "      <td>[0, 0, 0, 0, 0, 0, 0, 0, 0, 0, 0, 0, 0, 0, 0, ...</td>\n",
              "    </tr>\n",
              "    <tr>\n",
              "      <th>2010-01-06</th>\n",
              "      <td>18.687500</td>\n",
              "      <td>18.750000</td>\n",
              "      <td>18.495001</td>\n",
              "      <td>18.592501</td>\n",
              "      <td>18.592501</td>\n",
              "      <td>5122400</td>\n",
              "      <td>NaN</td>\n",
              "      <td>NaN</td>\n",
              "      <td>[0, 0, 0, 0, 0, 0, 0, 0, 0, 0, 0, 0, 0, 0, 0, ...</td>\n",
              "    </tr>\n",
              "    <tr>\n",
              "      <th>2010-01-07</th>\n",
              "      <td>18.629999</td>\n",
              "      <td>18.737499</td>\n",
              "      <td>18.385000</td>\n",
              "      <td>18.510000</td>\n",
              "      <td>18.510000</td>\n",
              "      <td>4840000</td>\n",
              "      <td>NaN</td>\n",
              "      <td>NaN</td>\n",
              "      <td>[0, 0, 0, 0, 0, 0, 0, 0, 0, 0, 0, 0, 0, 0, 0, ...</td>\n",
              "    </tr>\n",
              "    <tr>\n",
              "      <th>2010-01-08</th>\n",
              "      <td>18.517500</td>\n",
              "      <td>18.587500</td>\n",
              "      <td>18.315001</td>\n",
              "      <td>18.537500</td>\n",
              "      <td>18.537500</td>\n",
              "      <td>5510400</td>\n",
              "      <td>NaN</td>\n",
              "      <td>NaN</td>\n",
              "      <td>[0, 0, 0, 0, 0, 0, 0, 0, 0, 0, 0, 0, 0, 0, 0, ...</td>\n",
              "    </tr>\n",
              "    <tr>\n",
              "      <th>...</th>\n",
              "      <td>...</td>\n",
              "      <td>...</td>\n",
              "      <td>...</td>\n",
              "      <td>...</td>\n",
              "      <td>...</td>\n",
              "      <td>...</td>\n",
              "      <td>...</td>\n",
              "      <td>...</td>\n",
              "      <td>...</td>\n",
              "    </tr>\n",
              "    <tr>\n",
              "      <th>2020-02-12</th>\n",
              "      <td>189.710007</td>\n",
              "      <td>190.520004</td>\n",
              "      <td>186.770004</td>\n",
              "      <td>189.460007</td>\n",
              "      <td>189.460007</td>\n",
              "      <td>4535400</td>\n",
              "      <td>181.371334</td>\n",
              "      <td>NaN</td>\n",
              "      <td>[0, 0, 0, 0, 0, 0, 0, 0, 0, 0, 0, 0, 0, 0, 0, ...</td>\n",
              "    </tr>\n",
              "    <tr>\n",
              "      <th>2020-02-13</th>\n",
              "      <td>188.500000</td>\n",
              "      <td>191.050003</td>\n",
              "      <td>188.419998</td>\n",
              "      <td>188.639999</td>\n",
              "      <td>188.639999</td>\n",
              "      <td>3132100</td>\n",
              "      <td>182.238000</td>\n",
              "      <td>NaN</td>\n",
              "      <td>[0, 0, 0, 0, 0, 0, 0, 0, 0, 0, 0, 0, 0, 0, 0, ...</td>\n",
              "    </tr>\n",
              "    <tr>\n",
              "      <th>2020-02-14</th>\n",
              "      <td>189.350006</td>\n",
              "      <td>190.250000</td>\n",
              "      <td>188.100006</td>\n",
              "      <td>189.949997</td>\n",
              "      <td>189.949997</td>\n",
              "      <td>3599400</td>\n",
              "      <td>183.003334</td>\n",
              "      <td>NaN</td>\n",
              "      <td>[0, 0, 0, 0, 0, 0, 0, 0, 0, 0, 0, 0, 0, 0, 0, ...</td>\n",
              "    </tr>\n",
              "    <tr>\n",
              "      <th>2020-02-18</th>\n",
              "      <td>190.949997</td>\n",
              "      <td>191.500000</td>\n",
              "      <td>188.919998</td>\n",
              "      <td>191.089996</td>\n",
              "      <td>191.089996</td>\n",
              "      <td>4957000</td>\n",
              "      <td>183.834000</td>\n",
              "      <td>NaN</td>\n",
              "      <td>[0, 0, 0, 0, 0, 0, 0, 0, 0, 0, 0, 0, 0, 0, 0, ...</td>\n",
              "    </tr>\n",
              "    <tr>\n",
              "      <th>2020-02-19</th>\n",
              "      <td>192.000000</td>\n",
              "      <td>193.919998</td>\n",
              "      <td>191.800003</td>\n",
              "      <td>192.869995</td>\n",
              "      <td>192.869995</td>\n",
              "      <td>3903200</td>\n",
              "      <td>184.481333</td>\n",
              "      <td>NaN</td>\n",
              "      <td>[0, 0, 0, 0, 0, 0, 0, 0, 0, 0, 0, 0, 0, 0, 0, ...</td>\n",
              "    </tr>\n",
              "  </tbody>\n",
              "</table>\n",
              "<p>2549 rows × 9 columns</p>\n",
              "</div>"
            ],
            "text/plain": [
              "                  Open  ...                                           Features\n",
              "Date                    ...                                                   \n",
              "2010-01-04   18.652500  ...  [0, 0, 0, 0, 0, 0, 0, 0, 0, 0, 0, 0, 0, 0, 0, ...\n",
              "2010-01-05   18.612499  ...  [0, 0, 0, 0, 0, 0, 0, 0, 0, 0, 0, 0, 0, 0, 0, ...\n",
              "2010-01-06   18.687500  ...  [0, 0, 0, 0, 0, 0, 0, 0, 0, 0, 0, 0, 0, 0, 0, ...\n",
              "2010-01-07   18.629999  ...  [0, 0, 0, 0, 0, 0, 0, 0, 0, 0, 0, 0, 0, 0, 0, ...\n",
              "2010-01-08   18.517500  ...  [0, 0, 0, 0, 0, 0, 0, 0, 0, 0, 0, 0, 0, 0, 0, ...\n",
              "...                ...  ...                                                ...\n",
              "2020-02-12  189.710007  ...  [0, 0, 0, 0, 0, 0, 0, 0, 0, 0, 0, 0, 0, 0, 0, ...\n",
              "2020-02-13  188.500000  ...  [0, 0, 0, 0, 0, 0, 0, 0, 0, 0, 0, 0, 0, 0, 0, ...\n",
              "2020-02-14  189.350006  ...  [0, 0, 0, 0, 0, 0, 0, 0, 0, 0, 0, 0, 0, 0, 0, ...\n",
              "2020-02-18  190.949997  ...  [0, 0, 0, 0, 0, 0, 0, 0, 0, 0, 0, 0, 0, 0, 0, ...\n",
              "2020-02-19  192.000000  ...  [0, 0, 0, 0, 0, 0, 0, 0, 0, 0, 0, 0, 0, 0, 0, ...\n",
              "\n",
              "[2549 rows x 9 columns]"
            ]
          },
          "metadata": {
            "tags": []
          },
          "execution_count": 25
        }
      ]
    },
    {
      "cell_type": "code",
      "metadata": {
        "id": "gppZ2LkfP4r9",
        "colab_type": "code",
        "outputId": "1440c745-6086-4acb-d37a-7463023d853e",
        "colab": {
          "base_uri": "https://localhost:8080/",
          "height": 450
        }
      },
      "source": [
        "merged_df[[\"Open\", \"Features\"]]"
      ],
      "execution_count": 0,
      "outputs": [
        {
          "output_type": "execute_result",
          "data": {
            "text/html": [
              "<div>\n",
              "<style scoped>\n",
              "    .dataframe tbody tr th:only-of-type {\n",
              "        vertical-align: middle;\n",
              "    }\n",
              "\n",
              "    .dataframe tbody tr th {\n",
              "        vertical-align: top;\n",
              "    }\n",
              "\n",
              "    .dataframe thead th {\n",
              "        text-align: right;\n",
              "    }\n",
              "</style>\n",
              "<table border=\"1\" class=\"dataframe\">\n",
              "  <thead>\n",
              "    <tr style=\"text-align: right;\">\n",
              "      <th></th>\n",
              "      <th>Open</th>\n",
              "      <th>Features</th>\n",
              "    </tr>\n",
              "    <tr>\n",
              "      <th>Date</th>\n",
              "      <th></th>\n",
              "      <th></th>\n",
              "    </tr>\n",
              "  </thead>\n",
              "  <tbody>\n",
              "    <tr>\n",
              "      <th>2010-01-04</th>\n",
              "      <td>18.652500</td>\n",
              "      <td>[0, 0, 0, 0, 0, 0, 0, 0, 0, 0, 0, 0, 0, 0, 0, ...</td>\n",
              "    </tr>\n",
              "    <tr>\n",
              "      <th>2010-01-05</th>\n",
              "      <td>18.612499</td>\n",
              "      <td>[0, 0, 0, 0, 0, 0, 0, 0, 0, 0, 0, 0, 0, 0, 0, ...</td>\n",
              "    </tr>\n",
              "    <tr>\n",
              "      <th>2010-01-06</th>\n",
              "      <td>18.687500</td>\n",
              "      <td>[0, 0, 0, 0, 0, 0, 0, 0, 0, 0, 0, 0, 0, 0, 0, ...</td>\n",
              "    </tr>\n",
              "    <tr>\n",
              "      <th>2010-01-07</th>\n",
              "      <td>18.629999</td>\n",
              "      <td>[0, 0, 0, 0, 0, 0, 0, 0, 0, 0, 0, 0, 0, 0, 0, ...</td>\n",
              "    </tr>\n",
              "    <tr>\n",
              "      <th>2010-01-08</th>\n",
              "      <td>18.517500</td>\n",
              "      <td>[0, 0, 0, 0, 0, 0, 0, 0, 0, 0, 0, 0, 0, 0, 0, ...</td>\n",
              "    </tr>\n",
              "    <tr>\n",
              "      <th>...</th>\n",
              "      <td>...</td>\n",
              "      <td>...</td>\n",
              "    </tr>\n",
              "    <tr>\n",
              "      <th>2020-02-12</th>\n",
              "      <td>189.710007</td>\n",
              "      <td>[0, 0, 0, 0, 0, 0, 0, 0, 0, 0, 0, 0, 0, 0, 0, ...</td>\n",
              "    </tr>\n",
              "    <tr>\n",
              "      <th>2020-02-13</th>\n",
              "      <td>188.500000</td>\n",
              "      <td>[0, 0, 0, 0, 0, 0, 0, 0, 0, 0, 0, 0, 0, 0, 0, ...</td>\n",
              "    </tr>\n",
              "    <tr>\n",
              "      <th>2020-02-14</th>\n",
              "      <td>189.350006</td>\n",
              "      <td>[0, 0, 0, 0, 0, 0, 0, 0, 0, 0, 0, 0, 0, 0, 0, ...</td>\n",
              "    </tr>\n",
              "    <tr>\n",
              "      <th>2020-02-18</th>\n",
              "      <td>190.949997</td>\n",
              "      <td>[0, 0, 0, 0, 0, 0, 0, 0, 0, 0, 0, 0, 0, 0, 0, ...</td>\n",
              "    </tr>\n",
              "    <tr>\n",
              "      <th>2020-02-19</th>\n",
              "      <td>192.000000</td>\n",
              "      <td>[0, 0, 0, 0, 0, 0, 0, 0, 0, 0, 0, 0, 0, 0, 0, ...</td>\n",
              "    </tr>\n",
              "  </tbody>\n",
              "</table>\n",
              "<p>2549 rows × 2 columns</p>\n",
              "</div>"
            ],
            "text/plain": [
              "                  Open                                           Features\n",
              "Date                                                                     \n",
              "2010-01-04   18.652500  [0, 0, 0, 0, 0, 0, 0, 0, 0, 0, 0, 0, 0, 0, 0, ...\n",
              "2010-01-05   18.612499  [0, 0, 0, 0, 0, 0, 0, 0, 0, 0, 0, 0, 0, 0, 0, ...\n",
              "2010-01-06   18.687500  [0, 0, 0, 0, 0, 0, 0, 0, 0, 0, 0, 0, 0, 0, 0, ...\n",
              "2010-01-07   18.629999  [0, 0, 0, 0, 0, 0, 0, 0, 0, 0, 0, 0, 0, 0, 0, ...\n",
              "2010-01-08   18.517500  [0, 0, 0, 0, 0, 0, 0, 0, 0, 0, 0, 0, 0, 0, 0, ...\n",
              "...                ...                                                ...\n",
              "2020-02-12  189.710007  [0, 0, 0, 0, 0, 0, 0, 0, 0, 0, 0, 0, 0, 0, 0, ...\n",
              "2020-02-13  188.500000  [0, 0, 0, 0, 0, 0, 0, 0, 0, 0, 0, 0, 0, 0, 0, ...\n",
              "2020-02-14  189.350006  [0, 0, 0, 0, 0, 0, 0, 0, 0, 0, 0, 0, 0, 0, 0, ...\n",
              "2020-02-18  190.949997  [0, 0, 0, 0, 0, 0, 0, 0, 0, 0, 0, 0, 0, 0, 0, ...\n",
              "2020-02-19  192.000000  [0, 0, 0, 0, 0, 0, 0, 0, 0, 0, 0, 0, 0, 0, 0, ...\n",
              "\n",
              "[2549 rows x 2 columns]"
            ]
          },
          "metadata": {
            "tags": []
          },
          "execution_count": 26
        }
      ]
    },
    {
      "cell_type": "markdown",
      "metadata": {
        "id": "aq5m8KUvNY93",
        "colab_type": "text"
      },
      "source": [
        "## Create Dataset"
      ]
    },
    {
      "cell_type": "code",
      "metadata": {
        "id": "q9XuTvtjonEU",
        "colab_type": "code",
        "colab": {}
      },
      "source": [
        "# Feature Scaling\n",
        "from sklearn.preprocessing import MinMaxScaler\n",
        "sc = MinMaxScaler(feature_range = (0, 1))"
      ],
      "execution_count": 0,
      "outputs": []
    },
    {
      "cell_type": "code",
      "metadata": {
        "id": "s2XR4mfxl9-O",
        "colab_type": "code",
        "colab": {}
      },
      "source": [
        "X_price = []\n",
        "X_nlp = []\n",
        "y = []"
      ],
      "execution_count": 0,
      "outputs": []
    },
    {
      "cell_type": "code",
      "metadata": {
        "id": "4SWgQD3KqBH7",
        "colab_type": "code",
        "outputId": "93e47708-167c-48eb-f291-fcd718c22001",
        "colab": {
          "base_uri": "https://localhost:8080/",
          "height": 51
        }
      },
      "source": [
        "prices = pd.DataFrame(merged_df['Open'])\n",
        "prices_scaled = sc.fit_transform(prices)\n",
        "nlp_features = np.array(merged_df['Features'].to_list())\n",
        "\n",
        "print(prices_scaled.shape)\n",
        "print(nlp_features.shape)"
      ],
      "execution_count": 0,
      "outputs": [
        {
          "output_type": "stream",
          "text": [
            "(2549, 1)\n",
            "(2549, 100)\n"
          ],
          "name": "stdout"
        }
      ]
    },
    {
      "cell_type": "code",
      "metadata": {
        "id": "3eVp8ITvqCbe",
        "colab_type": "code",
        "colab": {}
      },
      "source": [
        "for i in range(60, merged_df.shape[0] - 1):\n",
        "  X_price.append(prices_scaled[i-60:i, 0])\n",
        "  X_nlp.append(nlp_features[i-60:i].flatten())\n",
        "  y.append(prices_scaled[i, 0])\n",
        "\n",
        "X_price, X_nlp, y = np.array(X_price), np.array(X_nlp), np.array(y)"
      ],
      "execution_count": 0,
      "outputs": []
    },
    {
      "cell_type": "code",
      "metadata": {
        "id": "0Y0_REVnqCZu",
        "colab_type": "code",
        "outputId": "c1514c08-c2db-49df-b632-0fe5e142b903",
        "colab": {
          "base_uri": "https://localhost:8080/",
          "height": 34
        }
      },
      "source": [
        "X_nlp.shape # 60*100 in one timestep prediction"
      ],
      "execution_count": 0,
      "outputs": [
        {
          "output_type": "execute_result",
          "data": {
            "text/plain": [
              "(2488, 6000)"
            ]
          },
          "metadata": {
            "tags": []
          },
          "execution_count": 51
        }
      ]
    },
    {
      "cell_type": "markdown",
      "metadata": {
        "id": "Tq3iL3Xevk5-",
        "colab_type": "text"
      },
      "source": [
        "## Train Test Split"
      ]
    },
    {
      "cell_type": "code",
      "metadata": {
        "id": "J6r2_p94UdJP",
        "colab_type": "code",
        "colab": {}
      },
      "source": [
        "# Train-test split\n",
        "# For time series data, we cannot do a random split\n",
        "total_num = X_price.shape[0]\n",
        "\n",
        "X_price_train = X_price[:int(total_num * split_size)]\n",
        "X_price_test = X_price[int(total_num * split_size):]\n",
        "X_nlp_train = X_nlp[:int(total_num * split_size)]\n",
        "X_nlp_test = X_nlp[int(total_num * split_size):]\n",
        "y_train = y[:int(total_num * split_size)]\n",
        "y_test = y[int(total_num * split_size):]"
      ],
      "execution_count": 0,
      "outputs": []
    },
    {
      "cell_type": "code",
      "metadata": {
        "id": "KC1aAPcFVzpc",
        "colab_type": "code",
        "outputId": "8772434f-9ae6-4455-c1f2-8f6f555dcaa6",
        "colab": {
          "base_uri": "https://localhost:8080/",
          "height": 34
        }
      },
      "source": [
        "X_nlp_train.shape"
      ],
      "execution_count": 0,
      "outputs": [
        {
          "output_type": "execute_result",
          "data": {
            "text/plain": [
              "(1244, 6000)"
            ]
          },
          "metadata": {
            "tags": []
          },
          "execution_count": 70
        }
      ]
    },
    {
      "cell_type": "markdown",
      "metadata": {
        "id": "Ihbs5Fq8NTuN",
        "colab_type": "text"
      },
      "source": [
        "## Build and Train Model"
      ]
    },
    {
      "cell_type": "code",
      "metadata": {
        "id": "2VwcGhxyQfCd",
        "colab_type": "code",
        "colab": {}
      },
      "source": [
        "import tensorflow as tf\n",
        "from tensorflow.keras.models import Model\n",
        "from tensorflow.keras.models import Sequential\n",
        "from tensorflow.keras.layers import Input, Dense, LSTM, Dropout, Conv1D, MaxPooling1D, Embedding, concatenate"
      ],
      "execution_count": 0,
      "outputs": []
    },
    {
      "cell_type": "code",
      "metadata": {
        "id": "Yd6gnBt1H902",
        "colab_type": "code",
        "colab": {}
      },
      "source": [
        "# Build regressor to take care of price inputs\n",
        "regressor = Input(shape=(X_price.shape[1], 1))\n",
        "reg_input = regressor\n",
        "regressor = LSTM(units = num_units_lstm, return_sequences = True)(regressor)\n",
        "regressor = Dropout(dp)(regressor)\n",
        "regressor = LSTM(units = num_units_lstm, return_sequences = True)(regressor)\n",
        "regressor = Dropout(dp)(regressor)\n",
        "regressor = LSTM(units = num_units_lstm, return_sequences = True)(regressor)\n",
        "regressor = Dropout(dp)(regressor)\n",
        "regressor = LSTM(units = num_units_lstm)(regressor)\n",
        "regressor = Dropout(dp)(regressor)"
      ],
      "execution_count": 0,
      "outputs": []
    },
    {
      "cell_type": "code",
      "metadata": {
        "id": "KBH_Tao2ItP0",
        "colab_type": "code",
        "colab": {}
      },
      "source": [
        "# Build classifier\n",
        "classifier = Input(shape=(X_nlp.shape[1], ))\n",
        "cls_input = classifier\n",
        "classifier = Embedding(vocab_size, \n",
        "                       embedding_dim, \n",
        "                       input_length=max_length, \n",
        "                       weights=[embeddings_matrix], \n",
        "                       trainable=False)(classifier)\n",
        "classifier = Dropout(dp)(classifier)\n",
        "classifier = Conv1D(num_units_lstm, 5, activation='relu')(classifier)\n",
        "classifier = MaxPooling1D(pool_size=4)(classifier)\n",
        "classifier = LSTM(num_units_lstm)(classifier)"
      ],
      "execution_count": 0,
      "outputs": []
    },
    {
      "cell_type": "code",
      "metadata": {
        "id": "UG4JsuxHHz_o",
        "colab_type": "code",
        "outputId": "f2cdecb5-e7bf-401c-f5af-f86b8f8c882d",
        "colab": {
          "base_uri": "https://localhost:8080/",
          "height": 51
        }
      },
      "source": [
        "print(regressor)\n",
        "print(classifier)"
      ],
      "execution_count": 0,
      "outputs": [
        {
          "output_type": "stream",
          "text": [
            "Tensor(\"dropout_13/Identity:0\", shape=(None, 64), dtype=float32)\n",
            "Tensor(\"lstm_14/Identity:0\", shape=(None, 64), dtype=float32)\n"
          ],
          "name": "stdout"
        }
      ]
    },
    {
      "cell_type": "code",
      "metadata": {
        "id": "v_Dkk4L2JWJN",
        "colab_type": "code",
        "outputId": "0f62856b-d37b-4c40-da89-09857c6d62e9",
        "colab": {
          "base_uri": "https://localhost:8080/",
          "height": 748
        }
      },
      "source": [
        "# Integrate regressor and classifier\n",
        "merged = concatenate([regressor, classifier])\n",
        "output = Dense(units=1)(merged)\n",
        "\n",
        "model = Model(inputs=[reg_input, cls_input], outputs=[output])\n",
        "model.compile(optimizer = 'adam', loss = 'mean_squared_error')\n",
        "model.summary()"
      ],
      "execution_count": 0,
      "outputs": [
        {
          "output_type": "stream",
          "text": [
            "Model: \"model_2\"\n",
            "__________________________________________________________________________________________________\n",
            "Layer (type)                    Output Shape         Param #     Connected to                     \n",
            "==================================================================================================\n",
            "input_5 (InputLayer)            [(None, 60, 1)]      0                                            \n",
            "__________________________________________________________________________________________________\n",
            "lstm_10 (LSTM)                  (None, 60, 64)       16896       input_5[0][0]                    \n",
            "__________________________________________________________________________________________________\n",
            "dropout_10 (Dropout)            (None, 60, 64)       0           lstm_10[0][0]                    \n",
            "__________________________________________________________________________________________________\n",
            "lstm_11 (LSTM)                  (None, 60, 64)       33024       dropout_10[0][0]                 \n",
            "__________________________________________________________________________________________________\n",
            "input_6 (InputLayer)            [(None, 6000)]       0                                            \n",
            "__________________________________________________________________________________________________\n",
            "dropout_11 (Dropout)            (None, 60, 64)       0           lstm_11[0][0]                    \n",
            "__________________________________________________________________________________________________\n",
            "embedding_2 (Embedding)         (None, 6000, 300)    90900       input_6[0][0]                    \n",
            "__________________________________________________________________________________________________\n",
            "lstm_12 (LSTM)                  (None, 60, 64)       33024       dropout_11[0][0]                 \n",
            "__________________________________________________________________________________________________\n",
            "dropout_14 (Dropout)            (None, 6000, 300)    0           embedding_2[0][0]                \n",
            "__________________________________________________________________________________________________\n",
            "dropout_12 (Dropout)            (None, 60, 64)       0           lstm_12[0][0]                    \n",
            "__________________________________________________________________________________________________\n",
            "conv1d_2 (Conv1D)               (None, 5996, 64)     96064       dropout_14[0][0]                 \n",
            "__________________________________________________________________________________________________\n",
            "lstm_13 (LSTM)                  (None, 64)           33024       dropout_12[0][0]                 \n",
            "__________________________________________________________________________________________________\n",
            "max_pooling1d_2 (MaxPooling1D)  (None, 1499, 64)     0           conv1d_2[0][0]                   \n",
            "__________________________________________________________________________________________________\n",
            "dropout_13 (Dropout)            (None, 64)           0           lstm_13[0][0]                    \n",
            "__________________________________________________________________________________________________\n",
            "lstm_14 (LSTM)                  (None, 64)           33024       max_pooling1d_2[0][0]            \n",
            "__________________________________________________________________________________________________\n",
            "concatenate_2 (Concatenate)     (None, 128)          0           dropout_13[0][0]                 \n",
            "                                                                 lstm_14[0][0]                    \n",
            "__________________________________________________________________________________________________\n",
            "dense_2 (Dense)                 (None, 1)            129         concatenate_2[0][0]              \n",
            "==================================================================================================\n",
            "Total params: 336,085\n",
            "Trainable params: 245,185\n",
            "Non-trainable params: 90,900\n",
            "__________________________________________________________________________________________________\n"
          ],
          "name": "stdout"
        }
      ]
    },
    {
      "cell_type": "code",
      "metadata": {
        "id": "iiSnuX__LarX",
        "colab_type": "code",
        "outputId": "a2d0d936-35c6-4dae-9adc-df3cfb1b0e58",
        "colab": {
          "base_uri": "https://localhost:8080/",
          "height": 714
        }
      },
      "source": [
        "model.fit([X_price_train, X_nlp_train], y_train, epochs = 20, batch_size = 32)"
      ],
      "execution_count": 0,
      "outputs": [
        {
          "output_type": "stream",
          "text": [
            "Epoch 1/20\n",
            "39/39 [==============================] - 12s 311ms/step - loss: 0.0031\n",
            "Epoch 2/20\n",
            "39/39 [==============================] - 12s 307ms/step - loss: 4.4101e-04\n",
            "Epoch 3/20\n",
            "39/39 [==============================] - 12s 302ms/step - loss: 3.8609e-04\n",
            "Epoch 4/20\n",
            "39/39 [==============================] - 12s 299ms/step - loss: 3.3986e-04\n",
            "Epoch 5/20\n",
            "39/39 [==============================] - 12s 299ms/step - loss: 3.5247e-04\n",
            "Epoch 6/20\n",
            "39/39 [==============================] - 12s 299ms/step - loss: 3.5084e-04\n",
            "Epoch 7/20\n",
            "39/39 [==============================] - 12s 301ms/step - loss: 3.2542e-04\n",
            "Epoch 8/20\n",
            "39/39 [==============================] - 12s 299ms/step - loss: 2.8797e-04\n",
            "Epoch 9/20\n",
            "39/39 [==============================] - 12s 300ms/step - loss: 2.5394e-04\n",
            "Epoch 10/20\n",
            "39/39 [==============================] - 12s 298ms/step - loss: 2.9020e-04\n",
            "Epoch 11/20\n",
            "39/39 [==============================] - 12s 298ms/step - loss: 2.6590e-04\n",
            "Epoch 12/20\n",
            "39/39 [==============================] - 12s 300ms/step - loss: 2.3842e-04\n",
            "Epoch 13/20\n",
            "39/39 [==============================] - 12s 299ms/step - loss: 2.7198e-04\n",
            "Epoch 14/20\n",
            "39/39 [==============================] - 12s 301ms/step - loss: 2.2194e-04\n",
            "Epoch 15/20\n",
            "39/39 [==============================] - 12s 302ms/step - loss: 2.9090e-04\n",
            "Epoch 16/20\n",
            "39/39 [==============================] - 12s 301ms/step - loss: 2.0978e-04\n",
            "Epoch 17/20\n",
            "39/39 [==============================] - 12s 303ms/step - loss: 2.1073e-04\n",
            "Epoch 18/20\n",
            "39/39 [==============================] - 12s 302ms/step - loss: 2.0519e-04\n",
            "Epoch 19/20\n",
            "39/39 [==============================] - 12s 303ms/step - loss: 2.1145e-04\n",
            "Epoch 20/20\n",
            "39/39 [==============================] - 12s 302ms/step - loss: 1.8426e-04\n"
          ],
          "name": "stdout"
        },
        {
          "output_type": "execute_result",
          "data": {
            "text/plain": [
              "<tensorflow.python.keras.callbacks.History at 0x7f83ed4a3588>"
            ]
          },
          "metadata": {
            "tags": []
          },
          "execution_count": 76
        }
      ]
    },
    {
      "cell_type": "markdown",
      "metadata": {
        "id": "I_f6BGZqWb8q",
        "colab_type": "text"
      },
      "source": [
        "## Visualize Training Performance"
      ]
    },
    {
      "cell_type": "code",
      "metadata": {
        "id": "PqZ5K-HcLvgE",
        "colab_type": "code",
        "colab": {}
      },
      "source": [
        "real_stock_prices = y_train.tolist()\n",
        "pred_stock_prices = model.predict([X_price_train, X_nlp_train]).tolist()"
      ],
      "execution_count": 0,
      "outputs": []
    },
    {
      "cell_type": "code",
      "metadata": {
        "id": "KFuqGsoHPr3x",
        "colab_type": "code",
        "outputId": "1d15c078-c0fd-4f49-e419-d3e9f1c2cae8",
        "colab": {
          "base_uri": "https://localhost:8080/",
          "height": 295
        }
      },
      "source": [
        "# Visualising the results\n",
        "plt.plot(real_stock_prices, color = 'red', label = 'Real Salesforce Stock Price')\n",
        "plt.plot(pred_stock_prices, color = 'blue', label = 'Predicted Salesforce Stock Price')\n",
        "plt.title('Salesforce Stock Price Prediction in Training set')\n",
        "plt.xlabel('Time')\n",
        "plt.ylabel('Salesforce Stock Price')\n",
        "plt.legend()\n",
        "plt.show()"
      ],
      "execution_count": 0,
      "outputs": [
        {
          "output_type": "display_data",
          "data": {
            "image/png": "[encoded data removed]",
            "text/plain": [
              "<Figure size 432x288 with 1 Axes>"
            ]
          },
          "metadata": {
            "tags": []
          }
        }
      ]
    },
    {
      "cell_type": "markdown",
      "metadata": {
        "id": "grtXnEzGWesQ",
        "colab_type": "text"
      },
      "source": [
        "## Visualizing Test Performance"
      ]
    },
    {
      "cell_type": "code",
      "metadata": {
        "id": "G3lpbOvxPzCk",
        "colab_type": "code",
        "colab": {}
      },
      "source": [
        "real_stock_prices = y_test.tolist()\n",
        "pred_stock_prices = model.predict([X_price_test, X_nlp_test]).tolist()"
      ],
      "execution_count": 0,
      "outputs": []
    },
    {
      "cell_type": "code",
      "metadata": {
        "id": "0vRQeokfWkti",
        "colab_type": "code",
        "outputId": "693b3411-8dc0-4696-d049-f97ba7957140",
        "colab": {
          "base_uri": "https://localhost:8080/",
          "height": 295
        }
      },
      "source": [
        "# Visualising the results\n",
        "plt.plot(real_stock_prices, color = 'red', label = 'Real Salesforce Stock Price')\n",
        "plt.plot(pred_stock_prices, color = 'blue', label = 'Predicted Salesforce Stock Price')\n",
        "plt.title('Salesforce Stock Price Prediction in Test')\n",
        "plt.xlabel('Time')\n",
        "plt.ylabel('Salesforce Stock Price')\n",
        "plt.legend()\n",
        "plt.show()"
      ],
      "execution_count": 0,
      "outputs": [
        {
          "output_type": "display_data",
          "data": {
            "image/png": "[encoded data removed]",
            "text/plain": [
              "<Figure size 432x288 with 1 Axes>"
            ]
          },
          "metadata": {
            "tags": []
          }
        }
      ]
    },
    {
      "cell_type": "markdown",
      "metadata": {
        "id": "A4eOyJr5X3iP",
        "colab_type": "text"
      },
      "source": [
        "## Visualize in the full time range (train + test)"
      ]
    },
    {
      "cell_type": "code",
      "metadata": {
        "id": "pR2H9zuuW-D9",
        "colab_type": "code",
        "colab": {}
      },
      "source": [
        "real_stock_prices = y.tolist()\n",
        "pred_stock_prices = model.predict([X_price, X_nlp]).tolist()"
      ],
      "execution_count": 0,
      "outputs": []
    },
    {
      "cell_type": "code",
      "metadata": {
        "id": "hVZpThUJX_tz",
        "colab_type": "code",
        "outputId": "ac210de3-b7f3-4198-8778-dfe1dfc7f97e",
        "colab": {
          "base_uri": "https://localhost:8080/",
          "height": 295
        }
      },
      "source": [
        "# Visualising the results\n",
        "plt.plot(real_stock_prices, color = 'red', label = 'Real Salesforce Stock Price')\n",
        "plt.plot(pred_stock_prices, color = 'blue', label = 'Predicted Salesforce Stock Price')\n",
        "plt.title('Salesforce Stock Price Prediction in Full Range')\n",
        "plt.xlabel('Time')\n",
        "plt.ylabel('Salesforce Stock Price')\n",
        "plt.legend()\n",
        "plt.show()"
      ],
      "execution_count": 0,
      "outputs": [
        {
          "output_type": "display_data",
          "data": {
            "image/png": "[encoded data removed]",
            "text/plain": [
              "<Figure size 432x288 with 1 Axes>"
            ]
          },
          "metadata": {
            "tags": []
          }
        }
      ]
    },
    {
      "cell_type": "code",
      "metadata": {
        "id": "rf-XXyhEZluf",
        "colab_type": "code",
        "colab": {}
      },
      "source": [
        ""
      ],
      "execution_count": 0,
      "outputs": []
    }
  ]
}