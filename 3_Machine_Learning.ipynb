{
  "nbformat": 4,
  "nbformat_minor": 0,
  "metadata": {
    "colab": {
      "name": "3_Machine_Learning.ipynb",
      "provenance": [],
      "collapsed_sections": []
    },
    "kernelspec": {
      "name": "python3",
      "display_name": "Python 3"
    },
    "accelerator": "GPU"
  },
  "cells": [
    {
      "cell_type": "code",
      "metadata": {
        "id": "FFr35gKAR2x9",
        "colab_type": "code",
        "colab": {}
      },
      "source": [
        "import google.colab as colab\n",
        "import shutil\n",
        "import os\n",
        "import pandas as pd\n",
        "import random\n",
        "import numpy as np\n",
        "import re\n",
        "import matplotlib.pyplot as plt\n",
        "import datetime\n",
        "\n",
        "from keras.preprocessing.text import Tokenizer\n",
        "from keras.preprocessing.sequence import pad_sequences\n",
        "from keras.utils import to_categorical\n",
        "from keras import regularizers"
      ],
      "execution_count": 0,
      "outputs": []
    },
    {
      "cell_type": "markdown",
      "metadata": {
        "id": "LZ3xk-0Dczdg",
        "colab_type": "text"
      },
      "source": [
        "### Mount Google Drive"
      ]
    },
    {
      "cell_type": "code",
      "metadata": {
        "id": "QxIyTxXml65l",
        "colab_type": "code",
        "colab": {}
      },
      "source": [
        "def mount_google_drive():\n",
        "\t'''\n",
        "\t# Functionality\n",
        "\t\tMount google drive. Since colab does not save files, we want to make it easier to directly access files in google drive.\n",
        "\t# Arguments\n",
        "\t\tNothing\n",
        "\t# Returns\n",
        "\t\tdrive_root: the working directory mounted\n",
        "\t'''\n",
        "\tmount_directory = \"/content/gdrive\"\n",
        "\tdrive = colab.drive\n",
        "\tdrive.mount(mount_directory, force_remount=True)\n",
        "\tdrive_root = mount_directory + \"/\" + list(filter(lambda x: x[0] != '.', os.listdir(mount_directory)))[0]\n",
        "\treturn drive_root\n",
        "\n",
        "def get_all_files_from_dir(directory):\n",
        "\n",
        "    '''\n",
        "    # Functionality\n",
        "    Get the whole list of files in a folder\n",
        "\t# Arguments\n",
        "\t\tdirectory: string.  (e.g.,Users/laowang/~vgg/data/flowers/102/102flowers.tgz)\n",
        "\t# Returns\n",
        "\t\tNone\n",
        "\t'''\n",
        "    file_paths = []\n",
        "    for root, dirs, files in os.walk(directory):\n",
        "        file_paths += [os.path.join(root, x) for x in files]\n",
        "    return sorted(file_paths)"
      ],
      "execution_count": 0,
      "outputs": []
    },
    {
      "cell_type": "code",
      "metadata": {
        "id": "X4LE1Ewyc4tD",
        "colab_type": "code",
        "outputId": "a5e11bb7-e92c-46ea-ec2f-1763832b6587",
        "colab": {
          "base_uri": "https://localhost:8080/",
          "height": 51
        }
      },
      "source": [
        "ROOT_DIR =  mount_google_drive() + \"/ECE457B-Project/\"\n",
        "DATASET_DIR = ROOT_DIR + \"sec8ks/\"\n",
        "print(DATASET_DIR)"
      ],
      "execution_count": 284,
      "outputs": [
        {
          "output_type": "stream",
          "text": [
            "Mounted at /content/gdrive\n",
            "/content/gdrive/My Drive/ECE457B-Project/sec8ks/\n"
          ],
          "name": "stdout"
        }
      ]
    },
    {
      "cell_type": "code",
      "metadata": {
        "id": "kj2AiawKowl6",
        "colab_type": "code",
        "colab": {}
      },
      "source": [
        "# Hyperparams\n",
        "embedding_dim = 300\n",
        "max_length = 100\n",
        "trunc_type='post'\n",
        "padding_type='post'\n",
        "oov_tok = \"<OOV>\"\n",
        "\n",
        "train_mode = \"nlp\" # \"nlp\" or \"ts\"\n",
        "split_size = 0.3 # training set proportion. we can tune it to see when our model overfits\n",
        "dp = 0.2 # dropout\n",
        "num_units_lstm = 64"
      ],
      "execution_count": 0,
      "outputs": []
    },
    {
      "cell_type": "markdown",
      "metadata": {
        "id": "2d4wecU0ZT67",
        "colab_type": "text"
      },
      "source": [
        "## Load NLP Sentences"
      ]
    },
    {
      "cell_type": "code",
      "metadata": {
        "id": "UPIcouKZZWYP",
        "colab_type": "code",
        "colab": {}
      },
      "source": [
        "modified_results = np.load(ROOT_DIR + \"sec_modified.npy\", allow_pickle=True)"
      ],
      "execution_count": 0,
      "outputs": []
    },
    {
      "cell_type": "code",
      "metadata": {
        "id": "hh7BHuA7Za1A",
        "colab_type": "code",
        "outputId": "d060b4a7-5c85-42ca-82a5-d464e2e81ebc",
        "colab": {
          "base_uri": "https://localhost:8080/",
          "height": 1000
        }
      },
      "source": [
        "modified_results"
      ],
      "execution_count": 171,
      "outputs": [
        {
          "output_type": "execute_result",
          "data": {
            "text/plain": [
              "array([[datetime.date(2010, 1, 19),\n",
              "        'indenture salesforcecom inc us bank national association dated january 19 2010 purchase agreement dated january 12 2010 salesforcecom inc merrill lynch pierce fenner smith incorporated representative several initial purchasers named schedulea thereto form convertible bond hedge confirmation form warrant confirmation press release dated january 19 2010 announcing closing offering notes'],\n",
              "       [datetime.date(2010, 1, 19),\n",
              "        'indenture salesforcecom inc us bank national association dated january 19 2010 purchase agreement dated january 12 2010 salesforcecom inc merrill lynch pierce fenner smith incorporated representative several initial purchasers named schedulea thereto form convertible bond hedge confirmation form warrant confirmation press release dated january 19 2010 announcing closing offering notes'],\n",
              "       [datetime.date(2010, 4, 21), 'press release dated april 21 2010'],\n",
              "       [datetime.date(2010, 4, 21), 'press release dated april 21 2010'],\n",
              "       [datetime.date(2010, 10, 27),\n",
              "        'press release dated october 27 2010'],\n",
              "       [datetime.date(2010, 12, 8),\n",
              "        'agreement plan merger dated december7 2010 among salesforcecom inc hiiaka acquisition corporation heroku inc respect articles vii viii ix thereof john connors stockholder representative us bank national association escrow agent'],\n",
              "       [datetime.date(2010, 12, 8),\n",
              "        'agreement plan merger dated december7 2010 among salesforcecom inc hiiaka acquisition corporation heroku inc respect articles vii viii ix thereof john connors stockholder representative us bank national association escrow agent'],\n",
              "       [datetime.date(2010, 12, 8),\n",
              "        'agreement plan merger dated december7 2010 among salesforcecom inc hiiaka acquisition corporation heroku inc respect articles vii viii ix thereof john connors stockholder representative us bank national association escrow agent'],\n",
              "       [datetime.date(2011, 3, 30),\n",
              "        'share purchase agreement dated march30 2011 among salesforcecom inc salesforcecom canada corporation radian6 technologies inc shareholders company shareholder representative'],\n",
              "       [datetime.date(2011, 5, 2),\n",
              "        'share purchase agreement dated march30 2011 among salesforcecom inc salesforcecom canada corporation radian6 technologies inc radian6 technologies inc shareholders shareholder representative incorporated herein reference exhibit 21 companys current report form8k fileno 00132224 filed march 30 2011 '],\n",
              "       [datetime.date(2011, 5, 2),\n",
              "        'share purchase agreement dated march30 2011 among salesforcecom inc salesforcecom canada corporation radian6 technologies inc radian6 technologies inc shareholders shareholder representative incorporated herein reference exhibit 21 companys current report form8k fileno 00132224 filed march 30 2011 '],\n",
              "       [datetime.date(2012, 6, 4),\n",
              "        'agreement plan merger dated june 3 2012 among salesforcecom inc bullseye merger corporation buddy media inc shareholder representative services llc'],\n",
              "       [datetime.date(2012, 6, 4),\n",
              "        'agreement plan merger dated june 3 2012 among salesforcecom inc bullseye merger corporation buddy media inc shareholder representative services llc'],\n",
              "       [datetime.date(2012, 8, 13),\n",
              "        'agreement plan merger dated june 3 2012 among salesforcecom inc bullseye merger corporation buddy media inc shareholder representative services llc'],\n",
              "       [datetime.date(2012, 8, 13),\n",
              "        'agreement plan merger dated june 3 2012 among salesforcecom inc bullseye merger corporation buddy media inc shareholder representative services llc'],\n",
              "       [datetime.date(2012, 8, 27),\n",
              "        'unaudited consolidated statements comprehensive income loss years ended january31 2012 2011 2010'],\n",
              "       [datetime.date(2012, 8, 27),\n",
              "        'unaudited consolidated statements comprehensive income loss years ended january31 2012 2011 2010'],\n",
              "       [datetime.date(2013, 3, 13),\n",
              "        'press release dated march 11 2013 announcing proposed offering convertible senior notes press release dated march 12 2013 announcing pricing convertible senior notes'],\n",
              "       [datetime.date(2013, 3, 18),\n",
              "        'indenture dated march 18 2013 salesforcecom inc us bank national association purchase agreement dated march12 2013 salesforcecom inc merrill lynch pierce fenner smith incorporated morgan stanley co llc representatives several initial purchasers named schedulea thereto form convertible bond hedge confirmation form warrant confirmation'],\n",
              "       [datetime.date(2013, 3, 21),\n",
              "        'amended restated certificate incorporation press release dated march 21 2013'],\n",
              "       [datetime.date(2013, 6, 4),\n",
              "        'acquisition agreement dated june 3 2013 among salesforcecom inc exacttarget acquisition corp exacttarget inc form support agreement commitment letter dated june 3 2013 among salesforcecom inc bank america na merrill lynch pierce fenner smith incorporated press release dated june 4 2013'],\n",
              "       [datetime.date(2013, 6, 11),\n",
              "        'amended restated certificate incorporation salesforcecom inc amended restated bylaws salesforcecom inc employment offer letter dated may 2 2013 salesforcecom inc keith black 2013 equity incentive plan related forms agreements press release dated june 6 2013'],\n",
              "       [datetime.date(2013, 7, 15),\n",
              "        'acquisition agreement dated june 3 2013 among salesforcecom inc excalibur acquisition corp exacttarget inc incorporated herein reference exhibit 21 companys current report form 8k filed commission june 4 2013 credit agreement dated july 11 2013 among salesforcecom inc guarantors time time party thereto lenders time time party thereto bank america na administrative agent press release dated july 12 2013'],\n",
              "       [datetime.date(2013, 7, 15),\n",
              "        'acquisition agreement dated june 3 2013 among salesforcecom inc excalibur acquisition corp exacttarget inc incorporated herein reference exhibit 21 companys current report form 8k filed commission june 4 2013 credit agreement dated july 11 2013 among salesforcecom inc guarantors time time party thereto lenders time time party thereto bank america na administrative agent press release dated july 12 2013'],\n",
              "       [datetime.date(2013, 9, 12),\n",
              "        'press release dated september 12 2013'],\n",
              "       [datetime.date(2013, 9, 12),\n",
              "        'press release dated september 12 2013'],\n",
              "       [datetime.date(2014, 3, 14), 'press release dated march 14 2014'],\n",
              "       [datetime.date(2014, 4, 11), 'press release dated april 11 2014'],\n",
              "       [datetime.date(2014, 6, 30),\n",
              "        'employment offer letter dated june 11 2014 salesforcecom inc mark hawkins press release dated june 30 2014'],\n",
              "       [datetime.date(2014, 7, 11),\n",
              "        '2014 inducement equity incentive plan related forms equity award agreements'],\n",
              "       [datetime.date(2014, 12, 8),\n",
              "        'press release dated december 8 2014'],\n",
              "       [datetime.date(2016, 3, 21),\n",
              "        'amended restated bylaws salesforcecom inc'],\n",
              "       [datetime.date(2016, 3, 22), 'press release dated march 22 2016'],\n",
              "       [datetime.date(2016, 6, 1),\n",
              "        'agreement plan merger dated may 31 2016 among salesforcecom inc dynasty acquisition corp demandware inc commitment letter dated may 31 2016 among salesforcecom inc bank america na merrill lynch pierce fenner smith incorporated press release dated june 1 2016'],\n",
              "       [datetime.date(2016, 6, 3),\n",
              "        'amended restated certificate incorporation salesforcecom inc'],\n",
              "       [datetime.date(2017, 6, 7),\n",
              "        'amended restated 2013 equity incentive plan amended restated 2004 employee stock purchase plan'],\n",
              "       [datetime.date(2018, 3, 20),\n",
              "        'joint press release issued salesforcecom inc mulesoft inc dated march20 2018 investor presentation'],\n",
              "       [datetime.date(2018, 3, 21),\n",
              "        'agreement plan merger dated march20 2018 among salesforcecom inc malbec acquisition corp mulesoft inc tender support agreement dated march20 2018 among salesforcecom inc malbec acquisition corp lightspeed venture partners select lp lightspeed venture partners vii lp new enterprise associates 15 lp new enterprise associates 14 lp nea 15 opportunities fund lp nea ventures 2013 lp tender support agreement dated march20 2018 among salesforcecom inc malbec acquisition corp matthew langdon ann winbald gregory schott little family 1995 tr ravi mhatre mhatre investments lpfund 4 simon parmett robert horton ross mason'],\n",
              "       [datetime.date(2018, 4, 11),\n",
              "        'underwriting agreement dated april5 2018 among company merrill lynch pierce fenner smith incorporated jp morgan securities llc acting representatives several underwriters named schedule thereto indenture dated april11 2018 company us bank national association trustee first supplemental indenture dated april11 2018 company us bank national association trustee form 2023 notes included exhibit 42 form 2028 notes included exhibit 42 opinion wachtell lipton rosen katz relating notes including consent required respect thereto '],\n",
              "       [datetime.date(2018, 4, 30),\n",
              "        'second amended restated credit agreement dated april30 2018 among company lenders parties party thereto wells fargo bank national association administrative agent swingline lender issuing lender amended restated credit agreement dated april30 2018 among company lenders parties party thereto bank america na administrative agent credit agreement dated april30 2018 among company lenders parties party thereto bank america na administrative agent'],\n",
              "       [datetime.date(2018, 5, 2),\n",
              "        'consent kpmg llp independent registered public accounting firm press release dated may 2 2018 audited consolidated financial statements mulesoft incorporated reference mulesofts annual report form 10k year ended december31 2017 filed mulesoft sec february22 2018 unaudited pro forma combined condensed balance sheet january31 2018 unaudited pro forma combined condensed statement operations year ended january31 2018 case incorporated reference amendment no1 salesforces registration statement form s4 filed salesforce sec april23 2018 '],\n",
              "       [datetime.date(2018, 6, 13),\n",
              "        'amended restated certificate incorporation salesforcecom inc amended restated bylaws salesforcecom inc amended restated 2013 equity incentive plan'],\n",
              "       [datetime.date(2018, 6, 14),\n",
              "        'settlement agreement salesforcecom inc bnp paribas dated june12 2018 settlement agreement salesforcecom inc bank america na dated june12 2018 settlement agreement salesforcecom inc morgan stanley co international plc dated june12 2018'],\n",
              "       [datetime.date(2018, 8, 8),\n",
              "        'amended restated bylaws salesforcecom inc press release dated august7 2018 press release dated august7 2018'],\n",
              "       [datetime.date(2019, 6, 10),\n",
              "        'joint press release issued salesforcecom inc tableau software inc dated june10 2019 investor presentation'],\n",
              "       [datetime.date(2019, 6, 10),\n",
              "        'agreement plan merger dated june9 2019 among salesforcecom inc sausalito acquisition corp tableau software inc letter agreement dated june9 2019 among salesforcecom inc sausalito acquisition corp christian chabot patrick hanrahan christopher stolte'],\n",
              "       [datetime.date(2019, 8, 1),\n",
              "        'consent pricewaterhousecoopers llp press release dated august1 2019 audited consolidated financial statements tableau incorporated reference tableaus annual report form 10k year ended december31 2018 filed tableau sec february22 2019 unaudited consolidated financial statements tableau incorporated reference tableaus quarterly report form 10q quarterly period ended june30 2019 filed tableau sec july31 2019 unaudited pro forma combined condensed balance sheet april 30 2019 unaudited pro forma combined condensed statement operations year ended january31 2019 three months ended april30 2019 case incorporated reference amendment 1 salesforces registration statement form s4 registration no333232530 filed salesforce sec july23 2019 ']],\n",
              "      dtype=object)"
            ]
          },
          "metadata": {
            "tags": []
          },
          "execution_count": 171
        }
      ]
    },
    {
      "cell_type": "code",
      "metadata": {
        "id": "dVd3PyxVZa3O",
        "colab_type": "code",
        "outputId": "5f7f345f-d99c-422a-9d2c-222f0f2f4b07",
        "colab": {
          "base_uri": "https://localhost:8080/",
          "height": 207
        }
      },
      "source": [
        "sentences = modified_results[:, 1].tolist()\n",
        "sentences[:10]"
      ],
      "execution_count": 172,
      "outputs": [
        {
          "output_type": "execute_result",
          "data": {
            "text/plain": [
              "['indenture salesforcecom inc us bank national association dated january 19 2010 purchase agreement dated january 12 2010 salesforcecom inc merrill lynch pierce fenner smith incorporated representative several initial purchasers named schedulea thereto form convertible bond hedge confirmation form warrant confirmation press release dated january 19 2010 announcing closing offering notes',\n",
              " 'indenture salesforcecom inc us bank national association dated january 19 2010 purchase agreement dated january 12 2010 salesforcecom inc merrill lynch pierce fenner smith incorporated representative several initial purchasers named schedulea thereto form convertible bond hedge confirmation form warrant confirmation press release dated january 19 2010 announcing closing offering notes',\n",
              " 'press release dated april 21 2010',\n",
              " 'press release dated april 21 2010',\n",
              " 'press release dated october 27 2010',\n",
              " 'agreement plan merger dated december7 2010 among salesforcecom inc hiiaka acquisition corporation heroku inc respect articles vii viii ix thereof john connors stockholder representative us bank national association escrow agent',\n",
              " 'agreement plan merger dated december7 2010 among salesforcecom inc hiiaka acquisition corporation heroku inc respect articles vii viii ix thereof john connors stockholder representative us bank national association escrow agent',\n",
              " 'agreement plan merger dated december7 2010 among salesforcecom inc hiiaka acquisition corporation heroku inc respect articles vii viii ix thereof john connors stockholder representative us bank national association escrow agent',\n",
              " 'share purchase agreement dated march30 2011 among salesforcecom inc salesforcecom canada corporation radian6 technologies inc shareholders company shareholder representative',\n",
              " 'share purchase agreement dated march30 2011 among salesforcecom inc salesforcecom canada corporation radian6 technologies inc radian6 technologies inc shareholders shareholder representative incorporated herein reference exhibit 21 companys current report form8k fileno 00132224 filed march 30 2011 ']"
            ]
          },
          "metadata": {
            "tags": []
          },
          "execution_count": 172
        }
      ]
    },
    {
      "cell_type": "code",
      "metadata": {
        "id": "N5KQLWYVd6gF",
        "colab_type": "code",
        "colab": {}
      },
      "source": [
        "# Set up tokenizer and convert text to numerial sequences\n",
        "tokenizer = Tokenizer(oov_token=oov_tok)\n",
        "tokenizer.fit_on_texts(sentences)"
      ],
      "execution_count": 0,
      "outputs": []
    },
    {
      "cell_type": "code",
      "metadata": {
        "id": "cZxgTeb5exZq",
        "colab_type": "code",
        "outputId": "d8e88b2d-5774-4552-a954-4aff99195d36",
        "colab": {
          "base_uri": "https://localhost:8080/",
          "height": 34
        }
      },
      "source": [
        "word_index = tokenizer.word_index\n",
        "vocab_size=len(word_index)\n",
        "vocab_size"
      ],
      "execution_count": 174,
      "outputs": [
        {
          "output_type": "execute_result",
          "data": {
            "text/plain": [
              "303"
            ]
          },
          "metadata": {
            "tags": []
          },
          "execution_count": 174
        }
      ]
    },
    {
      "cell_type": "code",
      "metadata": {
        "id": "zxBh-NCAe0f8",
        "colab_type": "code",
        "colab": {}
      },
      "source": [
        "sequences = tokenizer.texts_to_sequences(sentences)\n",
        "padded = pad_sequences(sequences, maxlen=max_length, padding=padding_type, truncating=trunc_type)"
      ],
      "execution_count": 0,
      "outputs": []
    },
    {
      "cell_type": "code",
      "metadata": {
        "id": "pK7w6_IFe299",
        "colab_type": "code",
        "colab": {}
      },
      "source": [
        "assert padded.shape[0] == len(sentences)"
      ],
      "execution_count": 0,
      "outputs": []
    },
    {
      "cell_type": "code",
      "metadata": {
        "id": "ulphCnLAfNek",
        "colab_type": "code",
        "outputId": "d3a60dfa-8c99-4610-d397-d1b074ae1c9a",
        "colab": {
          "base_uri": "https://localhost:8080/",
          "height": 34
        }
      },
      "source": [
        "padded.shape"
      ],
      "execution_count": 177,
      "outputs": [
        {
          "output_type": "execute_result",
          "data": {
            "text/plain": [
              "(47, 100)"
            ]
          },
          "metadata": {
            "tags": []
          },
          "execution_count": 177
        }
      ]
    },
    {
      "cell_type": "code",
      "metadata": {
        "id": "T6-FOnAhy5pe",
        "colab_type": "code",
        "outputId": "1564beed-0e8e-42c0-8b8f-03cf11bf4f33",
        "colab": {
          "base_uri": "https://localhost:8080/",
          "height": 34
        }
      },
      "source": [
        "type(padded)"
      ],
      "execution_count": 178,
      "outputs": [
        {
          "output_type": "execute_result",
          "data": {
            "text/plain": [
              "numpy.ndarray"
            ]
          },
          "metadata": {
            "tags": []
          },
          "execution_count": 178
        }
      ]
    },
    {
      "cell_type": "code",
      "metadata": {
        "id": "egwZ-g6EfDOw",
        "colab_type": "code",
        "outputId": "549c64e7-8c42-4277-e549-3f1610dfb013",
        "colab": {
          "base_uri": "https://localhost:8080/",
          "height": 204
        }
      },
      "source": [
        "sequences = padded.tolist()\n",
        "dates = modified_results[:, 0].tolist()\n",
        "\n",
        "df_nlp = pd.DataFrame(list(zip(dates, sequences)), columns =['Date', 'Features']) \n",
        "df_nlp.set_index(\"Date\")\n",
        "df_nlp.head()"
      ],
      "execution_count": 179,
      "outputs": [
        {
          "output_type": "execute_result",
          "data": {
            "text/html": [
              "<div>\n",
              "<style scoped>\n",
              "    .dataframe tbody tr th:only-of-type {\n",
              "        vertical-align: middle;\n",
              "    }\n",
              "\n",
              "    .dataframe tbody tr th {\n",
              "        vertical-align: top;\n",
              "    }\n",
              "\n",
              "    .dataframe thead th {\n",
              "        text-align: right;\n",
              "    }\n",
              "</style>\n",
              "<table border=\"1\" class=\"dataframe\">\n",
              "  <thead>\n",
              "    <tr style=\"text-align: right;\">\n",
              "      <th></th>\n",
              "      <th>Date</th>\n",
              "      <th>Features</th>\n",
              "    </tr>\n",
              "  </thead>\n",
              "  <tbody>\n",
              "    <tr>\n",
              "      <th>0</th>\n",
              "      <td>2010-01-19</td>\n",
              "      <td>[61, 4, 3, 30, 11, 25, 26, 2, 48, 75, 17, 36, ...</td>\n",
              "    </tr>\n",
              "    <tr>\n",
              "      <th>1</th>\n",
              "      <td>2010-01-19</td>\n",
              "      <td>[61, 4, 3, 30, 11, 25, 26, 2, 48, 75, 17, 36, ...</td>\n",
              "    </tr>\n",
              "    <tr>\n",
              "      <th>2</th>\n",
              "      <td>2010-04-21</td>\n",
              "      <td>[7, 8, 2, 79, 39, 17, 0, 0, 0, 0, 0, 0, 0, 0, ...</td>\n",
              "    </tr>\n",
              "    <tr>\n",
              "      <th>3</th>\n",
              "      <td>2010-04-21</td>\n",
              "      <td>[7, 8, 2, 79, 39, 17, 0, 0, 0, 0, 0, 0, 0, 0, ...</td>\n",
              "    </tr>\n",
              "    <tr>\n",
              "      <th>4</th>\n",
              "      <td>2010-10-27</td>\n",
              "      <td>[7, 8, 2, 205, 206, 17, 0, 0, 0, 0, 0, 0, 0, 0...</td>\n",
              "    </tr>\n",
              "  </tbody>\n",
              "</table>\n",
              "</div>"
            ],
            "text/plain": [
              "         Date                                           Features\n",
              "0  2010-01-19  [61, 4, 3, 30, 11, 25, 26, 2, 48, 75, 17, 36, ...\n",
              "1  2010-01-19  [61, 4, 3, 30, 11, 25, 26, 2, 48, 75, 17, 36, ...\n",
              "2  2010-04-21  [7, 8, 2, 79, 39, 17, 0, 0, 0, 0, 0, 0, 0, 0, ...\n",
              "3  2010-04-21  [7, 8, 2, 79, 39, 17, 0, 0, 0, 0, 0, 0, 0, 0, ...\n",
              "4  2010-10-27  [7, 8, 2, 205, 206, 17, 0, 0, 0, 0, 0, 0, 0, 0..."
            ]
          },
          "metadata": {
            "tags": []
          },
          "execution_count": 179
        }
      ]
    },
    {
      "cell_type": "markdown",
      "metadata": {
        "id": "StaW-rvEYfoj",
        "colab_type": "text"
      },
      "source": [
        "## Set up word embedding model"
      ]
    },
    {
      "cell_type": "code",
      "metadata": {
        "id": "pkngQNEmYVfj",
        "colab_type": "code",
        "colab": {}
      },
      "source": [
        "# Takes 3 mins to load\n",
        "embeddings_index = {};\n",
        "with open(ROOT_DIR + 'glove.840B.300d.txt', encoding='utf8') as f:\n",
        "    for line in f:\n",
        "        values = line.split();\n",
        "        word = ''.join(values[:-300])\n",
        "        coefs = np.asarray(values[-300:], dtype='float32')\n",
        "        embeddings_index[word] = coefs;\n",
        "\n",
        "embeddings_matrix = np.zeros((vocab_size, embedding_dim));\n",
        "for word, i in word_index.items():\n",
        "    embedding_vector = embeddings_index.get(word);\n",
        "    if embedding_vector is not None:\n",
        "        embeddings_matrix[i] = embedding_vector"
      ],
      "execution_count": 0,
      "outputs": []
    },
    {
      "cell_type": "markdown",
      "metadata": {
        "id": "rWYSVF1qTYK3",
        "colab_type": "text"
      },
      "source": [
        "## Load time series dataset\n"
      ]
    },
    {
      "cell_type": "code",
      "metadata": {
        "id": "hJf__3pjTRkb",
        "colab_type": "code",
        "colab": {}
      },
      "source": [
        "df_tseries = pd.read_csv(ROOT_DIR + 'CRM.csv',index_col=\"Date\",parse_dates=True)"
      ],
      "execution_count": 0,
      "outputs": []
    },
    {
      "cell_type": "code",
      "metadata": {
        "id": "gnqP440vMnhe",
        "colab_type": "code",
        "outputId": "7bd0c605-8a7d-4d59-f31e-800b018d49db",
        "colab": {
          "base_uri": "https://localhost:8080/",
          "height": 34
        }
      },
      "source": [
        "df_tseries.shape"
      ],
      "execution_count": 182,
      "outputs": [
        {
          "output_type": "execute_result",
          "data": {
            "text/plain": [
              "(2549, 6)"
            ]
          },
          "metadata": {
            "tags": []
          },
          "execution_count": 182
        }
      ]
    },
    {
      "cell_type": "code",
      "metadata": {
        "id": "4SmfONfdTrqY",
        "colab_type": "code",
        "outputId": "8bf7e750-a16d-4157-e58a-4f6fa0df43a8",
        "colab": {
          "base_uri": "https://localhost:8080/",
          "height": 387
        }
      },
      "source": [
        "df_tseries['Open'].plot(figsize=(16,6))"
      ],
      "execution_count": 183,
      "outputs": [
        {
          "output_type": "execute_result",
          "data": {
            "text/plain": [
              "<matplotlib.axes._subplots.AxesSubplot at 0x7f6ca4280390>"
            ]
          },
          "metadata": {
            "tags": []
          },
          "execution_count": 183
        },
        {
          "output_type": "display_data",
          "data": {
            "image/png": "[encoded data removed]",
            "text/plain": [
              "<Figure size 1152x432 with 1 Axes>"
            ]
          },
          "metadata": {
            "tags": []
          }
        }
      ]
    },
    {
      "cell_type": "code",
      "metadata": {
        "id": "SxEgWBP2ViY6",
        "colab_type": "code",
        "colab": {}
      },
      "source": [
        "# # convert column \"a\" of a DataFrame\n",
        "# df_tseries[\"Close\"] = df_tseries[\"Close\"].str.replace(',', '').astype(float)\n",
        "# df_tseries[\"Volume\"] = df_tseries[\"Volume\"].str.replace(',', '').astype(float)"
      ],
      "execution_count": 0,
      "outputs": []
    },
    {
      "cell_type": "code",
      "metadata": {
        "id": "2jEL6DTXXm3f",
        "colab_type": "code",
        "outputId": "b7247716-a3f1-47da-d2ec-3e5bc8f3eff1",
        "colab": {
          "base_uri": "https://localhost:8080/",
          "height": 387
        }
      },
      "source": [
        "df_tseries['Open'].plot(figsize=(16,6))\n",
        "df_tseries.rolling(window=30).mean()['Close'].plot()"
      ],
      "execution_count": 185,
      "outputs": [
        {
          "output_type": "execute_result",
          "data": {
            "text/plain": [
              "<matplotlib.axes._subplots.AxesSubplot at 0x7f6c90e1a828>"
            ]
          },
          "metadata": {
            "tags": []
          },
          "execution_count": 185
        },
        {
          "output_type": "display_data",
          "data": {
            "image/png": "[encoded data removed]",
            "text/plain": [
              "<Figure size 1152x432 with 1 Axes>"
            ]
          },
          "metadata": {
            "tags": []
          }
        }
      ]
    },
    {
      "cell_type": "code",
      "metadata": {
        "id": "Oe3raLObXuz4",
        "colab_type": "code",
        "outputId": "3b1b69e5-f55a-48e4-dcbf-4ca84f31bbb4",
        "colab": {
          "base_uri": "https://localhost:8080/",
          "height": 385
        }
      },
      "source": [
        "df_tseries['Close: 30 Day Mean'] = df_tseries['Close'].rolling(window=30).mean()\n",
        "df_tseries[['Close','Close: 30 Day Mean']].plot(figsize=(16,6))"
      ],
      "execution_count": 186,
      "outputs": [
        {
          "output_type": "execute_result",
          "data": {
            "text/plain": [
              "<matplotlib.axes._subplots.AxesSubplot at 0x7f6b770a6f98>"
            ]
          },
          "metadata": {
            "tags": []
          },
          "execution_count": 186
        },
        {
          "output_type": "display_data",
          "data": {
            "image/png": "[encoded data removed]",
            "text/plain": [
              "<Figure size 1152x432 with 1 Axes>"
            ]
          },
          "metadata": {
            "tags": []
          }
        }
      ]
    },
    {
      "cell_type": "code",
      "metadata": {
        "id": "k3ANYLSeYSlE",
        "colab_type": "code",
        "outputId": "3a291a0f-45a5-4775-d24b-0a4dfa7fbf51",
        "colab": {
          "base_uri": "https://localhost:8080/",
          "height": 384
        }
      },
      "source": [
        "# Optional specify a minimum number of periods\n",
        "df_tseries['Close'].expanding(min_periods=1).mean().plot(figsize=(16,6))"
      ],
      "execution_count": 187,
      "outputs": [
        {
          "output_type": "execute_result",
          "data": {
            "text/plain": [
              "<matplotlib.axes._subplots.AxesSubplot at 0x7f6ca42a7320>"
            ]
          },
          "metadata": {
            "tags": []
          },
          "execution_count": 187
        },
        {
          "output_type": "display_data",
          "data": {
            "image/png": "[encoded data removed]",
            "text/plain": [
              "<Figure size 1152x432 with 1 Axes>"
            ]
          },
          "metadata": {
            "tags": []
          }
        }
      ]
    },
    {
      "cell_type": "markdown",
      "metadata": {
        "id": "_J-R1Kv7kj8i",
        "colab_type": "text"
      },
      "source": [
        "## Merge two dataframes\n"
      ]
    },
    {
      "cell_type": "code",
      "metadata": {
        "id": "yS6WJf4FkZaz",
        "colab_type": "code",
        "outputId": "fda84cc0-7342-4ba7-89f3-ef01018c553e",
        "colab": {
          "base_uri": "https://localhost:8080/",
          "height": 85
        }
      },
      "source": [
        "print(type(df_tseries))\n",
        "print(type(df_nlp))\n",
        "\n",
        "print(df_tseries.shape)\n",
        "print(df_nlp.shape)"
      ],
      "execution_count": 188,
      "outputs": [
        {
          "output_type": "stream",
          "text": [
            "<class 'pandas.core.frame.DataFrame'>\n",
            "<class 'pandas.core.frame.DataFrame'>\n",
            "(2549, 7)\n",
            "(47, 2)\n"
          ],
          "name": "stdout"
        }
      ]
    },
    {
      "cell_type": "code",
      "metadata": {
        "id": "y06KykWNk4ap",
        "colab_type": "code",
        "colab": {}
      },
      "source": [
        "merged_df = df_tseries.join(df_nlp)"
      ],
      "execution_count": 0,
      "outputs": []
    },
    {
      "cell_type": "code",
      "metadata": {
        "id": "nwr4w1k6lqS9",
        "colab_type": "code",
        "outputId": "2da6c1a2-f1ea-4216-c86e-d46e6d3308b7",
        "colab": {
          "base_uri": "https://localhost:8080/",
          "height": 450
        }
      },
      "source": [
        "isnull = merged_df.Features.isnull()\n",
        "merged_df.loc[isnull, 'Features'] = [ [[0] * 100] * isnull.sum() ]\n",
        "merged_df"
      ],
      "execution_count": 190,
      "outputs": [
        {
          "output_type": "execute_result",
          "data": {
            "text/html": [
              "<div>\n",
              "<style scoped>\n",
              "    .dataframe tbody tr th:only-of-type {\n",
              "        vertical-align: middle;\n",
              "    }\n",
              "\n",
              "    .dataframe tbody tr th {\n",
              "        vertical-align: top;\n",
              "    }\n",
              "\n",
              "    .dataframe thead th {\n",
              "        text-align: right;\n",
              "    }\n",
              "</style>\n",
              "<table border=\"1\" class=\"dataframe\">\n",
              "  <thead>\n",
              "    <tr style=\"text-align: right;\">\n",
              "      <th></th>\n",
              "      <th>Open</th>\n",
              "      <th>High</th>\n",
              "      <th>Low</th>\n",
              "      <th>Close</th>\n",
              "      <th>Adj Close</th>\n",
              "      <th>Volume</th>\n",
              "      <th>Close: 30 Day Mean</th>\n",
              "      <th>Date</th>\n",
              "      <th>Features</th>\n",
              "    </tr>\n",
              "    <tr>\n",
              "      <th>Date</th>\n",
              "      <th></th>\n",
              "      <th></th>\n",
              "      <th></th>\n",
              "      <th></th>\n",
              "      <th></th>\n",
              "      <th></th>\n",
              "      <th></th>\n",
              "      <th></th>\n",
              "      <th></th>\n",
              "    </tr>\n",
              "  </thead>\n",
              "  <tbody>\n",
              "    <tr>\n",
              "      <th>2010-01-04</th>\n",
              "      <td>18.652500</td>\n",
              "      <td>18.882500</td>\n",
              "      <td>18.547501</td>\n",
              "      <td>18.705000</td>\n",
              "      <td>18.705000</td>\n",
              "      <td>7906000</td>\n",
              "      <td>NaN</td>\n",
              "      <td>NaN</td>\n",
              "      <td>[0, 0, 0, 0, 0, 0, 0, 0, 0, 0, 0, 0, 0, 0, 0, ...</td>\n",
              "    </tr>\n",
              "    <tr>\n",
              "      <th>2010-01-05</th>\n",
              "      <td>18.612499</td>\n",
              "      <td>18.750000</td>\n",
              "      <td>18.200001</td>\n",
              "      <td>18.625000</td>\n",
              "      <td>18.625000</td>\n",
              "      <td>7942400</td>\n",
              "      <td>NaN</td>\n",
              "      <td>NaN</td>\n",
              "      <td>[0, 0, 0, 0, 0, 0, 0, 0, 0, 0, 0, 0, 0, 0, 0, ...</td>\n",
              "    </tr>\n",
              "    <tr>\n",
              "      <th>2010-01-06</th>\n",
              "      <td>18.687500</td>\n",
              "      <td>18.750000</td>\n",
              "      <td>18.495001</td>\n",
              "      <td>18.592501</td>\n",
              "      <td>18.592501</td>\n",
              "      <td>5122400</td>\n",
              "      <td>NaN</td>\n",
              "      <td>NaN</td>\n",
              "      <td>[0, 0, 0, 0, 0, 0, 0, 0, 0, 0, 0, 0, 0, 0, 0, ...</td>\n",
              "    </tr>\n",
              "    <tr>\n",
              "      <th>2010-01-07</th>\n",
              "      <td>18.629999</td>\n",
              "      <td>18.737499</td>\n",
              "      <td>18.385000</td>\n",
              "      <td>18.510000</td>\n",
              "      <td>18.510000</td>\n",
              "      <td>4840000</td>\n",
              "      <td>NaN</td>\n",
              "      <td>NaN</td>\n",
              "      <td>[0, 0, 0, 0, 0, 0, 0, 0, 0, 0, 0, 0, 0, 0, 0, ...</td>\n",
              "    </tr>\n",
              "    <tr>\n",
              "      <th>2010-01-08</th>\n",
              "      <td>18.517500</td>\n",
              "      <td>18.587500</td>\n",
              "      <td>18.315001</td>\n",
              "      <td>18.537500</td>\n",
              "      <td>18.537500</td>\n",
              "      <td>5510400</td>\n",
              "      <td>NaN</td>\n",
              "      <td>NaN</td>\n",
              "      <td>[0, 0, 0, 0, 0, 0, 0, 0, 0, 0, 0, 0, 0, 0, 0, ...</td>\n",
              "    </tr>\n",
              "    <tr>\n",
              "      <th>...</th>\n",
              "      <td>...</td>\n",
              "      <td>...</td>\n",
              "      <td>...</td>\n",
              "      <td>...</td>\n",
              "      <td>...</td>\n",
              "      <td>...</td>\n",
              "      <td>...</td>\n",
              "      <td>...</td>\n",
              "      <td>...</td>\n",
              "    </tr>\n",
              "    <tr>\n",
              "      <th>2020-02-12</th>\n",
              "      <td>189.710007</td>\n",
              "      <td>190.520004</td>\n",
              "      <td>186.770004</td>\n",
              "      <td>189.460007</td>\n",
              "      <td>189.460007</td>\n",
              "      <td>4535400</td>\n",
              "      <td>181.371334</td>\n",
              "      <td>NaN</td>\n",
              "      <td>[0, 0, 0, 0, 0, 0, 0, 0, 0, 0, 0, 0, 0, 0, 0, ...</td>\n",
              "    </tr>\n",
              "    <tr>\n",
              "      <th>2020-02-13</th>\n",
              "      <td>188.500000</td>\n",
              "      <td>191.050003</td>\n",
              "      <td>188.419998</td>\n",
              "      <td>188.639999</td>\n",
              "      <td>188.639999</td>\n",
              "      <td>3132100</td>\n",
              "      <td>182.238000</td>\n",
              "      <td>NaN</td>\n",
              "      <td>[0, 0, 0, 0, 0, 0, 0, 0, 0, 0, 0, 0, 0, 0, 0, ...</td>\n",
              "    </tr>\n",
              "    <tr>\n",
              "      <th>2020-02-14</th>\n",
              "      <td>189.350006</td>\n",
              "      <td>190.250000</td>\n",
              "      <td>188.100006</td>\n",
              "      <td>189.949997</td>\n",
              "      <td>189.949997</td>\n",
              "      <td>3599400</td>\n",
              "      <td>183.003334</td>\n",
              "      <td>NaN</td>\n",
              "      <td>[0, 0, 0, 0, 0, 0, 0, 0, 0, 0, 0, 0, 0, 0, 0, ...</td>\n",
              "    </tr>\n",
              "    <tr>\n",
              "      <th>2020-02-18</th>\n",
              "      <td>190.949997</td>\n",
              "      <td>191.500000</td>\n",
              "      <td>188.919998</td>\n",
              "      <td>191.089996</td>\n",
              "      <td>191.089996</td>\n",
              "      <td>4957000</td>\n",
              "      <td>183.834000</td>\n",
              "      <td>NaN</td>\n",
              "      <td>[0, 0, 0, 0, 0, 0, 0, 0, 0, 0, 0, 0, 0, 0, 0, ...</td>\n",
              "    </tr>\n",
              "    <tr>\n",
              "      <th>2020-02-19</th>\n",
              "      <td>192.000000</td>\n",
              "      <td>193.919998</td>\n",
              "      <td>191.800003</td>\n",
              "      <td>192.869995</td>\n",
              "      <td>192.869995</td>\n",
              "      <td>3903200</td>\n",
              "      <td>184.481333</td>\n",
              "      <td>NaN</td>\n",
              "      <td>[0, 0, 0, 0, 0, 0, 0, 0, 0, 0, 0, 0, 0, 0, 0, ...</td>\n",
              "    </tr>\n",
              "  </tbody>\n",
              "</table>\n",
              "<p>2549 rows × 9 columns</p>\n",
              "</div>"
            ],
            "text/plain": [
              "                  Open  ...                                           Features\n",
              "Date                    ...                                                   \n",
              "2010-01-04   18.652500  ...  [0, 0, 0, 0, 0, 0, 0, 0, 0, 0, 0, 0, 0, 0, 0, ...\n",
              "2010-01-05   18.612499  ...  [0, 0, 0, 0, 0, 0, 0, 0, 0, 0, 0, 0, 0, 0, 0, ...\n",
              "2010-01-06   18.687500  ...  [0, 0, 0, 0, 0, 0, 0, 0, 0, 0, 0, 0, 0, 0, 0, ...\n",
              "2010-01-07   18.629999  ...  [0, 0, 0, 0, 0, 0, 0, 0, 0, 0, 0, 0, 0, 0, 0, ...\n",
              "2010-01-08   18.517500  ...  [0, 0, 0, 0, 0, 0, 0, 0, 0, 0, 0, 0, 0, 0, 0, ...\n",
              "...                ...  ...                                                ...\n",
              "2020-02-12  189.710007  ...  [0, 0, 0, 0, 0, 0, 0, 0, 0, 0, 0, 0, 0, 0, 0, ...\n",
              "2020-02-13  188.500000  ...  [0, 0, 0, 0, 0, 0, 0, 0, 0, 0, 0, 0, 0, 0, 0, ...\n",
              "2020-02-14  189.350006  ...  [0, 0, 0, 0, 0, 0, 0, 0, 0, 0, 0, 0, 0, 0, 0, ...\n",
              "2020-02-18  190.949997  ...  [0, 0, 0, 0, 0, 0, 0, 0, 0, 0, 0, 0, 0, 0, 0, ...\n",
              "2020-02-19  192.000000  ...  [0, 0, 0, 0, 0, 0, 0, 0, 0, 0, 0, 0, 0, 0, 0, ...\n",
              "\n",
              "[2549 rows x 9 columns]"
            ]
          },
          "metadata": {
            "tags": []
          },
          "execution_count": 190
        }
      ]
    },
    {
      "cell_type": "code",
      "metadata": {
        "id": "gppZ2LkfP4r9",
        "colab_type": "code",
        "outputId": "243e0429-9062-4c15-8b7d-211a6a23842f",
        "colab": {
          "base_uri": "https://localhost:8080/",
          "height": 450
        }
      },
      "source": [
        "merged_df[[\"Open\", \"Features\"]]"
      ],
      "execution_count": 191,
      "outputs": [
        {
          "output_type": "execute_result",
          "data": {
            "text/html": [
              "<div>\n",
              "<style scoped>\n",
              "    .dataframe tbody tr th:only-of-type {\n",
              "        vertical-align: middle;\n",
              "    }\n",
              "\n",
              "    .dataframe tbody tr th {\n",
              "        vertical-align: top;\n",
              "    }\n",
              "\n",
              "    .dataframe thead th {\n",
              "        text-align: right;\n",
              "    }\n",
              "</style>\n",
              "<table border=\"1\" class=\"dataframe\">\n",
              "  <thead>\n",
              "    <tr style=\"text-align: right;\">\n",
              "      <th></th>\n",
              "      <th>Open</th>\n",
              "      <th>Features</th>\n",
              "    </tr>\n",
              "    <tr>\n",
              "      <th>Date</th>\n",
              "      <th></th>\n",
              "      <th></th>\n",
              "    </tr>\n",
              "  </thead>\n",
              "  <tbody>\n",
              "    <tr>\n",
              "      <th>2010-01-04</th>\n",
              "      <td>18.652500</td>\n",
              "      <td>[0, 0, 0, 0, 0, 0, 0, 0, 0, 0, 0, 0, 0, 0, 0, ...</td>\n",
              "    </tr>\n",
              "    <tr>\n",
              "      <th>2010-01-05</th>\n",
              "      <td>18.612499</td>\n",
              "      <td>[0, 0, 0, 0, 0, 0, 0, 0, 0, 0, 0, 0, 0, 0, 0, ...</td>\n",
              "    </tr>\n",
              "    <tr>\n",
              "      <th>2010-01-06</th>\n",
              "      <td>18.687500</td>\n",
              "      <td>[0, 0, 0, 0, 0, 0, 0, 0, 0, 0, 0, 0, 0, 0, 0, ...</td>\n",
              "    </tr>\n",
              "    <tr>\n",
              "      <th>2010-01-07</th>\n",
              "      <td>18.629999</td>\n",
              "      <td>[0, 0, 0, 0, 0, 0, 0, 0, 0, 0, 0, 0, 0, 0, 0, ...</td>\n",
              "    </tr>\n",
              "    <tr>\n",
              "      <th>2010-01-08</th>\n",
              "      <td>18.517500</td>\n",
              "      <td>[0, 0, 0, 0, 0, 0, 0, 0, 0, 0, 0, 0, 0, 0, 0, ...</td>\n",
              "    </tr>\n",
              "    <tr>\n",
              "      <th>...</th>\n",
              "      <td>...</td>\n",
              "      <td>...</td>\n",
              "    </tr>\n",
              "    <tr>\n",
              "      <th>2020-02-12</th>\n",
              "      <td>189.710007</td>\n",
              "      <td>[0, 0, 0, 0, 0, 0, 0, 0, 0, 0, 0, 0, 0, 0, 0, ...</td>\n",
              "    </tr>\n",
              "    <tr>\n",
              "      <th>2020-02-13</th>\n",
              "      <td>188.500000</td>\n",
              "      <td>[0, 0, 0, 0, 0, 0, 0, 0, 0, 0, 0, 0, 0, 0, 0, ...</td>\n",
              "    </tr>\n",
              "    <tr>\n",
              "      <th>2020-02-14</th>\n",
              "      <td>189.350006</td>\n",
              "      <td>[0, 0, 0, 0, 0, 0, 0, 0, 0, 0, 0, 0, 0, 0, 0, ...</td>\n",
              "    </tr>\n",
              "    <tr>\n",
              "      <th>2020-02-18</th>\n",
              "      <td>190.949997</td>\n",
              "      <td>[0, 0, 0, 0, 0, 0, 0, 0, 0, 0, 0, 0, 0, 0, 0, ...</td>\n",
              "    </tr>\n",
              "    <tr>\n",
              "      <th>2020-02-19</th>\n",
              "      <td>192.000000</td>\n",
              "      <td>[0, 0, 0, 0, 0, 0, 0, 0, 0, 0, 0, 0, 0, 0, 0, ...</td>\n",
              "    </tr>\n",
              "  </tbody>\n",
              "</table>\n",
              "<p>2549 rows × 2 columns</p>\n",
              "</div>"
            ],
            "text/plain": [
              "                  Open                                           Features\n",
              "Date                                                                     \n",
              "2010-01-04   18.652500  [0, 0, 0, 0, 0, 0, 0, 0, 0, 0, 0, 0, 0, 0, 0, ...\n",
              "2010-01-05   18.612499  [0, 0, 0, 0, 0, 0, 0, 0, 0, 0, 0, 0, 0, 0, 0, ...\n",
              "2010-01-06   18.687500  [0, 0, 0, 0, 0, 0, 0, 0, 0, 0, 0, 0, 0, 0, 0, ...\n",
              "2010-01-07   18.629999  [0, 0, 0, 0, 0, 0, 0, 0, 0, 0, 0, 0, 0, 0, 0, ...\n",
              "2010-01-08   18.517500  [0, 0, 0, 0, 0, 0, 0, 0, 0, 0, 0, 0, 0, 0, 0, ...\n",
              "...                ...                                                ...\n",
              "2020-02-12  189.710007  [0, 0, 0, 0, 0, 0, 0, 0, 0, 0, 0, 0, 0, 0, 0, ...\n",
              "2020-02-13  188.500000  [0, 0, 0, 0, 0, 0, 0, 0, 0, 0, 0, 0, 0, 0, 0, ...\n",
              "2020-02-14  189.350006  [0, 0, 0, 0, 0, 0, 0, 0, 0, 0, 0, 0, 0, 0, 0, ...\n",
              "2020-02-18  190.949997  [0, 0, 0, 0, 0, 0, 0, 0, 0, 0, 0, 0, 0, 0, 0, ...\n",
              "2020-02-19  192.000000  [0, 0, 0, 0, 0, 0, 0, 0, 0, 0, 0, 0, 0, 0, 0, ...\n",
              "\n",
              "[2549 rows x 2 columns]"
            ]
          },
          "metadata": {
            "tags": []
          },
          "execution_count": 191
        }
      ]
    },
    {
      "cell_type": "markdown",
      "metadata": {
        "id": "aq5m8KUvNY93",
        "colab_type": "text"
      },
      "source": [
        "## Create Dataset"
      ]
    },
    {
      "cell_type": "code",
      "metadata": {
        "id": "q9XuTvtjonEU",
        "colab_type": "code",
        "colab": {}
      },
      "source": [
        "# Feature Scaling\n",
        "from sklearn.preprocessing import MinMaxScaler\n",
        "sc = MinMaxScaler(feature_range = (0, 1))"
      ],
      "execution_count": 0,
      "outputs": []
    },
    {
      "cell_type": "code",
      "metadata": {
        "id": "s2XR4mfxl9-O",
        "colab_type": "code",
        "colab": {}
      },
      "source": [
        "X_price = []\n",
        "X_nlp = []\n",
        "y = []"
      ],
      "execution_count": 0,
      "outputs": []
    },
    {
      "cell_type": "code",
      "metadata": {
        "id": "4SWgQD3KqBH7",
        "colab_type": "code",
        "outputId": "cd0b058e-8491-4551-ef3d-8b76821931ee",
        "colab": {
          "base_uri": "https://localhost:8080/",
          "height": 51
        }
      },
      "source": [
        "prices = pd.DataFrame(merged_df['Open'])\n",
        "prices_scaled = sc.fit_transform(prices)\n",
        "nlp_features = np.array(merged_df['Features'].to_list())\n",
        "\n",
        "print(prices_scaled.shape)\n",
        "print(nlp_features.shape)"
      ],
      "execution_count": 194,
      "outputs": [
        {
          "output_type": "stream",
          "text": [
            "(2549, 1)\n",
            "(2549, 100)\n"
          ],
          "name": "stdout"
        }
      ]
    },
    {
      "cell_type": "code",
      "metadata": {
        "id": "3eVp8ITvqCbe",
        "colab_type": "code",
        "colab": {}
      },
      "source": [
        "for i in range(60, merged_df.shape[0] - 1):\n",
        "  X_price.append(prices_scaled[i-60:i, 0])\n",
        "  X_nlp.append(nlp_features[i-60:i].flatten())\n",
        "  y.append(prices_scaled[i, 0])\n",
        "\n",
        "X_price, X_nlp, y = np.array(X_price), np.array(X_nlp), np.array(y)"
      ],
      "execution_count": 0,
      "outputs": []
    },
    {
      "cell_type": "code",
      "metadata": {
        "id": "0Y0_REVnqCZu",
        "colab_type": "code",
        "outputId": "49eefd79-e53d-4eeb-ad3a-cd9176d58efe",
        "colab": {
          "base_uri": "https://localhost:8080/",
          "height": 34
        }
      },
      "source": [
        "X_nlp.shape # 60*100 in one timestep prediction"
      ],
      "execution_count": 196,
      "outputs": [
        {
          "output_type": "execute_result",
          "data": {
            "text/plain": [
              "(2488, 6000)"
            ]
          },
          "metadata": {
            "tags": []
          },
          "execution_count": 196
        }
      ]
    },
    {
      "cell_type": "markdown",
      "metadata": {
        "id": "Tq3iL3Xevk5-",
        "colab_type": "text"
      },
      "source": [
        "## Train Test Split"
      ]
    },
    {
      "cell_type": "code",
      "metadata": {
        "id": "J6r2_p94UdJP",
        "colab_type": "code",
        "colab": {}
      },
      "source": [
        "# Train-test split\n",
        "# For time series data, we cannot do a random split\n",
        "total_num = X_price.shape[0]\n",
        "\n",
        "X_price_train = X_price[:int(total_num * split_size)]\n",
        "X_price_test = X_price[int(total_num * split_size):]\n",
        "X_nlp_train = X_nlp[:int(total_num * split_size)]\n",
        "X_nlp_test = X_nlp[int(total_num * split_size):]\n",
        "y_train = y[:int(total_num * split_size)]\n",
        "y_test = y[int(total_num * split_size):]"
      ],
      "execution_count": 0,
      "outputs": []
    },
    {
      "cell_type": "code",
      "metadata": {
        "id": "KC1aAPcFVzpc",
        "colab_type": "code",
        "outputId": "a20618cb-9bfc-4129-b9fb-1c216e2ca11d",
        "colab": {
          "base_uri": "https://localhost:8080/",
          "height": 34
        }
      },
      "source": [
        "X_nlp_train.shape"
      ],
      "execution_count": 341,
      "outputs": [
        {
          "output_type": "execute_result",
          "data": {
            "text/plain": [
              "(746, 6000)"
            ]
          },
          "metadata": {
            "tags": []
          },
          "execution_count": 341
        }
      ]
    },
    {
      "cell_type": "markdown",
      "metadata": {
        "id": "Ihbs5Fq8NTuN",
        "colab_type": "text"
      },
      "source": [
        "## Build and Train Model"
      ]
    },
    {
      "cell_type": "code",
      "metadata": {
        "id": "2VwcGhxyQfCd",
        "colab_type": "code",
        "colab": {}
      },
      "source": [
        "import tensorflow as tf\n",
        "from tensorflow.keras.models import Model\n",
        "from tensorflow.keras.models import Sequential\n",
        "from tensorflow.keras.layers import Input, Dense, LSTM, Dropout, Conv1D, MaxPooling1D, Embedding, concatenate"
      ],
      "execution_count": 0,
      "outputs": []
    },
    {
      "cell_type": "code",
      "metadata": {
        "id": "Yd6gnBt1H902",
        "colab_type": "code",
        "colab": {}
      },
      "source": [
        "# Build regressor to take care of price inputs\n",
        "regressor = Input(shape=(X_price.shape[1], 1))\n",
        "reg_input = regressor\n",
        "regressor = LSTM(units = num_units_lstm, return_sequences = True)(regressor)\n",
        "regressor = Dropout(dp)(regressor)\n",
        "regressor = LSTM(units = num_units_lstm, return_sequences = True)(regressor)\n",
        "regressor = Dropout(dp)(regressor)\n",
        "regressor = LSTM(units = num_units_lstm, return_sequences = True)(regressor)\n",
        "regressor = Dropout(dp)(regressor)\n",
        "regressor = LSTM(units = num_units_lstm)(regressor)\n",
        "regressor = Dropout(dp)(regressor)"
      ],
      "execution_count": 0,
      "outputs": []
    },
    {
      "cell_type": "code",
      "metadata": {
        "id": "KBH_Tao2ItP0",
        "colab_type": "code",
        "colab": {}
      },
      "source": [
        "# Build classifier\n",
        "classifier = Input(shape=(X_nlp.shape[1], ))\n",
        "cls_input = classifier\n",
        "classifier = Embedding(vocab_size, \n",
        "                       embedding_dim, \n",
        "                       input_length=max_length, \n",
        "                       weights=[embeddings_matrix], \n",
        "                       trainable=False)(classifier)\n",
        "classifier = Dropout(dp)(classifier)\n",
        "classifier = Conv1D(num_units_lstm, 5, activation='relu')(classifier)\n",
        "classifier = MaxPooling1D(pool_size=4)(classifier)\n",
        "classifier = LSTM(num_units_lstm)(classifier)"
      ],
      "execution_count": 0,
      "outputs": []
    },
    {
      "cell_type": "code",
      "metadata": {
        "id": "UG4JsuxHHz_o",
        "colab_type": "code",
        "outputId": "43e61ffa-98b3-4862-dd86-75fd3c1ba834",
        "colab": {
          "base_uri": "https://localhost:8080/",
          "height": 51
        }
      },
      "source": [
        "print(regressor)\n",
        "print(classifier)"
      ],
      "execution_count": 345,
      "outputs": [
        {
          "output_type": "stream",
          "text": [
            "Tensor(\"dropout_98/Identity:0\", shape=(None, 64), dtype=float32)\n",
            "Tensor(\"lstm_99/Identity:0\", shape=(None, 64), dtype=float32)\n"
          ],
          "name": "stdout"
        }
      ]
    },
    {
      "cell_type": "code",
      "metadata": {
        "id": "v_Dkk4L2JWJN",
        "colab_type": "code",
        "outputId": "95d07d5f-7ca0-44b3-971f-4d5a11c73ae8",
        "colab": {
          "base_uri": "https://localhost:8080/",
          "height": 748
        }
      },
      "source": [
        "# Integrate regressor and classifier\n",
        "if train_mode == \"nlp\":\n",
        "  merged = concatenate([regressor, classifier])\n",
        "  output = Dense(units=1)(merged)\n",
        "  model = Model(inputs=[reg_input, cls_input], outputs=[output])\n",
        "else:\n",
        "  merged = regressor\n",
        "  output = Dense(units=1)(merged)\n",
        "  model = Model(inputs=[reg_input], outputs=[output])\n",
        "\n",
        "\n",
        "model.compile(optimizer = 'adam', loss = 'mean_squared_error')\n",
        "model.summary()"
      ],
      "execution_count": 346,
      "outputs": [
        {
          "output_type": "stream",
          "text": [
            "Model: \"model_24\"\n",
            "__________________________________________________________________________________________________\n",
            "Layer (type)                    Output Shape         Param #     Connected to                     \n",
            "==================================================================================================\n",
            "input_39 (InputLayer)           [(None, 60, 1)]      0                                            \n",
            "__________________________________________________________________________________________________\n",
            "lstm_95 (LSTM)                  (None, 60, 64)       16896       input_39[0][0]                   \n",
            "__________________________________________________________________________________________________\n",
            "dropout_95 (Dropout)            (None, 60, 64)       0           lstm_95[0][0]                    \n",
            "__________________________________________________________________________________________________\n",
            "lstm_96 (LSTM)                  (None, 60, 64)       33024       dropout_95[0][0]                 \n",
            "__________________________________________________________________________________________________\n",
            "input_40 (InputLayer)           [(None, 6000)]       0                                            \n",
            "__________________________________________________________________________________________________\n",
            "dropout_96 (Dropout)            (None, 60, 64)       0           lstm_96[0][0]                    \n",
            "__________________________________________________________________________________________________\n",
            "embedding_19 (Embedding)        (None, 6000, 300)    90900       input_40[0][0]                   \n",
            "__________________________________________________________________________________________________\n",
            "lstm_97 (LSTM)                  (None, 60, 64)       33024       dropout_96[0][0]                 \n",
            "__________________________________________________________________________________________________\n",
            "dropout_99 (Dropout)            (None, 6000, 300)    0           embedding_19[0][0]               \n",
            "__________________________________________________________________________________________________\n",
            "dropout_97 (Dropout)            (None, 60, 64)       0           lstm_97[0][0]                    \n",
            "__________________________________________________________________________________________________\n",
            "conv1d_19 (Conv1D)              (None, 5996, 64)     96064       dropout_99[0][0]                 \n",
            "__________________________________________________________________________________________________\n",
            "lstm_98 (LSTM)                  (None, 64)           33024       dropout_97[0][0]                 \n",
            "__________________________________________________________________________________________________\n",
            "max_pooling1d_19 (MaxPooling1D) (None, 1499, 64)     0           conv1d_19[0][0]                  \n",
            "__________________________________________________________________________________________________\n",
            "dropout_98 (Dropout)            (None, 64)           0           lstm_98[0][0]                    \n",
            "__________________________________________________________________________________________________\n",
            "lstm_99 (LSTM)                  (None, 64)           33024       max_pooling1d_19[0][0]           \n",
            "__________________________________________________________________________________________________\n",
            "concatenate_13 (Concatenate)    (None, 128)          0           dropout_98[0][0]                 \n",
            "                                                                 lstm_99[0][0]                    \n",
            "__________________________________________________________________________________________________\n",
            "dense_23 (Dense)                (None, 1)            129         concatenate_13[0][0]             \n",
            "==================================================================================================\n",
            "Total params: 336,085\n",
            "Trainable params: 245,185\n",
            "Non-trainable params: 90,900\n",
            "__________________________________________________________________________________________________\n"
          ],
          "name": "stdout"
        }
      ]
    },
    {
      "cell_type": "code",
      "metadata": {
        "id": "iiSnuX__LarX",
        "colab_type": "code",
        "outputId": "e368c5ab-87b0-4dd0-c803-8144fd542e67",
        "colab": {
          "base_uri": "https://localhost:8080/",
          "height": 697
        }
      },
      "source": [
        "if train_mode == \"nlp\":\n",
        "  history = model.fit([X_price_train, X_nlp_train], \n",
        "                    y_train, \n",
        "                    epochs = 20, \n",
        "                    batch_size = 32, \n",
        "                    validation_data=([X_price_test, X_nlp_test], y_test))\n",
        "else:\n",
        "  history = model.fit(X_price_train, \n",
        "                    y_train, \n",
        "                    epochs = 20, \n",
        "                    batch_size = 32, \n",
        "                    validation_data=(X_price_test, y_test))"
      ],
      "execution_count": 347,
      "outputs": [
        {
          "output_type": "stream",
          "text": [
            "Epoch 1/20\n",
            "24/24 [==============================] - 11s 438ms/step - loss: 0.0018 - val_loss: 0.1168\n",
            "Epoch 2/20\n",
            "24/24 [==============================] - 9s 383ms/step - loss: 5.5711e-04 - val_loss: 0.0117\n",
            "Epoch 3/20\n",
            "24/24 [==============================] - 9s 383ms/step - loss: 2.6570e-04 - val_loss: 0.0081\n",
            "Epoch 4/20\n",
            "24/24 [==============================] - 9s 382ms/step - loss: 2.2814e-04 - val_loss: 0.0113\n",
            "Epoch 5/20\n",
            "24/24 [==============================] - 9s 383ms/step - loss: 2.4617e-04 - val_loss: 0.0118\n",
            "Epoch 6/20\n",
            "24/24 [==============================] - 9s 379ms/step - loss: 1.9401e-04 - val_loss: 0.0080\n",
            "Epoch 7/20\n",
            "24/24 [==============================] - 9s 380ms/step - loss: 1.8493e-04 - val_loss: 0.0033\n",
            "Epoch 8/20\n",
            "24/24 [==============================] - 9s 380ms/step - loss: 1.7195e-04 - val_loss: 0.0038\n",
            "Epoch 9/20\n",
            "24/24 [==============================] - 9s 381ms/step - loss: 1.5344e-04 - val_loss: 0.0060\n",
            "Epoch 10/20\n",
            "24/24 [==============================] - 9s 380ms/step - loss: 1.8909e-04 - val_loss: 0.0037\n",
            "Epoch 11/20\n",
            "24/24 [==============================] - 9s 380ms/step - loss: 1.5982e-04 - val_loss: 0.0028\n",
            "Epoch 12/20\n",
            "24/24 [==============================] - 9s 379ms/step - loss: 1.7769e-04 - val_loss: 0.0032\n",
            "Epoch 13/20\n",
            "24/24 [==============================] - 9s 378ms/step - loss: 1.4846e-04 - val_loss: 0.0015\n",
            "Epoch 14/20\n",
            "24/24 [==============================] - 9s 379ms/step - loss: 1.5285e-04 - val_loss: 0.0047\n",
            "Epoch 15/20\n",
            "24/24 [==============================] - 9s 377ms/step - loss: 1.4453e-04 - val_loss: 0.0046\n",
            "Epoch 16/20\n",
            "24/24 [==============================] - 9s 378ms/step - loss: 1.6102e-04 - val_loss: 0.0054\n",
            "Epoch 17/20\n",
            "24/24 [==============================] - 9s 379ms/step - loss: 1.3896e-04 - val_loss: 0.0025\n",
            "Epoch 18/20\n",
            "24/24 [==============================] - 9s 378ms/step - loss: 1.2582e-04 - val_loss: 0.0015\n",
            "Epoch 19/20\n",
            "24/24 [==============================] - 9s 377ms/step - loss: 1.3172e-04 - val_loss: 0.0030\n",
            "Epoch 20/20\n",
            "24/24 [==============================] - 9s 379ms/step - loss: 1.4484e-04 - val_loss: 0.0018\n"
          ],
          "name": "stdout"
        }
      ]
    },
    {
      "cell_type": "markdown",
      "metadata": {
        "id": "xTzUB1juo5Ae",
        "colab_type": "text"
      },
      "source": [
        "## View Train-test loss performacne"
      ]
    },
    {
      "cell_type": "code",
      "metadata": {
        "id": "ppfhQgdvo7Cg",
        "colab_type": "code",
        "outputId": "a5276b55-9a1f-4b07-8f18-829c71fbb219",
        "colab": {
          "base_uri": "https://localhost:8080/",
          "height": 295
        }
      },
      "source": [
        "plt.plot(history.history['loss'], label=\"Train loss\")\n",
        "plt.plot(history.history['val_loss'], label=\"Test loss\")\n",
        "plt.xlabel('Epochs')\n",
        "plt.ylabel('MSE')\n",
        "fig_name = \"Train and Test Loss (30/70 split)\"\n",
        "plt.title(fig_name)\n",
        "plt.legend()\n",
        "plt.grid()"
      ],
      "execution_count": 348,
      "outputs": [
        {
          "output_type": "display_data",
          "data": {
            "image/png": "[encoded data removed]",
            "text/plain": [
              "<Figure size 432x288 with 1 Axes>"
            ]
          },
          "metadata": {
            "tags": []
          }
        }
      ]
    },
    {
      "cell_type": "markdown",
      "metadata": {
        "id": "I_f6BGZqWb8q",
        "colab_type": "text"
      },
      "source": [
        "## Visualize Training Fitting Performance"
      ]
    },
    {
      "cell_type": "code",
      "metadata": {
        "id": "PqZ5K-HcLvgE",
        "colab_type": "code",
        "colab": {}
      },
      "source": [
        "real_stock_prices = y_train.tolist()\n",
        "\n",
        "if train_mode == \"nlp\":\n",
        "  pred_stock_prices = model.predict([X_price_train, X_nlp_train]).tolist()\n",
        "else:\n",
        "  pred_stock_prices = model.predict(X_price_train).tolist()"
      ],
      "execution_count": 0,
      "outputs": []
    },
    {
      "cell_type": "code",
      "metadata": {
        "id": "KFuqGsoHPr3x",
        "colab_type": "code",
        "outputId": "45b5257f-d2f6-4073-b415-8203ebabc9f1",
        "colab": {
          "base_uri": "https://localhost:8080/",
          "height": 295
        }
      },
      "source": [
        "# Visualising the results\n",
        "plt.plot(real_stock_prices, color = 'red', label = 'Real Salesforce Stock Price')\n",
        "plt.plot(pred_stock_prices, color = 'blue', label = 'Predicted Salesforce Stock Price')\n",
        "plt.title('Salesforce Stock Price Prediction in Training set')\n",
        "plt.xlabel('Time')\n",
        "plt.ylabel('Salesforce Stock Price')\n",
        "plt.legend()\n",
        "plt.show()"
      ],
      "execution_count": 350,
      "outputs": [
        {
          "output_type": "display_data",
          "data": {
            "image/png": "[encoded data removed]",
            "text/plain": [
              "<Figure size 432x288 with 1 Axes>"
            ]
          },
          "metadata": {
            "tags": []
          }
        }
      ]
    },
    {
      "cell_type": "markdown",
      "metadata": {
        "id": "grtXnEzGWesQ",
        "colab_type": "text"
      },
      "source": [
        "## Visualizing Test Fitting Performance"
      ]
    },
    {
      "cell_type": "code",
      "metadata": {
        "id": "G3lpbOvxPzCk",
        "colab_type": "code",
        "colab": {}
      },
      "source": [
        "real_stock_prices = y_test.tolist()\n",
        "\n",
        "if train_mode == \"nlp\":\n",
        "  pred_stock_prices = model.predict([X_price_test, X_nlp_test]).tolist()\n",
        "else:\n",
        "  pred_stock_prices = model.predict(X_price_test).tolist()"
      ],
      "execution_count": 0,
      "outputs": []
    },
    {
      "cell_type": "code",
      "metadata": {
        "id": "0vRQeokfWkti",
        "colab_type": "code",
        "outputId": "9e0b2cb7-5a21-489d-be0c-bdc305fd99e6",
        "colab": {
          "base_uri": "https://localhost:8080/",
          "height": 295
        }
      },
      "source": [
        "# Visualising the results\n",
        "plt.plot(real_stock_prices, color = 'red', label = 'Real Salesforce Stock Price')\n",
        "plt.plot(pred_stock_prices, color = 'blue', label = 'Predicted Salesforce Stock Price')\n",
        "plt.title('Salesforce Stock Price Prediction in Test (30/70 split)')\n",
        "plt.xlabel('Time')\n",
        "plt.ylabel('Salesforce Stock Price')\n",
        "plt.legend()\n",
        "plt.show()"
      ],
      "execution_count": 352,
      "outputs": [
        {
          "output_type": "display_data",
          "data": {
            "image/png": "[encoded data removed]",
            "text/plain": [
              "<Figure size 432x288 with 1 Axes>"
            ]
          },
          "metadata": {
            "tags": []
          }
        }
      ]
    },
    {
      "cell_type": "markdown",
      "metadata": {
        "id": "A4eOyJr5X3iP",
        "colab_type": "text"
      },
      "source": [
        "## Visualize Fitting in the full time range (train + test)"
      ]
    },
    {
      "cell_type": "code",
      "metadata": {
        "id": "pR2H9zuuW-D9",
        "colab_type": "code",
        "colab": {}
      },
      "source": [
        "real_stock_prices = y.tolist()\n",
        "\n",
        "if train_mode == \"nlp\":\n",
        "  pred_stock_prices = model.predict([X_price, X_nlp]).tolist()\n",
        "else:\n",
        "  pred_stock_prices = model.predict(X_price).tolist()"
      ],
      "execution_count": 0,
      "outputs": []
    },
    {
      "cell_type": "code",
      "metadata": {
        "id": "hVZpThUJX_tz",
        "colab_type": "code",
        "outputId": "f03ebed3-885f-4ae0-9eb5-e903c605bcbc",
        "colab": {
          "base_uri": "https://localhost:8080/",
          "height": 295
        }
      },
      "source": [
        "# Visualising the results\n",
        "plt.plot(real_stock_prices, color = 'red', label = 'Real Salesforce Stock Price')\n",
        "plt.plot(pred_stock_prices, color = 'blue', label = 'Predicted Salesforce Stock Price')\n",
        "plt.title('Salesforce Stock Price Prediction in Full Range (30/70 split)')\n",
        "plt.xlabel('Time')\n",
        "plt.ylabel('Salesforce Stock Price')\n",
        "plt.legend()\n",
        "plt.show()"
      ],
      "execution_count": 354,
      "outputs": [
        {
          "output_type": "display_data",
          "data": {
            "image/png": "[encoded data removed]",
            "text/plain": [
              "<Figure size 432x288 with 1 Axes>"
            ]
          },
          "metadata": {
            "tags": []
          }
        }
      ]
    },
    {
      "cell_type": "code",
      "metadata": {
        "id": "rf-XXyhEZluf",
        "colab_type": "code",
        "colab": {}
      },
      "source": [
        ""
      ],
      "execution_count": 0,
      "outputs": []
    }
  ]
}